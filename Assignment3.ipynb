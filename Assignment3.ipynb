{
  "nbformat": 4,
  "nbformat_minor": 0,
  "metadata": {
    "colab": {
      "name": "Assignment3.ipynb",
      "provenance": [],
      "collapsed_sections": [],
      "include_colab_link": true
    },
    "kernelspec": {
      "name": "python3",
      "display_name": "Python 3"
    },
    "accelerator": "GPU"
  },
  "cells": [
    {
      "cell_type": "markdown",
      "metadata": {
        "id": "view-in-github",
        "colab_type": "text"
      },
      "source": [
        "<a href=\"https://colab.research.google.com/github/freguti/Homework-ML/blob/Homework_3/Assignment3.ipynb\" target=\"_parent\"><img src=\"https://colab.research.google.com/assets/colab-badge.svg\" alt=\"Open In Colab\"/></a>"
      ]
    },
    {
      "cell_type": "markdown",
      "metadata": {
        "id": "c9QcGnGPdX2C",
        "colab_type": "text"
      },
      "source": [
        "\n",
        "**Install requirements**"
      ]
    },
    {
      "cell_type": "code",
      "metadata": {
        "id": "k9O3aM3Tb28q",
        "colab_type": "code",
        "outputId": "f3346256-94df-47d6-ccda-e3c82af611cc",
        "colab": {
          "base_uri": "https://localhost:8080/",
          "height": 182
        }
      },
      "source": [
        "!pip3 install 'torch==1.3.1'\n",
        "!pip3 install 'torchvision==0.4.2'\n",
        "!pip3 install 'Pillow-SIMD'\n",
        "!pip3 install 'tqdm'"
      ],
      "execution_count": 341,
      "outputs": [
        {
          "output_type": "stream",
          "text": [
            "Requirement already satisfied: torch==1.3.1 in /usr/local/lib/python3.6/dist-packages (1.3.1)\n",
            "Requirement already satisfied: numpy in /usr/local/lib/python3.6/dist-packages (from torch==1.3.1) (1.17.5)\n",
            "Requirement already satisfied: torchvision==0.4.2 in /usr/local/lib/python3.6/dist-packages (0.4.2)\n",
            "Requirement already satisfied: torch==1.3.1 in /usr/local/lib/python3.6/dist-packages (from torchvision==0.4.2) (1.3.1)\n",
            "Requirement already satisfied: numpy in /usr/local/lib/python3.6/dist-packages (from torchvision==0.4.2) (1.17.5)\n",
            "Requirement already satisfied: six in /usr/local/lib/python3.6/dist-packages (from torchvision==0.4.2) (1.12.0)\n",
            "Requirement already satisfied: pillow>=4.1.1 in /usr/local/lib/python3.6/dist-packages (from torchvision==0.4.2) (6.2.2)\n",
            "Requirement already satisfied: Pillow-SIMD in /usr/local/lib/python3.6/dist-packages (6.0.0.post0)\n",
            "Requirement already satisfied: tqdm in /usr/local/lib/python3.6/dist-packages (4.28.1)\n"
          ],
          "name": "stdout"
        }
      ]
    },
    {
      "cell_type": "markdown",
      "metadata": {
        "id": "fo942LMOdlh4",
        "colab_type": "text"
      },
      "source": [
        "**Import libraries**"
      ]
    },
    {
      "cell_type": "code",
      "metadata": {
        "id": "DokFOdD1dJEl",
        "colab_type": "code",
        "colab": {}
      },
      "source": [
        "import os\n",
        "import logging\n",
        "import numpy as np\n",
        "import pandas as pd\n",
        "import copy\n",
        "\n",
        "import torch\n",
        "import torch.nn as nn\n",
        "import torch.optim as optim\n",
        "from torch.utils.data import Subset, DataLoader\n",
        "from torch.backends import cudnn\n",
        "\n",
        "import torchvision\n",
        "from torchvision import transforms\n",
        "\n",
        "from PIL import Image\n",
        "from tqdm import tqdm\n",
        "from copy import deepcopy"
      ],
      "execution_count": 0,
      "outputs": []
    },
    {
      "cell_type": "markdown",
      "metadata": {
        "id": "OIDLJuIXK_vh",
        "colab_type": "text"
      },
      "source": [
        "**Set Arguments**"
      ]
    },
    {
      "cell_type": "code",
      "metadata": {
        "id": "d5PkYfqfK_SA",
        "colab_type": "code",
        "colab": {}
      },
      "source": [
        "DEVICE = 'cuda' # 'cuda' or 'cpu'\n",
        "\n",
        "NUM_CLASSES = 7 # 101 + 1: There is am extra Background class that should be removed \n",
        "\n",
        "BATCH_SIZE = 128     # Higher batch sizes allows for larger learning rates. An empirical heuristic suggests that, when changing\n",
        "                     # the batch size, learning rate should change by the same factor to have comparable results\n",
        "\n",
        "LR = 0.005            # The initial Learning Rate\n",
        "MOMENTUM = 0.9       # Hyperparameter for SGD, keep this at 0.9 when using SGD\n",
        "WEIGHT_DECAY = 5e-5  # Regularization, you can keep this at the default\n",
        "\n",
        "NUM_EPOCHS = 10      # Total number of training epochs (iterations over dataset)\n",
        "STEP_SIZE = 8       # How many epochs before decreasing learning rate (if using a step-down policy)\n",
        "GAMMA = 0.1          # Multiplicative factor for learning rate step-down\n",
        "LAMBDA = 0.1\n",
        "LOG_FREQUENCY = 1"
      ],
      "execution_count": 0,
      "outputs": []
    },
    {
      "cell_type": "markdown",
      "metadata": {
        "id": "VSIWZA7WjKgS",
        "colab_type": "text"
      },
      "source": [
        "**Train without DANN**"
      ]
    },
    {
      "cell_type": "code",
      "metadata": {
        "id": "4IjurF-HjJcI",
        "colab_type": "code",
        "colab": {}
      },
      "source": [
        "import matplotlib.pyplot as plt\n",
        "def train(model_base, train_dataloader, lrs = [LR], STEPs = [STEP_SIZE], Ns = [NUM_EPOCHS]):\n",
        "  params = {'LR' : [], 'STEP_SIZE' : [], 'NUMBER_EPOCHS' : [], 'accuracy_cartoon' : [], 'accuracy_sketch' : [], 'loss' : [], 'model' : []}\n",
        "  for lr,step_size,num_epoch in zip(lrs,STEPs,Ns):\n",
        "    l_loss = []\n",
        "    model = copy.deepcopy(model_base)\n",
        "    print('lr {} step {} epochs {} '.format(lr,step_size,num_epoch))\n",
        "    params['LR'].append(lr)\n",
        "    params['STEP_SIZE'].append(step_size)\n",
        "    params['NUMBER_EPOCHS'].append(num_epoch)\n",
        "    # Define loss function\n",
        "    criterion = nn.CrossEntropyLoss() # for classification, we use Cross Entropy\n",
        "\n",
        "    # Choose parameters to optimize\n",
        "    # To access a different set of parameters, you have to access submodules of AlexNet\n",
        "    # (nn.Module objects, like AlexNet, implement the Composite Pattern)\n",
        "    # e.g.: parameters of the fully connected layers: net.classifier.parameters()\n",
        "    # e.g.: parameters of the convolutional layers: look at alexnet's source code ;) \n",
        "    parameters_to_optimize = model.parameters() # In this case we optimize over all the parameters of AlexNet\n",
        "\n",
        "    # Define optimizer\n",
        "    # An optimizer updates the weights based on loss\n",
        "    # We use SGD with momentum\n",
        "    optimizer = optim.SGD(parameters_to_optimize, lr=lr, momentum=MOMENTUM, weight_decay=WEIGHT_DECAY)\n",
        "\n",
        "    # Define scheduler\n",
        "    # A scheduler dynamically changes learning rate\n",
        "    # The most common schedule is the step(-down), which multiplies learning rate by gamma every STEP_SIZE epochs\n",
        "    scheduler = optim.lr_scheduler.StepLR(optimizer, step_size=step_size, gamma=GAMMA)\n",
        "\n",
        "    # By default, everything is loaded to cpu\n",
        "    model = model.to(DEVICE) # this will bring the network to GPU if DEVICE is cuda\n",
        "\n",
        "    cudnn.benchmark # Calling this optimizes runtime\n",
        "\n",
        "    current_step = 0\n",
        "    # Start iterating over the epochs\n",
        "    for epoch in range(num_epoch):\n",
        "      print('Starting epoch {}/{}, LR = {}'.format(epoch+1, num_epoch, scheduler.get_lr()))\n",
        "\n",
        "      # Iterate over the dataset\n",
        "      n_loss = 0\n",
        "      current_step = 0\n",
        "      for images, labels in train_dataloader:\n",
        "        # Bring data over the device of choice\n",
        "        images = images.to(DEVICE)\n",
        "        labels = labels.to(DEVICE)\n",
        "\n",
        "        model.train() # Sets module in training mode\n",
        "\n",
        "        # PyTorch, by default, accumulates gradients after each backward pass\n",
        "        # We need to manually set the gradients to zero before starting a new iteration\n",
        "        optimizer.zero_grad() # Zero-ing the gradients\n",
        "\n",
        "        # Forward pass to the network\n",
        "        outputs = model(images)\n",
        "\n",
        "        # Compute loss based on output and ground truth\n",
        "        loss = criterion(outputs, labels)\n",
        "\n",
        "        # Compute gradients for each layer and update weights\n",
        "        loss.backward()  # backward pass: computes gradients\n",
        "        optimizer.step() # update weights based on accumulated gradients\n",
        "        n_loss += loss.item()\n",
        "        l_loss.append(loss.item())\n",
        "        current_step += 1\n",
        "      n_loss = n_loss/current_step\n",
        "      print('Epoch {},Medium Loss {}'.format(epoch+1, n_loss))\n",
        "      # Step the scheduler\n",
        "      scheduler.step()\n",
        "    plt.plot(l_loss,label='loss')\n",
        "    plt.ylabel('loss')\n",
        "    plt.xlabel('step')\n",
        "    plt.grid()\n",
        "    plt.show() \n",
        "    params['loss'].append(n_loss)\n",
        "    params['model'].append(copy.deepcopy(model))\n",
        "  return params"
      ],
      "execution_count": 0,
      "outputs": []
    },
    {
      "cell_type": "code",
      "metadata": {
        "id": "wkYao7FyXw4i",
        "colab_type": "code",
        "colab": {}
      },
      "source": [
        "def batch_it(dataloader_iterator,taget_dataloader):\n",
        "  for i in range(len(taget_dataloader)):\n",
        "    try:\n",
        "      data = next(dataloader_iterator)\n",
        "    except StopIteration:\n",
        "      dataloader_iterator = iter(taget_dataloader)\n",
        "      data = next(dataloader_iterator)\n",
        "  return data[0],data[1] #data,target"
      ],
      "execution_count": 0,
      "outputs": []
    },
    {
      "cell_type": "markdown",
      "metadata": {
        "id": "DFWKGTukot9T",
        "colab_type": "text"
      },
      "source": [
        "**Train with DANN**"
      ]
    },
    {
      "cell_type": "code",
      "metadata": {
        "id": "oNpU4CPUoxyo",
        "colab_type": "code",
        "colab": {}
      },
      "source": [
        "def DANN_train(model_base, train_dataloader,test_dataloader, lrs = [LR], STEPs = [STEP_SIZE], Ns = [NUM_EPOCHS], LAMBDAs = [LAMBDA]):\n",
        "  params = {'LR' : [], 'STEP_SIZE' : [], 'NUMBER_EPOCHS' : [], 'LAMBDA' : [], 'accuracy_cartoon' : [], 'accuracy_sketch' : [], 'loss' : [],'domain_loss' : [],'test_domain_loss' : [], 'model' : []}\n",
        "  for lr,step_size,num_epoch,v_lambda in zip(lrs,STEPs,Ns,LAMBDAs):\n",
        "    l_loss = []\n",
        "    d_loss = []\n",
        "    td_loss = []\n",
        "    model = copy.deepcopy(model_base)\n",
        "    print('lr {} step {} epochs {} lambda {}'.format(lr,step_size,num_epoch,v_lambda))\n",
        "    params['LR'].append(lr)\n",
        "    params['STEP_SIZE'].append(step_size)\n",
        "    params['NUMBER_EPOCHS'].append(num_epoch)\n",
        "    params['LAMBDA'].append(v_lambda)\n",
        "  # Define loss function\n",
        "    criterion = nn.CrossEntropyLoss() # for classification, we use Cross Entropy\n",
        "\n",
        "    # Choose parameters to optimize\n",
        "    # To access a different set of parameters, you have to access submodules of AlexNet\n",
        "    # (nn.Module objects, like AlexNet, implement the Composite Pattern)\n",
        "    # e.g.: parameters of the fully connected layers: net.classifier.parameters()\n",
        "    # e.g.: parameters of the convolutional layers: look at alexnet's source code ;) \n",
        "    parameters_to_optimize = model.parameters() # In this case we optimize over all the parameters of AlexNet\n",
        "\n",
        "    # Define optimizer\n",
        "    # An optimizer updates the weights based on loss\n",
        "    # We use SGD with momentum\n",
        "    optimizer = optim.SGD(parameters_to_optimize, lr=lr, momentum=MOMENTUM, weight_decay=WEIGHT_DECAY)\n",
        "\n",
        "    # Define scheduler\n",
        "    # A scheduler dynamically changes learning rate\n",
        "    # The most common schedule is the step(-down), which multiplies learning rate by gamma every STEP_SIZE epochs\n",
        "    scheduler = optim.lr_scheduler.StepLR(optimizer, step_size=step_size, gamma=GAMMA)\n",
        "\n",
        "    # By default, everything is loaded to cpu\n",
        "    model = model.to(DEVICE) # this will bring the network to GPU if DEVICE is cuda\n",
        "\n",
        "    cudnn.benchmark # Calling this optimizes runtime\n",
        "\n",
        "    current_step = 0\n",
        "    # Start iterating over the epochs\n",
        "    for epoch in range(num_epoch):\n",
        "      dataloader_iterator = iter(test_dataloader)\n",
        "      print('Starting epoch {}/{}, LR = {}'.format(epoch+1, num_epoch, scheduler.get_lr()))\n",
        "      n_loss = 0\n",
        "      domainloss = 0\n",
        "      t_domainloss = 0\n",
        "      current_step = 0\n",
        "      # Iterate over the dataset\n",
        "      for images, labels in train_dataloader:\n",
        "        # Bring data over the device of choice\n",
        "        images = images.to(DEVICE)\n",
        "        labels = labels.to(DEVICE)\n",
        "\n",
        "        model.train() # Sets module in training mode\n",
        "\n",
        "        # PyTorch, by default, accumulates gradients after each backward pass\n",
        "        # We need to manually set the gradients to zero before starting a new iteration\n",
        "        optimizer.zero_grad() # Zero-ing the gradients\n",
        "        # Forward pass to the network\n",
        "        outputs = model(images)\n",
        "        # Compute loss based on output and ground truth\n",
        "        loss = criterion(outputs, labels)\n",
        "        # Compute gradients for each layer and update weights\n",
        "        loss.backward()  # update gradients with loss.backward\n",
        "\n",
        "        n_loss += loss.item()\n",
        "        #training discriminator by forwarding source data\n",
        "        outputs_discriminator = model.forward(images,v_lambda)\n",
        "        target_s = torch.zeros(labels.size(0), dtype = torch.int64).to(DEVICE)\n",
        "        loss_discriminator = criterion(outputs_discriminator,target_s)\n",
        "        loss_discriminator.backward()\n",
        "\n",
        "        domainloss += loss_discriminator.item()\n",
        "        \n",
        "\n",
        "        #load batch from test dataloader. For every train batch I have to take a test batch \n",
        "        images_test,label_test = dataloader_iterator.next()\n",
        "        images_test = images_test.to(DEVICE)\n",
        "        label_test = label_test.to(DEVICE)\n",
        "        outputs_discriminator_test = model.forward(images_test,v_lambda)\n",
        "        target_t = torch.ones(len(images_test), dtype = torch.int64).to(DEVICE)\n",
        "        loss_discriminator_test = criterion(outputs_discriminator_test,target_t)\n",
        "        loss_discriminator_test.backward()   \n",
        "        print('Step {} loss {} domain loss {} test domain loss {} len test set {} alpha {}'.format(current_step,loss.item(),loss_discriminator.item(),loss_discriminator_test.item(),len(images_test),v_lambda))\n",
        "        t_domainloss += loss_discriminator_test.item()\n",
        "        l_loss.append(loss.item())\n",
        "        d_loss.append(loss_discriminator.item())\n",
        "        td_loss.append(loss_discriminator_test.item())\n",
        "        current_step += 1\n",
        "        optimizer.step() # update weights based on accumulated gradients\n",
        "      n_loss = n_loss/current_step\n",
        "      domainloss = domainloss/current_step\n",
        "      t_domainloss = t_domainloss/current_step\n",
        "      print('Epoch {},Medium Loss {}, Domain Loss (?) {}, Test domain loss {} '.format(epoch+1, n_loss, domainloss, t_domainloss))\n",
        "      # Step the scheduler\n",
        "\n",
        "      scheduler.step()\n",
        "    plt.plot(l_loss,label='loss')\n",
        "    plt.plot(d_loss,label='domain loss')\n",
        "    plt.plot(td_loss,label='test domain loss')\n",
        "    plt.ylabel('loss')\n",
        "    plt.xlabel('step')\n",
        "    plt.legend()\n",
        "    plt.grid()\n",
        "    plt.show()\n",
        "    params['loss'].append(n_loss)\n",
        "    params['domain_loss'].append(domainloss)\n",
        "    params['test_domain_loss'].append(t_domainloss)\n",
        "    params['model'].append(copy.deepcopy(model))\n",
        "  return params"
      ],
      "execution_count": 0,
      "outputs": []
    },
    {
      "cell_type": "markdown",
      "metadata": {
        "id": "aDqyYghNbEbj",
        "colab_type": "text"
      },
      "source": [
        "**Alex Net**"
      ]
    },
    {
      "cell_type": "code",
      "metadata": {
        "id": "pw_zkAUibDPn",
        "colab_type": "code",
        "colab": {}
      },
      "source": [
        "import torch\n",
        "import torch.nn as nn\n",
        "#from .utils import load_state_dict_from_url\n",
        "\n",
        "try:\n",
        "  from torch.hub import load_state_dict_from_url\n",
        "except ImportError:\n",
        "  from torch.utils.model_zoo import load_url as load_state_dict_from_url\n",
        "\n",
        "__all__ = ['AlexNet', 'alexnet']\n",
        "model_urls = { 'alexnet': 'https://download.pytorch.org/models/alexnet-owt-4df8aa71.pth', }\n",
        "\n",
        "from torch.autograd import Function\n",
        "\n",
        "\n",
        "class ReverseLayerF(Function):\n",
        "    # Forwards identity\n",
        "    # Sends backward reversed gradients\n",
        "    @staticmethod\n",
        "    def forward(ctx, x, alpha):\n",
        "        ctx.alpha = alpha\n",
        "\n",
        "        return x.view_as(x)\n",
        "\n",
        "    @staticmethod\n",
        "    def backward(ctx, grad_output):\n",
        "        output = grad_output.neg() * ctx.alpha\n",
        "\n",
        "        return output, None\n",
        "\n",
        "class AlexNet(nn.Module):\n",
        "\n",
        "    def __init__(self, num_classes=1000):\n",
        "        super(AlexNet, self).__init__()\n",
        "        self.features = nn.Sequential(\n",
        "            nn.Conv2d(3, 64, kernel_size=11, stride=4, padding=2),\n",
        "            nn.ReLU(inplace=True),\n",
        "            nn.MaxPool2d(kernel_size=3, stride=2),\n",
        "            nn.Conv2d(64, 192, kernel_size=5, padding=2),\n",
        "            nn.ReLU(inplace=True),\n",
        "            nn.MaxPool2d(kernel_size=3, stride=2),\n",
        "            nn.Conv2d(192, 384, kernel_size=3, padding=1),\n",
        "            nn.ReLU(inplace=True),\n",
        "            nn.Conv2d(384, 256, kernel_size=3, padding=1),\n",
        "            nn.ReLU(inplace=True),\n",
        "            nn.Conv2d(256, 256, kernel_size=3, padding=1),\n",
        "            nn.ReLU(inplace=True),\n",
        "            nn.MaxPool2d(kernel_size=3, stride=2),\n",
        "        )\n",
        "        self.avgpool = nn.AdaptiveAvgPool2d((6, 6))\n",
        "        self.classifier = nn.Sequential(\n",
        "            nn.Dropout(),\n",
        "            nn.Linear(256 * 6 * 6, 4096),\n",
        "            nn.ReLU(inplace=True),\n",
        "            nn.Dropout(),\n",
        "            nn.Linear(4096, 4096),\n",
        "            nn.ReLU(inplace=True),\n",
        "            nn.Linear(4096, num_classes),\n",
        "        )\n",
        "        self.domainclassifier = nn.Sequential(\n",
        "            nn.Dropout(),\n",
        "            nn.Linear(256 * 6 * 6, 4096),\n",
        "            nn.ReLU(inplace=True),\n",
        "            nn.Dropout(),\n",
        "            nn.Linear(4096, 4096),\n",
        "            nn.ReLU(inplace=True),\n",
        "            nn.Linear(4096, 2),\n",
        "        )\n",
        "\n",
        "    def forward(self, x, alpha=None):\n",
        "        x = self.features(x)\n",
        "        x = self.avgpool(x)\n",
        "        x = torch.flatten(x, 1)\n",
        "        x = x.view(x.size(0),-1)\n",
        "        if alpha is not None:\n",
        "          # gradient reversal layer (backward gradients will be reversed)\n",
        "         reverse_feature = ReverseLayerF.apply(x, alpha)\n",
        "         discriminator_output = self.domainclassifier(reverse_feature)\n",
        "         return discriminator_output\n",
        "        # If we don't pass alpha, we assume we are training with supervision\n",
        "        else:\n",
        "          # do something else\n",
        "          class_outputs = self.classifier(x)\n",
        "          return class_outputs\n",
        "      \n",
        "\n",
        "def alexnet(pretrained=False, progress=True, **kwargs):\n",
        "    r\"\"\"AlexNet model architecture from the\n",
        "    `\"One weird trick...\" <https://arxiv.org/abs/1404.5997>`_ paper.\n",
        "    Args:\n",
        "        pretrained (bool): If True, returns a model pre-trained on ImageNet\n",
        "        progress (bool): If True, displays a progress bar of the download to stderr\n",
        "    \"\"\"\n",
        "    model = AlexNet(**kwargs)\n",
        "    if pretrained:\n",
        "        state_dict = load_state_dict_from_url(model_urls['alexnet'],\n",
        "                                              progress=progress)\n",
        "        model.load_state_dict(state_dict, strict=False)\n",
        "    return model"
      ],
      "execution_count": 0,
      "outputs": []
    },
    {
      "cell_type": "markdown",
      "metadata": {
        "id": "9gwii0TBHvzh",
        "colab_type": "text"
      },
      "source": [
        "**Define Data Preprocessing**"
      ]
    },
    {
      "cell_type": "code",
      "metadata": {
        "id": "QUDdw4j2H0Mc",
        "colab_type": "code",
        "colab": {}
      },
      "source": [
        "# Define transforms for training phase\n",
        "train_transform = transforms.Compose([transforms.Resize(256),      # Resizes short size of the PIL image to 256\n",
        "                                      transforms.CenterCrop(224),  # Crops a central square patch of the image\n",
        "                                                                   # 224 because torchvision's AlexNet needs a 224x224 input!\n",
        "                                                                   # Remember this when applying different transformations, otherwise you get an error\n",
        "                                      transforms.ToTensor(), # Turn PIL Image to torch.Tensor\n",
        "                                      transforms.Normalize((0.485, 0.456, 0.406), (0.229, 0.224, 0.225)) # Normalizes tensor with mean and standard deviation\n",
        "])\n",
        "# Define transforms for the evaluation phase\n",
        "eval_transform = transforms.Compose([transforms.Resize(256),\n",
        "                                      transforms.CenterCrop(224),\n",
        "                                      transforms.ToTensor(),\n",
        "                                      transforms.Normalize((0.5, 0.5, 0.5), (0.5, 0.5, 0.5))                                    \n",
        "])"
      ],
      "execution_count": 0,
      "outputs": []
    },
    {
      "cell_type": "markdown",
      "metadata": {
        "id": "UOE9ZBI-RuHP",
        "colab_type": "text"
      },
      "source": [
        "**Clone Github repository**"
      ]
    },
    {
      "cell_type": "code",
      "metadata": {
        "id": "tufYB-PxRpN8",
        "colab_type": "code",
        "colab": {}
      },
      "source": [
        "# Clone github repository with data\n",
        "if not os.path.isdir('./Homework3-PACS'):\n",
        "  !git clone https://github.com/MachineLearning2020/Homework3-PACS\n",
        "\n"
      ],
      "execution_count": 0,
      "outputs": []
    },
    {
      "cell_type": "markdown",
      "metadata": {
        "id": "2qYIHPzYLY7i",
        "colab_type": "text"
      },
      "source": [
        "**Prepare Dataset**"
      ]
    },
    {
      "cell_type": "code",
      "metadata": {
        "id": "QfVq_uDHLbsR",
        "colab_type": "code",
        "outputId": "8c4af7e8-1615-4ddd-b36f-2c70cc57e50c",
        "colab": {
          "base_uri": "https://localhost:8080/",
          "height": 54
        }
      },
      "source": [
        "train_dataset = torchvision.datasets.ImageFolder('./Homework3-PACS/PACS/photo',train_transform)\n",
        "test_dataset = torchvision.datasets.ImageFolder('./Homework3-PACS/PACS/art_painting',train_transform)\n",
        "\n",
        "#1/5 in test and 4/5 in train\n",
        "#train_indexes = [idx for idx in range(len(train_dataset)) if idx % 5]\n",
        "#test_indexes = [idx for idx in range(len(test_dataset)) if not idx % 5]\n",
        "\n",
        "#train_dataset = Subset(train_dataset, train_indexes)\n",
        "#test_dataset = Subset(test_dataset, test_indexes)\n",
        "\n",
        "# Check dataset sizes\n",
        "print('Train Dataset: {}'.format(len(train_dataset)))\n",
        "print('Test Dataset: {}'.format(len(test_dataset)))"
      ],
      "execution_count": 350,
      "outputs": [
        {
          "output_type": "stream",
          "text": [
            "Train Dataset: 1670\n",
            "Test Dataset: 2048\n"
          ],
          "name": "stdout"
        }
      ]
    },
    {
      "cell_type": "markdown",
      "metadata": {
        "id": "FYEDQ7Z21ldN",
        "colab_type": "text"
      },
      "source": [
        "**Prepare Dataloaders**"
      ]
    },
    {
      "cell_type": "code",
      "metadata": {
        "id": "VriRw8SI1nle",
        "colab_type": "code",
        "colab": {}
      },
      "source": [
        "# Dataloaders iterate over pytorch datasets and transparently provide useful functions (e.g. parallelization and shuffling)\n",
        "train_dataloader = DataLoader(train_dataset, batch_size=BATCH_SIZE, shuffle=True, num_workers=4, drop_last=True)\n",
        "test_dataloader = DataLoader(test_dataset, batch_size=BATCH_SIZE, shuffle=False, num_workers=4)"
      ],
      "execution_count": 0,
      "outputs": []
    },
    {
      "cell_type": "markdown",
      "metadata": {
        "id": "gbZ1t5Qs2z4j",
        "colab_type": "text"
      },
      "source": [
        "**Prepare Network**"
      ]
    },
    {
      "cell_type": "code",
      "metadata": {
        "id": "exHUjtXa22DN",
        "colab_type": "code",
        "colab": {}
      },
      "source": [
        "net = alexnet(pretrained = True) # Loading AlexNet model\n",
        "#copia dei pesi\n",
        "net.classifier[6] = nn.Linear(4096, 7)\n",
        "weight1=deepcopy(net.classifier[1].weight.data)\n",
        "bias1=deepcopy(net.classifier[1].bias.data)\n",
        "weight4=deepcopy(net.classifier[4].weight.data)\n",
        "bias4=deepcopy(net.classifier[4].bias.data)\n",
        "net.domainclassifier[1].weight.data=weight1\n",
        "net.domainclassifier[1].bias.data=bias1\n",
        "net.domainclassifier[4].weight.data=weight4\n",
        "net.domainclassifier[4].bias.data=bias4\n",
        "# AlexNet has 1000 output neurons, corresponding to the 1000 ImageNet's classes\n",
        "# We need 101 outputs for Caltech-101\n",
        "net.classifier[6] = nn.Linear(4096, NUM_CLASSES) # nn.Linear in pytorch is a fully connected layer\n",
        "                                                 # The convolutional layer is nn.Conv2d\n",
        "\n",
        "# We just changed the last layer of AlexNet with a new fully connected layer with 101 outputs\n",
        "# It is mandatory to study torchvision.models.alexnet source code"
      ],
      "execution_count": 0,
      "outputs": []
    },
    {
      "cell_type": "markdown",
      "metadata": {
        "id": "KEyL3H_R4qCf",
        "colab_type": "text"
      },
      "source": [
        "**Prepare Training**"
      ]
    },
    {
      "cell_type": "code",
      "metadata": {
        "id": "9sjq00G94tSc",
        "colab_type": "code",
        "colab": {}
      },
      "source": [
        "# Define loss function\n",
        "#criterion = nn.CrossEntropyLoss() # for classification, we use Cross Entropy\n",
        "\n",
        "# Choose parameters to optimize\n",
        "# To access a different set of parameters, you have to access submodules of AlexNet\n",
        "# (nn.Module objects, like AlexNet, implement the Composite Pattern)\n",
        "# e.g.: parameters of the fully connected layers: net.classifier.parameters()\n",
        "# e.g.: parameters of the convolutional layers: look at alexnet's source code ;) \n",
        "#parameters_to_optimize = net.parameters() # In this case we optimize over all the parameters of AlexNet\n",
        "\n",
        "# Define optimizer\n",
        "# An optimizer updates the weights based on loss\n",
        "# We use SGD with momentum\n",
        "#optimizer = optim.SGD(parameters_to_optimize, lr=LR, momentum=MOMENTUM, weight_decay=WEIGHT_DECAY)\n",
        "\n",
        "# Define scheduler\n",
        "# A scheduler dynamically changes learning rate\n",
        "# The most common schedule is the step(-down), which multiplies learning rate by gamma every STEP_SIZE epochs\n",
        "#scheduler = optim.lr_scheduler.StepLR(optimizer, step_size=STEP_SIZE, gamma=GAMMA)"
      ],
      "execution_count": 0,
      "outputs": []
    },
    {
      "cell_type": "markdown",
      "metadata": {
        "id": "AxYUli9d9uYQ",
        "colab_type": "text"
      },
      "source": [
        "**Train**"
      ]
    },
    {
      "cell_type": "code",
      "metadata": {
        "id": "ZcoQ5fD49yT_",
        "colab_type": "code",
        "outputId": "73b5cde9-0d84-47c1-8e9c-5b78b7f730d7",
        "colab": {
          "base_uri": "https://localhost:8080/",
          "height": 665
        }
      },
      "source": [
        "params = train(net,train_dataloader)"
      ],
      "execution_count": 354,
      "outputs": [
        {
          "output_type": "stream",
          "text": [
            "lr 0.005 step 8 epochs 10 \n",
            "Starting epoch 1/10, LR = [0.005]\n",
            "Epoch 1,Medium Loss 0.5349219945760874\n",
            "Starting epoch 2/10, LR = [0.005]\n",
            "Epoch 2,Medium Loss 0.11844177028307548\n",
            "Starting epoch 3/10, LR = [0.005]\n",
            "Epoch 3,Medium Loss 0.04706714202005129\n",
            "Starting epoch 4/10, LR = [0.005]\n",
            "Epoch 4,Medium Loss 0.03320274215478163\n",
            "Starting epoch 5/10, LR = [0.005]\n",
            "Epoch 5,Medium Loss 0.016883801095760785\n",
            "Starting epoch 6/10, LR = [0.005]\n",
            "Epoch 6,Medium Loss 0.009750601190787096\n",
            "Starting epoch 7/10, LR = [0.005]\n",
            "Epoch 7,Medium Loss 0.011857392409673104\n",
            "Starting epoch 8/10, LR = [0.005]\n",
            "Epoch 8,Medium Loss 0.00892814678641466\n",
            "Starting epoch 9/10, LR = [0.0005]\n",
            "Epoch 9,Medium Loss 0.0034602672721330938\n",
            "Starting epoch 10/10, LR = [0.0005]\n",
            "Epoch 10,Medium Loss 0.004530959977553441\n"
          ],
          "name": "stdout"
        },
        {
          "output_type": "display_data",
          "data": {
            "image/png": "[encoded data removed]",
            "text/plain": [
              "<Figure size 432x288 with 1 Axes>"
            ]
          },
          "metadata": {
            "tags": []
          }
        }
      ]
    },
    {
      "cell_type": "markdown",
      "metadata": {
        "id": "UsHFI-GAJd69",
        "colab_type": "text"
      },
      "source": [
        "**Test**"
      ]
    },
    {
      "cell_type": "code",
      "metadata": {
        "id": "EO3HV5pqJg1o",
        "colab_type": "code",
        "outputId": "2ee0837f-3a35-4bab-e5eb-1a58020c88fd",
        "colab": {
          "base_uri": "https://localhost:8080/",
          "height": 54
        }
      },
      "source": [
        "net = copy.deepcopy(params['model'][0])\n",
        "net = net.to(DEVICE) # this will bring the network to GPU if DEVICE is cuda\n",
        "net.train(False) # Set Network to evaluation mode\n",
        "\n",
        "running_corrects = 0\n",
        "for images,labels in tqdm(test_dataloader):\n",
        "  images = images.to(DEVICE)\n",
        "  labels = labels.to(DEVICE)\n",
        "\n",
        "  # Forward Pass\n",
        "  outputs = net(images)\n",
        "\n",
        "  # Get predictions\n",
        "  _, preds = torch.max(outputs.data, 1)\n",
        "\n",
        "  # Update Corrects\n",
        "  running_corrects += torch.sum(preds == labels.data).data.item()\n",
        "\n",
        "# Calculate Accuracy\n",
        "accuracy = running_corrects / float(len(test_dataset))\n",
        "\n",
        "print('Test Accuracy: {}'.format(accuracy))"
      ],
      "execution_count": 355,
      "outputs": [
        {
          "output_type": "stream",
          "text": [
            "100%|██████████| 16/16 [00:04<00:00,  5.47it/s]"
          ],
          "name": "stderr"
        },
        {
          "output_type": "stream",
          "text": [
            "Test Accuracy: 0.51904296875\n"
          ],
          "name": "stdout"
        },
        {
          "output_type": "stream",
          "text": [
            "\n"
          ],
          "name": "stderr"
        }
      ]
    },
    {
      "cell_type": "code",
      "metadata": {
        "id": "swZNjsJaZmUb",
        "colab_type": "code",
        "colab": {
          "base_uri": "https://localhost:8080/",
          "height": 1000
        },
        "outputId": "2d42528b-f80f-4a50-f177-28bd6214513b"
      },
      "source": [
        "net = alexnet(pretrained = True) # Loading AlexNet model\n",
        "#copia dei pesi\n",
        "net.classifier[6] = nn.Linear(4096, 7)\n",
        "weight1=deepcopy(net.classifier[1].weight.data)\n",
        "bias1=deepcopy(net.classifier[1].bias.data)\n",
        "weight4=deepcopy(net.classifier[4].weight.data)\n",
        "bias4=deepcopy(net.classifier[4].bias.data)\n",
        "net.domainclassifier[1].weight.data=weight1\n",
        "net.domainclassifier[1].bias.data=bias1\n",
        "net.domainclassifier[4].weight.data=weight4\n",
        "net.domainclassifier[4].bias.data=bias4\n",
        "# AlexNet has 1000 output neurons, corresponding to the 1000 ImageNet's classes\n",
        "# We need 101 outputs for Caltech-101\n",
        "net.classifier[6] = nn.Linear(4096, NUM_CLASSES) # nn.Linear in pytorch is a fully connected layer\n",
        "                                                 # The convolutional layer is nn.Conv2d\n",
        "\n",
        "# We just changed the last layer of AlexNet with a new fully connected layer with 101 outputs\n",
        "# It is mandatory to study torchvision.models.alexnet source code\n",
        "\n",
        "params = DANN_train(net, train_dataloader,test_dataloader)\n",
        "print(params)"
      ],
      "execution_count": 356,
      "outputs": [
        {
          "output_type": "stream",
          "text": [
            "lr 0.005 step 8 epochs 10 lambda 0.1\n",
            "Starting epoch 1/10, LR = [0.005]\n",
            "Step 0 loss 2.0230767726898193 domain loss 1.0853285789489746 test domain loss 0.8905986547470093 len test set 128 alpha 0.1\n",
            "Step 1 loss 1.1095243692398071 domain loss 0.37176579236984253 test domain loss 0.15248113870620728 len test set 128 alpha 0.1\n",
            "Step 2 loss 0.8025412559509277 domain loss 0.3601975440979004 test domain loss 0.26604902744293213 len test set 128 alpha 0.1\n",
            "Step 3 loss 0.5292766094207764 domain loss 0.17706598341464996 test domain loss 0.18966439366340637 len test set 128 alpha 0.1\n",
            "Step 4 loss 0.40661218762397766 domain loss 0.150106281042099 test domain loss 0.5022274255752563 len test set 128 alpha 0.1\n",
            "Step 5 loss 0.2453438639640808 domain loss 0.6443755030632019 test domain loss 0.2514171302318573 len test set 128 alpha 0.1\n",
            "Step 6 loss 0.17950350046157837 domain loss 0.47164472937583923 test domain loss 0.23105865716934204 len test set 128 alpha 0.1\n",
            "Step 7 loss 0.19543713331222534 domain loss 0.16720695793628693 test domain loss 0.7868569493293762 len test set 128 alpha 0.1\n",
            "Step 8 loss 0.21839751303195953 domain loss 0.29744094610214233 test domain loss 1.0156192779541016 len test set 128 alpha 0.1\n",
            "Step 9 loss 0.26142823696136475 domain loss 0.2479707896709442 test domain loss 0.6175565719604492 len test set 128 alpha 0.1\n",
            "Step 10 loss 0.34706592559814453 domain loss 0.6721240878105164 test domain loss 2.0143539905548096 len test set 128 alpha 0.1\n",
            "Step 11 loss 0.1518661379814148 domain loss 1.7209110260009766 test domain loss 1.8903478384017944 len test set 128 alpha 0.1\n",
            "Step 12 loss 0.08979921787977219 domain loss 1.8591272830963135 test domain loss 1.0721477270126343 len test set 128 alpha 0.1\n",
            "Epoch 1,Medium Loss 0.5046055941627576, Domain Loss (?) 0.6327127309945914, Test domain loss 0.760029137134552 \n",
            "Starting epoch 2/10, LR = [0.005]\n",
            "Step 0 loss 0.08031917363405228 domain loss 1.256095290184021 test domain loss 0.372645765542984 len test set 128 alpha 0.1\n",
            "Step 1 loss 0.3552163541316986 domain loss 0.8206192255020142 test domain loss 0.7838553786277771 len test set 128 alpha 0.1\n",
            "Step 2 loss 0.8955241441726685 domain loss 0.34875044226646423 test domain loss 1.4908357858657837 len test set 128 alpha 0.1\n",
            "Step 3 loss 0.45278865098953247 domain loss 0.7781776785850525 test domain loss 0.24626031517982483 len test set 128 alpha 0.1\n",
            "Step 4 loss 0.233354851603508 domain loss 0.7651492953300476 test domain loss 0.7981181740760803 len test set 128 alpha 0.1\n",
            "Step 5 loss 0.2836897075176239 domain loss 0.3027954697608948 test domain loss 1.62618088722229 len test set 128 alpha 0.1\n",
            "Step 6 loss 0.3624643087387085 domain loss 0.2889074981212616 test domain loss 0.6869345307350159 len test set 128 alpha 0.1\n",
            "Step 7 loss 0.27141863107681274 domain loss 0.9328497052192688 test domain loss 1.0386613607406616 len test set 128 alpha 0.1\n",
            "Step 8 loss 0.4032565951347351 domain loss 0.6698114275932312 test domain loss 0.4639092981815338 len test set 128 alpha 0.1\n",
            "Step 9 loss 0.25184544920921326 domain loss 0.7437874674797058 test domain loss 0.17317938804626465 len test set 128 alpha 0.1\n",
            "Step 10 loss 0.18347209692001343 domain loss 0.3654627501964569 test domain loss 0.5969238877296448 len test set 128 alpha 0.1\n",
            "Step 11 loss 0.17752307653427124 domain loss 0.5585393309593201 test domain loss 0.6454142928123474 len test set 128 alpha 0.1\n",
            "Step 12 loss 0.23152610659599304 domain loss 0.6664771437644958 test domain loss 2.1231305599212646 len test set 128 alpha 0.1\n",
            "Epoch 2,Medium Loss 0.3217230112506793, Domain Loss (?) 0.6536479019201719, Test domain loss 0.849696124975498 \n",
            "Starting epoch 3/10, LR = [0.005]\n",
            "Step 0 loss 0.19680798053741455 domain loss 0.8705641627311707 test domain loss 0.0984579399228096 len test set 128 alpha 0.1\n",
            "Step 1 loss 0.19074322283267975 domain loss 1.1268547773361206 test domain loss 0.20504720509052277 len test set 128 alpha 0.1\n",
            "Step 2 loss 0.16001972556114197 domain loss 0.7274792194366455 test domain loss 0.2919544279575348 len test set 128 alpha 0.1\n",
            "Step 3 loss 0.17283880710601807 domain loss 0.3316761255264282 test domain loss 0.17005351185798645 len test set 128 alpha 0.1\n",
            "Step 4 loss 0.12120365351438522 domain loss 0.40999019145965576 test domain loss 0.6843269467353821 len test set 128 alpha 0.1\n",
            "Step 5 loss 0.1874372959136963 domain loss 0.16768455505371094 test domain loss 1.4012010097503662 len test set 128 alpha 0.1\n",
            "Step 6 loss 0.07387904077768326 domain loss 0.3177540898323059 test domain loss 0.34679847955703735 len test set 128 alpha 0.1\n",
            "Step 7 loss 0.13870775699615479 domain loss 0.6831772327423096 test domain loss 0.11968487501144409 len test set 128 alpha 0.1\n",
            "Step 8 loss 0.29000386595726013 domain loss 0.7416456937789917 test domain loss 0.151864156126976 len test set 128 alpha 0.1\n",
            "Step 9 loss 0.2535867989063263 domain loss 0.9247653484344482 test domain loss 0.14100022614002228 len test set 128 alpha 0.1\n",
            "Step 10 loss 0.22518466413021088 domain loss 0.25833386182785034 test domain loss 0.3700963854789734 len test set 128 alpha 0.1\n",
            "Step 11 loss 0.18594413995742798 domain loss 0.19635805487632751 test domain loss 0.3711015582084656 len test set 128 alpha 0.1\n",
            "Step 12 loss 0.1306389421224594 domain loss 0.24624797701835632 test domain loss 0.8937991857528687 len test set 128 alpha 0.1\n",
            "Epoch 3,Medium Loss 0.1789996841779122, Domain Loss (?) 0.5386562530811017, Test domain loss 0.40349122366079915 \n",
            "Starting epoch 4/10, LR = [0.005]\n",
            "Step 0 loss 0.10269534587860107 domain loss 0.16264383494853973 test domain loss 0.5504348278045654 len test set 128 alpha 0.1\n",
            "Step 1 loss 0.07538625597953796 domain loss 0.3824939429759979 test domain loss 0.4537138044834137 len test set 128 alpha 0.1\n",
            "Step 2 loss 0.08811023086309433 domain loss 0.30938732624053955 test domain loss 0.4098469018936157 len test set 128 alpha 0.1\n",
            "Step 3 loss 0.18878087401390076 domain loss 0.7891671657562256 test domain loss 0.16346347332000732 len test set 128 alpha 0.1\n",
            "Step 4 loss 0.2007175236940384 domain loss 0.5051892399787903 test domain loss 0.3219947814941406 len test set 128 alpha 0.1\n",
            "Step 5 loss 0.19471007585525513 domain loss 0.4722510278224945 test domain loss 0.09361988306045532 len test set 128 alpha 0.1\n",
            "Step 6 loss 0.05389954149723053 domain loss 0.444219172000885 test domain loss 0.21205070614814758 len test set 128 alpha 0.1\n",
            "Step 7 loss 0.13232998549938202 domain loss 0.20795945823192596 test domain loss 0.17867125570774078 len test set 128 alpha 0.1\n",
            "Step 8 loss 0.060069285333156586 domain loss 0.22235074639320374 test domain loss 0.4556652903556824 len test set 128 alpha 0.1\n",
            "Step 9 loss 0.1329859495162964 domain loss 0.24367286264896393 test domain loss 0.4787665605545044 len test set 128 alpha 0.1\n",
            "Step 10 loss 0.15289238095283508 domain loss 0.31164079904556274 test domain loss 0.6067829132080078 len test set 128 alpha 0.1\n",
            "Step 11 loss 0.05918528512120247 domain loss 0.1543925404548645 test domain loss 0.6221737265586853 len test set 128 alpha 0.1\n",
            "Step 12 loss 0.056371040642261505 domain loss 0.07759560644626617 test domain loss 0.7336302995681763 len test set 128 alpha 0.1\n",
            "Epoch 4,Medium Loss 0.1152410596035994, Domain Loss (?) 0.3294587479187892, Test domain loss 0.40621649416593403 \n",
            "Starting epoch 5/10, LR = [0.005]\n",
            "Step 0 loss 0.041698817163705826 domain loss 0.16171596944332123 test domain loss 0.07561172544956207 len test set 128 alpha 0.1\n",
            "Step 1 loss 0.02449752204120159 domain loss 0.21928438544273376 test domain loss 0.2133263349533081 len test set 128 alpha 0.1\n",
            "Step 2 loss 0.04613002762198448 domain loss 0.2897118628025055 test domain loss 0.19544470310211182 len test set 128 alpha 0.1\n",
            "Step 3 loss 0.06087958440184593 domain loss 0.3399275839328766 test domain loss 0.04574041813611984 len test set 128 alpha 0.1\n",
            "Step 4 loss 0.025565102696418762 domain loss 0.3349936902523041 test domain loss 0.14356763660907745 len test set 128 alpha 0.1\n",
            "Step 5 loss 0.07203647494316101 domain loss 0.2864493131637573 test domain loss 0.09705649316310883 len test set 128 alpha 0.1\n",
            "Step 6 loss 0.08980780839920044 domain loss 0.3777061402797699 test domain loss 0.11502839624881744 len test set 128 alpha 0.1\n",
            "Step 7 loss 0.05826509743928909 domain loss 0.3540372848510742 test domain loss 0.1179855614900589 len test set 128 alpha 0.1\n",
            "Step 8 loss 0.03923726826906204 domain loss 0.14938610792160034 test domain loss 0.26905694603919983 len test set 128 alpha 0.1\n",
            "Step 9 loss 0.050172410905361176 domain loss 0.19422270357608795 test domain loss 0.43768054246902466 len test set 128 alpha 0.1\n",
            "Step 10 loss 0.03215793892741203 domain loss 0.18182551860809326 test domain loss 0.23689791560173035 len test set 128 alpha 0.1\n",
            "Step 11 loss 0.08268817514181137 domain loss 0.1613835096359253 test domain loss 0.2903865873813629 len test set 128 alpha 0.1\n",
            "Step 12 loss 0.02923671156167984 domain loss 0.11087461560964584 test domain loss 0.650031566619873 len test set 128 alpha 0.1\n",
            "Epoch 5,Medium Loss 0.05018253380862566, Domain Loss (?) 0.24319374503997657, Test domain loss 0.22213960209718117 \n",
            "Starting epoch 6/10, LR = [0.005]\n",
            "Step 0 loss 0.03142489865422249 domain loss 0.09054192900657654 test domain loss 0.16920118033885956 len test set 128 alpha 0.1\n",
            "Step 1 loss 0.06934883445501328 domain loss 0.05519188195466995 test domain loss 0.3014492690563202 len test set 128 alpha 0.1\n",
            "Step 2 loss 0.061947789043188095 domain loss 0.2547163963317871 test domain loss 0.2591160833835602 len test set 128 alpha 0.1\n",
            "Step 3 loss 0.06117120757699013 domain loss 0.349142849445343 test domain loss 0.07793483883142471 len test set 128 alpha 0.1\n",
            "Step 4 loss 0.04099931940436363 domain loss 0.3583435118198395 test domain loss 0.08471786975860596 len test set 128 alpha 0.1\n",
            "Step 5 loss 0.024372348561882973 domain loss 0.4256100654602051 test domain loss 0.02362462691962719 len test set 128 alpha 0.1\n",
            "Step 6 loss 0.01844526268541813 domain loss 0.2634095549583435 test domain loss 0.05976094678044319 len test set 128 alpha 0.1\n",
            "Step 7 loss 0.0753420889377594 domain loss 0.307071328163147 test domain loss 0.15488484501838684 len test set 128 alpha 0.1\n",
            "Step 8 loss 0.017902839928865433 domain loss 0.08332489430904388 test domain loss 0.12640519440174103 len test set 128 alpha 0.1\n",
            "Step 9 loss 0.02795383334159851 domain loss 0.10180815309286118 test domain loss 0.1848696619272232 len test set 128 alpha 0.1\n",
            "Step 10 loss 0.035063933581113815 domain loss 0.04250660166144371 test domain loss 0.15115809440612793 len test set 128 alpha 0.1\n",
            "Step 11 loss 0.005145654082298279 domain loss 0.023315811529755592 test domain loss 0.1589602828025818 len test set 128 alpha 0.1\n",
            "Step 12 loss 0.031814850866794586 domain loss 0.06990180164575577 test domain loss 0.4355429708957672 len test set 128 alpha 0.1\n",
            "Epoch 6,Medium Loss 0.03853329700919298, Domain Loss (?) 0.18652959841375166, Test domain loss 0.16827891265543607 \n",
            "Starting epoch 7/10, LR = [0.005]\n",
            "Step 0 loss 0.009026564657688141 domain loss 0.02848058193922043 test domain loss 0.13655957579612732 len test set 128 alpha 0.1\n",
            "Step 1 loss 0.02002328261733055 domain loss 0.1364055573940277 test domain loss 0.29690128564834595 len test set 128 alpha 0.1\n",
            "Step 2 loss 0.015088822692632675 domain loss 0.09168513864278793 test domain loss 0.2751440107822418 len test set 128 alpha 0.1\n",
            "Step 3 loss 0.01904415152966976 domain loss 0.2535754442214966 test domain loss 0.08238191902637482 len test set 128 alpha 0.1\n",
            "Step 4 loss 0.06060492619872093 domain loss 0.43558284640312195 test domain loss 0.12570561468601227 len test set 128 alpha 0.1\n",
            "Step 5 loss 0.01589617133140564 domain loss 0.3594553768634796 test domain loss 0.012228688225150108 len test set 128 alpha 0.1\n",
            "Step 6 loss 0.017524894326925278 domain loss 0.3719944655895233 test domain loss 0.04063859209418297 len test set 128 alpha 0.1\n",
            "Step 7 loss 0.04076854884624481 domain loss 0.2424599528312683 test domain loss 0.1219979077577591 len test set 128 alpha 0.1\n",
            "Step 8 loss 0.023088812828063965 domain loss 0.19225502014160156 test domain loss 0.11824671924114227 len test set 128 alpha 0.1\n",
            "Step 9 loss 0.012024778872728348 domain loss 0.18701712787151337 test domain loss 0.09040750563144684 len test set 128 alpha 0.1\n",
            "Step 10 loss 0.027366993948817253 domain loss 0.0492330938577652 test domain loss 0.07024147361516953 len test set 128 alpha 0.1\n",
            "Step 11 loss 0.023008868098258972 domain loss 0.08986566960811615 test domain loss 0.16724184155464172 len test set 128 alpha 0.1\n",
            "Step 12 loss 0.03617243468761444 domain loss 0.10385242849588394 test domain loss 0.4330555498600006 len test set 128 alpha 0.1\n",
            "Epoch 7,Medium Loss 0.024587634664315444, Domain Loss (?) 0.19552790029690817, Test domain loss 0.15159620645527655 \n",
            "Starting epoch 8/10, LR = [0.005]\n",
            "Step 0 loss 0.03352292999625206 domain loss 0.03824203833937645 test domain loss 0.29680031538009644 len test set 128 alpha 0.1\n",
            "Step 1 loss 0.017040371894836426 domain loss 0.027751918882131577 test domain loss 0.2507694959640503 len test set 128 alpha 0.1\n",
            "Step 2 loss 0.010936679318547249 domain loss 0.03211391344666481 test domain loss 0.30387282371520996 len test set 128 alpha 0.1\n",
            "Step 3 loss 0.034234803169965744 domain loss 0.13690496981143951 test domain loss 0.13190828263759613 len test set 128 alpha 0.1\n",
            "Step 4 loss 0.0386594720184803 domain loss 0.2518240809440613 test domain loss 0.11487600952386856 len test set 128 alpha 0.1\n",
            "Step 5 loss 0.014962922781705856 domain loss 0.3884025514125824 test domain loss 0.07981514185667038 len test set 128 alpha 0.1\n",
            "Step 6 loss 0.014732986688613892 domain loss 0.26596516370773315 test domain loss 0.03835224732756615 len test set 128 alpha 0.1\n",
            "Step 7 loss 0.03985707089304924 domain loss 0.3350273072719574 test domain loss 0.08104130625724792 len test set 128 alpha 0.1\n",
            "Step 8 loss 0.05060654878616333 domain loss 0.297576367855072 test domain loss 0.04649636149406433 len test set 128 alpha 0.1\n",
            "Step 9 loss 0.0010594427585601807 domain loss 0.1905660778284073 test domain loss 0.08337912708520889 len test set 128 alpha 0.1\n",
            "Step 10 loss 0.03752314671874046 domain loss 0.2715703248977661 test domain loss 0.10902707278728485 len test set 128 alpha 0.1\n",
            "Step 11 loss 0.04906853660941124 domain loss 0.2152748852968216 test domain loss 0.12059008330106735 len test set 128 alpha 0.1\n",
            "Step 12 loss 0.012045696377754211 domain loss 0.06370174139738083 test domain loss 0.18003258109092712 len test set 128 alpha 0.1\n",
            "Epoch 8,Medium Loss 0.027250046770160016, Domain Loss (?) 0.19345548777626112, Test domain loss 0.14130468064775834 \n",
            "Starting epoch 9/10, LR = [0.0005]\n",
            "Step 0 loss 0.039528388530015945 domain loss 0.03780867159366608 test domain loss 0.17083264887332916 len test set 128 alpha 0.1\n",
            "Step 1 loss 0.017122507095336914 domain loss 0.043851159512996674 test domain loss 0.5218989849090576 len test set 128 alpha 0.1\n",
            "Step 2 loss 0.011042308062314987 domain loss 0.03878236562013626 test domain loss 0.7588887810707092 len test set 128 alpha 0.1\n",
            "Step 3 loss 0.016683220863342285 domain loss 0.023770134896039963 test domain loss 0.5169800519943237 len test set 128 alpha 0.1\n",
            "Step 4 loss 0.006623554974794388 domain loss 0.04101843386888504 test domain loss 0.4526863396167755 len test set 128 alpha 0.1\n",
            "Step 5 loss 0.020265601575374603 domain loss 0.0648326426744461 test domain loss 0.32436904311180115 len test set 128 alpha 0.1\n",
            "Step 6 loss 0.03213721513748169 domain loss 0.08044399321079254 test domain loss 0.3283470571041107 len test set 128 alpha 0.1\n",
            "Step 7 loss 0.011482149362564087 domain loss 0.08035760372877121 test domain loss 0.2054005265235901 len test set 128 alpha 0.1\n",
            "Step 8 loss 0.02450316958129406 domain loss 0.08229868113994598 test domain loss 0.2304619401693344 len test set 128 alpha 0.1\n",
            "Step 9 loss 0.022092781960964203 domain loss 0.11651486903429031 test domain loss 0.15367978811264038 len test set 128 alpha 0.1\n",
            "Step 10 loss 0.000662975013256073 domain loss 0.041081905364990234 test domain loss 0.13295389711856842 len test set 128 alpha 0.1\n",
            "Step 11 loss 0.03025311976671219 domain loss 0.07116404175758362 test domain loss 0.143610417842865 len test set 128 alpha 0.1\n",
            "Step 12 loss 0.05148286372423172 domain loss 0.16930152475833893 test domain loss 0.13511016964912415 len test set 128 alpha 0.1\n",
            "Epoch 9,Medium Loss 0.021836911972898703, Domain Loss (?) 0.06855584824314484, Test domain loss 0.3134784343150946 \n",
            "Starting epoch 10/10, LR = [0.0005]\n",
            "Step 0 loss 0.008489944040775299 domain loss 0.1048697754740715 test domain loss 0.06373771280050278 len test set 128 alpha 0.1\n",
            "Step 1 loss 0.005781088024377823 domain loss 0.1269395500421524 test domain loss 0.0755615234375 len test set 128 alpha 0.1\n",
            "Step 2 loss 0.0029422827064990997 domain loss 0.15576167404651642 test domain loss 0.07920155674219131 len test set 128 alpha 0.1\n",
            "Step 3 loss 0.0018457621335983276 domain loss 0.0919463187456131 test domain loss 0.15579059720039368 len test set 128 alpha 0.1\n",
            "Step 4 loss 0.016288477927446365 domain loss 0.1873544156551361 test domain loss 0.11922649294137955 len test set 128 alpha 0.1\n",
            "Step 5 loss 0.0030025169253349304 domain loss 0.1000225841999054 test domain loss 0.13013547658920288 len test set 128 alpha 0.1\n",
            "Step 6 loss 0.0017496049404144287 domain loss 0.18739023804664612 test domain loss 0.07508115470409393 len test set 128 alpha 0.1\n",
            "Step 7 loss 0.02387879602611065 domain loss 0.1344861090183258 test domain loss 0.048343807458877563 len test set 128 alpha 0.1\n",
            "Step 8 loss 0.002113405615091324 domain loss 0.11542339622974396 test domain loss 0.08188510686159134 len test set 128 alpha 0.1\n",
            "Step 9 loss 0.014222785830497742 domain loss 0.13354095816612244 test domain loss 0.08843725174665451 len test set 128 alpha 0.1\n",
            "Step 10 loss 0.013092795386910439 domain loss 0.20445682108402252 test domain loss 0.12031698226928711 len test set 128 alpha 0.1\n",
            "Step 11 loss 0.018666155636310577 domain loss 0.22856175899505615 test domain loss 0.047957949340343475 len test set 128 alpha 0.1\n",
            "Step 12 loss 0.03154821693897247 domain loss 0.16969646513462067 test domain loss 0.0881962850689888 len test set 128 alpha 0.1\n",
            "Epoch 10,Medium Loss 0.011047833240949191, Domain Loss (?) 0.14926538960291788, Test domain loss 0.09029783824315438 \n"
          ],
          "name": "stdout"
        },
        {
          "output_type": "display_data",
          "data": {
            "image/png": "[encoded data removed]",
            "text/plain": [
              "<Figure size 432x288 with 1 Axes>"
            ]
          },
          "metadata": {
            "tags": []
          }
        },
        {
          "output_type": "stream",
          "text": [
            "{'LR': [0.005], 'STEP_SIZE': [8], 'NUMBER_EPOCHS': [10], 'LAMBDA': [0.1], 'accuracy_cartoon': [], 'accuracy_sketch': [], 'loss': [0.011047833240949191], 'domain_loss': [0.14926538960291788], 'test_domain_loss': [0.09029783824315438], 'model': [AlexNet(\n",
            "  (features): Sequential(\n",
            "    (0): Conv2d(3, 64, kernel_size=(11, 11), stride=(4, 4), padding=(2, 2))\n",
            "    (1): ReLU(inplace=True)\n",
            "    (2): MaxPool2d(kernel_size=3, stride=2, padding=0, dilation=1, ceil_mode=False)\n",
            "    (3): Conv2d(64, 192, kernel_size=(5, 5), stride=(1, 1), padding=(2, 2))\n",
            "    (4): ReLU(inplace=True)\n",
            "    (5): MaxPool2d(kernel_size=3, stride=2, padding=0, dilation=1, ceil_mode=False)\n",
            "    (6): Conv2d(192, 384, kernel_size=(3, 3), stride=(1, 1), padding=(1, 1))\n",
            "    (7): ReLU(inplace=True)\n",
            "    (8): Conv2d(384, 256, kernel_size=(3, 3), stride=(1, 1), padding=(1, 1))\n",
            "    (9): ReLU(inplace=True)\n",
            "    (10): Conv2d(256, 256, kernel_size=(3, 3), stride=(1, 1), padding=(1, 1))\n",
            "    (11): ReLU(inplace=True)\n",
            "    (12): MaxPool2d(kernel_size=3, stride=2, padding=0, dilation=1, ceil_mode=False)\n",
            "  )\n",
            "  (avgpool): AdaptiveAvgPool2d(output_size=(6, 6))\n",
            "  (classifier): Sequential(\n",
            "    (0): Dropout(p=0.5, inplace=False)\n",
            "    (1): Linear(in_features=9216, out_features=4096, bias=True)\n",
            "    (2): ReLU(inplace=True)\n",
            "    (3): Dropout(p=0.5, inplace=False)\n",
            "    (4): Linear(in_features=4096, out_features=4096, bias=True)\n",
            "    (5): ReLU(inplace=True)\n",
            "    (6): Linear(in_features=4096, out_features=7, bias=True)\n",
            "  )\n",
            "  (domainclassifier): Sequential(\n",
            "    (0): Dropout(p=0.5, inplace=False)\n",
            "    (1): Linear(in_features=9216, out_features=4096, bias=True)\n",
            "    (2): ReLU(inplace=True)\n",
            "    (3): Dropout(p=0.5, inplace=False)\n",
            "    (4): Linear(in_features=4096, out_features=4096, bias=True)\n",
            "    (5): ReLU(inplace=True)\n",
            "    (6): Linear(in_features=4096, out_features=2, bias=True)\n",
            "  )\n",
            ")]}\n"
          ],
          "name": "stdout"
        }
      ]
    },
    {
      "cell_type": "code",
      "metadata": {
        "id": "c4jqDupBH1K5",
        "colab_type": "code",
        "colab": {
          "base_uri": "https://localhost:8080/",
          "height": 54
        },
        "outputId": "bf302c44-4957-4634-d77d-e316cd532805"
      },
      "source": [
        "net = copy.deepcopy(params['model'][0])\n",
        "net = net.to(DEVICE) # this will bring the network to GPU if DEVICE is cuda\n",
        "net.train(False) # Set Network to evaluation mode\n",
        "train_dataloader = DataLoader(train_dataset, batch_size=BATCH_SIZE, shuffle=True, num_workers=4, drop_last=True)\n",
        "test_dataloader = DataLoader(test_dataset, batch_size=BATCH_SIZE, shuffle=False, num_workers=4)\n",
        "running_corrects = 0\n",
        "for images, labels in tqdm(test_dataloader):\n",
        "  images = images.to(DEVICE)\n",
        "  labels = labels.to(DEVICE)\n",
        "\n",
        "  # Forward Pass\n",
        "  outputs = net(images)\n",
        "\n",
        "  # Get predictions\n",
        "  _, preds = torch.max(outputs.data, 1)\n",
        "\n",
        "  # Update Corrects\n",
        "  running_corrects += torch.sum(preds == labels.data).data.item()\n",
        "\n",
        "# Calculate Accuracy\n",
        "accuracy = running_corrects / float(len(test_dataset))\n",
        "\n",
        "print('Test Accuracy: {}'.format(accuracy))"
      ],
      "execution_count": 357,
      "outputs": [
        {
          "output_type": "stream",
          "text": [
            "100%|██████████| 16/16 [00:03<00:00,  5.46it/s]"
          ],
          "name": "stderr"
        },
        {
          "output_type": "stream",
          "text": [
            "Test Accuracy: 0.53515625\n"
          ],
          "name": "stdout"
        },
        {
          "output_type": "stream",
          "text": [
            "\n"
          ],
          "name": "stderr"
        }
      ]
    },
    {
      "cell_type": "markdown",
      "metadata": {
        "id": "p6Xead8W7Th_",
        "colab_type": "text"
      },
      "source": [
        "**CROSS DOMAIN VALIDATION (GRID SEARCH)**"
      ]
    },
    {
      "cell_type": "code",
      "metadata": {
        "id": "ZJMghImWZCSX",
        "colab_type": "code",
        "outputId": "11c6bb73-c55e-40b5-867f-1e4be285af5a",
        "colab": {
          "base_uri": "https://localhost:8080/",
          "height": 54
        }
      },
      "source": [
        "cartoon_dataset = torchvision.datasets.ImageFolder('./Homework3-PACS/PACS/cartoon',train_transform)\n",
        "sketch_dataset = torchvision.datasets.ImageFolder('./Homework3-PACS/PACS/sketch',train_transform)\n",
        "\n",
        "cartoon_dataloader = DataLoader(cartoon_dataset, batch_size=BATCH_SIZE, shuffle=True, num_workers=4, drop_last=True)\n",
        "sketch_dataloader = DataLoader(sketch_dataset, batch_size=BATCH_SIZE, shuffle=False, num_workers=4)\n",
        "\n",
        "# Check dataset sizes\n",
        "print('Train Dataset: {}'.format(len(cartoon_dataset)))\n",
        "print('Test Dataset: {}'.format(len(sketch_dataset)))"
      ],
      "execution_count": 361,
      "outputs": [
        {
          "output_type": "stream",
          "text": [
            "Train Dataset: 2344\n",
            "Test Dataset: 3929\n"
          ],
          "name": "stdout"
        }
      ]
    },
    {
      "cell_type": "code",
      "metadata": {
        "id": "-CJXZmhwWUad",
        "colab_type": "code",
        "outputId": "edada593-d5d6-4550-ec81-b4def7d99920",
        "colab": {
          "base_uri": "https://localhost:8080/",
          "height": 1000
        }
      },
      "source": [
        "#cross domain validation\n",
        "lrs =[0.001,0.01,0.05,0.005]\n",
        "STEPs = [6,10,15,8] \n",
        "Ns =[10, 15, 20, 10]\n",
        "LAMBDAs =[0.05,0.1,0.2, 0.1]\n",
        "\n",
        "net = alexnet(pretrained = True) # Loading AlexNet model\n",
        "#copia dei pesi\n",
        "net.classifier[6] = nn.Linear(4096, 7)\n",
        "weight1=deepcopy(net.classifier[1].weight.data)\n",
        "bias1=deepcopy(net.classifier[1].bias.data)\n",
        "weight4=deepcopy(net.classifier[4].weight.data)\n",
        "bias4=deepcopy(net.classifier[4].bias.data)\n",
        "net.domainclassifier[1].weight.data=weight1\n",
        "net.domainclassifier[1].bias.data=bias1\n",
        "net.domainclassifier[4].weight.data=weight4\n",
        "net.domainclassifier[4].bias.data=bias4\n",
        "# AlexNet has 1000 output neurons, corresponding to the 1000 ImageNet's classes\n",
        "# We need 101 outputs for Caltech-101\n",
        "net.classifier[6] = nn.Linear(4096, NUM_CLASSES) # nn.Linear in pytorch is a fully connected layer\n",
        "                                                 # The convolutional layer is nn.Conv2d\n",
        "\n",
        "# We just changed the last layer of AlexNet with a new fully connected layer with 101 outputs\n",
        "# It is mandatory to study torchvision.models.alexnet source code\n",
        "\n",
        "params = train(net, train_dataloader,lrs,STEPs,Ns) #train su dataset photo\n",
        "\n",
        "print(params)"
      ],
      "execution_count": 365,
      "outputs": [
        {
          "output_type": "stream",
          "text": [
            "lr 0.001 step 6 epochs 10 \n",
            "Starting epoch 1/10, LR = [0.001]\n",
            "Epoch 1,Medium Loss 0.9522642768346347\n",
            "Starting epoch 2/10, LR = [0.001]\n",
            "Epoch 2,Medium Loss 0.1789948229606335\n",
            "Starting epoch 3/10, LR = [0.001]\n",
            "Epoch 3,Medium Loss 0.1153240312750523\n",
            "Starting epoch 4/10, LR = [0.001]\n",
            "Epoch 4,Medium Loss 0.08932366938545154\n",
            "Starting epoch 5/10, LR = [0.001]\n",
            "Epoch 5,Medium Loss 0.06010916427924083\n",
            "Starting epoch 6/10, LR = [0.001]\n",
            "Epoch 6,Medium Loss 0.05111426616517397\n",
            "Starting epoch 7/10, LR = [0.0001]\n",
            "Epoch 7,Medium Loss 0.04920659887676056\n",
            "Starting epoch 8/10, LR = [0.0001]\n",
            "Epoch 8,Medium Loss 0.035020895732136875\n",
            "Starting epoch 9/10, LR = [0.0001]\n",
            "Epoch 9,Medium Loss 0.038998702684274085\n",
            "Starting epoch 10/10, LR = [0.0001]\n",
            "Epoch 10,Medium Loss 0.03129887093718235\n"
          ],
          "name": "stdout"
        },
        {
          "output_type": "display_data",
          "data": {
            "image/png": "[encoded data removed]",
            "text/plain": [
              "<Figure size 432x288 with 1 Axes>"
            ]
          },
          "metadata": {
            "tags": []
          }
        },
        {
          "output_type": "stream",
          "text": [
            "lr 0.01 step 10 epochs 15 \n",
            "Starting epoch 1/15, LR = [0.01]\n",
            "Epoch 1,Medium Loss 0.4782694818881842\n",
            "Starting epoch 2/15, LR = [0.01]\n",
            "Epoch 2,Medium Loss 0.13710982352495193\n",
            "Starting epoch 3/15, LR = [0.01]\n",
            "Epoch 3,Medium Loss 0.0811662138081514\n",
            "Starting epoch 4/15, LR = [0.01]\n",
            "Epoch 4,Medium Loss 0.06759239460986394\n",
            "Starting epoch 5/15, LR = [0.01]\n",
            "Epoch 5,Medium Loss 0.031054175817049466\n",
            "Starting epoch 6/15, LR = [0.01]\n",
            "Epoch 6,Medium Loss 0.02630692347884178\n",
            "Starting epoch 7/15, LR = [0.01]\n",
            "Epoch 7,Medium Loss 0.016330727017842807\n",
            "Starting epoch 8/15, LR = [0.01]\n",
            "Epoch 8,Medium Loss 0.01116402132006792\n",
            "Starting epoch 9/15, LR = [0.01]\n",
            "Epoch 9,Medium Loss 0.017806907542623006\n",
            "Starting epoch 10/15, LR = [0.01]\n",
            "Epoch 10,Medium Loss 0.01161283627152443\n",
            "Starting epoch 11/15, LR = [0.001]\n",
            "Epoch 11,Medium Loss 0.005758871539280965\n",
            "Starting epoch 12/15, LR = [0.001]\n",
            "Epoch 12,Medium Loss 0.0025671104399057534\n",
            "Starting epoch 13/15, LR = [0.001]\n",
            "Epoch 13,Medium Loss 0.002478775496666248\n",
            "Starting epoch 14/15, LR = [0.001]\n",
            "Epoch 14,Medium Loss 0.0019911696704534385\n",
            "Starting epoch 15/15, LR = [0.001]\n",
            "Epoch 15,Medium Loss 0.002462866214605478\n"
          ],
          "name": "stdout"
        },
        {
          "output_type": "display_data",
          "data": {
            "image/png": "[encoded data removed]",
            "text/plain": [
              "<Figure size 432x288 with 1 Axes>"
            ]
          },
          "metadata": {
            "tags": []
          }
        },
        {
          "output_type": "stream",
          "text": [
            "lr 0.05 step 15 epochs 20 \n",
            "Starting epoch 1/20, LR = [0.05]\n",
            "Epoch 1,Medium Loss nan\n",
            "Starting epoch 2/20, LR = [0.05]\n",
            "Epoch 2,Medium Loss nan\n",
            "Starting epoch 3/20, LR = [0.05]\n",
            "Epoch 3,Medium Loss nan\n",
            "Starting epoch 4/20, LR = [0.05]\n",
            "Epoch 4,Medium Loss nan\n",
            "Starting epoch 5/20, LR = [0.05]\n",
            "Epoch 5,Medium Loss nan\n",
            "Starting epoch 6/20, LR = [0.05]\n",
            "Epoch 6,Medium Loss nan\n",
            "Starting epoch 7/20, LR = [0.05]\n",
            "Epoch 7,Medium Loss nan\n",
            "Starting epoch 8/20, LR = [0.05]\n",
            "Epoch 8,Medium Loss nan\n",
            "Starting epoch 9/20, LR = [0.05]\n",
            "Epoch 9,Medium Loss nan\n",
            "Starting epoch 10/20, LR = [0.05]\n",
            "Epoch 10,Medium Loss nan\n",
            "Starting epoch 11/20, LR = [0.05]\n",
            "Epoch 11,Medium Loss nan\n",
            "Starting epoch 12/20, LR = [0.05]\n",
            "Epoch 12,Medium Loss nan\n",
            "Starting epoch 13/20, LR = [0.05]\n",
            "Epoch 13,Medium Loss nan\n",
            "Starting epoch 14/20, LR = [0.05]\n",
            "Epoch 14,Medium Loss nan\n",
            "Starting epoch 15/20, LR = [0.05]\n",
            "Epoch 15,Medium Loss nan\n",
            "Starting epoch 16/20, LR = [0.005000000000000001]\n",
            "Epoch 16,Medium Loss nan\n",
            "Starting epoch 17/20, LR = [0.005000000000000001]\n",
            "Epoch 17,Medium Loss nan\n",
            "Starting epoch 18/20, LR = [0.005000000000000001]\n",
            "Epoch 18,Medium Loss nan\n",
            "Starting epoch 19/20, LR = [0.005000000000000001]\n",
            "Epoch 19,Medium Loss nan\n",
            "Starting epoch 20/20, LR = [0.005000000000000001]\n",
            "Epoch 20,Medium Loss nan\n"
          ],
          "name": "stdout"
        },
        {
          "output_type": "display_data",
          "data": {
            "image/png": "[encoded data removed]",
            "text/plain": [
              "<Figure size 432x288 with 1 Axes>"
            ]
          },
          "metadata": {
            "tags": []
          }
        },
        {
          "output_type": "stream",
          "text": [
            "lr 0.005 step 8 epochs 10 \n",
            "Starting epoch 1/10, LR = [0.005]\n",
            "Epoch 1,Medium Loss 0.5419208877361738\n",
            "Starting epoch 2/10, LR = [0.005]\n",
            "Epoch 2,Medium Loss 0.1261170578117554\n",
            "Starting epoch 3/10, LR = [0.005]\n",
            "Epoch 3,Medium Loss 0.06943297730042385\n",
            "Starting epoch 4/10, LR = [0.005]\n",
            "Epoch 4,Medium Loss 0.03345642740336748\n",
            "Starting epoch 5/10, LR = [0.005]\n",
            "Epoch 5,Medium Loss 0.018335961665098485\n",
            "Starting epoch 6/10, LR = [0.005]\n",
            "Epoch 6,Medium Loss 0.01809128889670739\n",
            "Starting epoch 7/10, LR = [0.005]\n",
            "Epoch 7,Medium Loss 0.009471490692633849\n",
            "Starting epoch 8/10, LR = [0.005]\n",
            "Epoch 8,Medium Loss 0.009356092804899583\n",
            "Starting epoch 9/10, LR = [0.0005]\n",
            "Epoch 9,Medium Loss 0.0033530604380827686\n",
            "Starting epoch 10/10, LR = [0.0005]\n",
            "Epoch 10,Medium Loss 0.002612579040802442\n"
          ],
          "name": "stdout"
        },
        {
          "output_type": "display_data",
          "data": {
            "image/png": "[encoded data removed]",
            "text/plain": [
              "<Figure size 432x288 with 1 Axes>"
            ]
          },
          "metadata": {
            "tags": []
          }
        },
        {
          "output_type": "stream",
          "text": [
            "{'LR': [0.001, 0.01, 0.05, 0.005], 'STEP_SIZE': [6, 10, 15, 8], 'NUMBER_EPOCHS': [10, 15, 20, 10], 'accuracy_cartoon': [], 'accuracy_sketch': [], 'loss': [0.03129887093718235, 0.002462866214605478, nan, 0.002612579040802442], 'model': [AlexNet(\n",
            "  (features): Sequential(\n",
            "    (0): Conv2d(3, 64, kernel_size=(11, 11), stride=(4, 4), padding=(2, 2))\n",
            "    (1): ReLU(inplace=True)\n",
            "    (2): MaxPool2d(kernel_size=3, stride=2, padding=0, dilation=1, ceil_mode=False)\n",
            "    (3): Conv2d(64, 192, kernel_size=(5, 5), stride=(1, 1), padding=(2, 2))\n",
            "    (4): ReLU(inplace=True)\n",
            "    (5): MaxPool2d(kernel_size=3, stride=2, padding=0, dilation=1, ceil_mode=False)\n",
            "    (6): Conv2d(192, 384, kernel_size=(3, 3), stride=(1, 1), padding=(1, 1))\n",
            "    (7): ReLU(inplace=True)\n",
            "    (8): Conv2d(384, 256, kernel_size=(3, 3), stride=(1, 1), padding=(1, 1))\n",
            "    (9): ReLU(inplace=True)\n",
            "    (10): Conv2d(256, 256, kernel_size=(3, 3), stride=(1, 1), padding=(1, 1))\n",
            "    (11): ReLU(inplace=True)\n",
            "    (12): MaxPool2d(kernel_size=3, stride=2, padding=0, dilation=1, ceil_mode=False)\n",
            "  )\n",
            "  (avgpool): AdaptiveAvgPool2d(output_size=(6, 6))\n",
            "  (classifier): Sequential(\n",
            "    (0): Dropout(p=0.5, inplace=False)\n",
            "    (1): Linear(in_features=9216, out_features=4096, bias=True)\n",
            "    (2): ReLU(inplace=True)\n",
            "    (3): Dropout(p=0.5, inplace=False)\n",
            "    (4): Linear(in_features=4096, out_features=4096, bias=True)\n",
            "    (5): ReLU(inplace=True)\n",
            "    (6): Linear(in_features=4096, out_features=7, bias=True)\n",
            "  )\n",
            "  (domainclassifier): Sequential(\n",
            "    (0): Dropout(p=0.5, inplace=False)\n",
            "    (1): Linear(in_features=9216, out_features=4096, bias=True)\n",
            "    (2): ReLU(inplace=True)\n",
            "    (3): Dropout(p=0.5, inplace=False)\n",
            "    (4): Linear(in_features=4096, out_features=4096, bias=True)\n",
            "    (5): ReLU(inplace=True)\n",
            "    (6): Linear(in_features=4096, out_features=2, bias=True)\n",
            "  )\n",
            "), AlexNet(\n",
            "  (features): Sequential(\n",
            "    (0): Conv2d(3, 64, kernel_size=(11, 11), stride=(4, 4), padding=(2, 2))\n",
            "    (1): ReLU(inplace=True)\n",
            "    (2): MaxPool2d(kernel_size=3, stride=2, padding=0, dilation=1, ceil_mode=False)\n",
            "    (3): Conv2d(64, 192, kernel_size=(5, 5), stride=(1, 1), padding=(2, 2))\n",
            "    (4): ReLU(inplace=True)\n",
            "    (5): MaxPool2d(kernel_size=3, stride=2, padding=0, dilation=1, ceil_mode=False)\n",
            "    (6): Conv2d(192, 384, kernel_size=(3, 3), stride=(1, 1), padding=(1, 1))\n",
            "    (7): ReLU(inplace=True)\n",
            "    (8): Conv2d(384, 256, kernel_size=(3, 3), stride=(1, 1), padding=(1, 1))\n",
            "    (9): ReLU(inplace=True)\n",
            "    (10): Conv2d(256, 256, kernel_size=(3, 3), stride=(1, 1), padding=(1, 1))\n",
            "    (11): ReLU(inplace=True)\n",
            "    (12): MaxPool2d(kernel_size=3, stride=2, padding=0, dilation=1, ceil_mode=False)\n",
            "  )\n",
            "  (avgpool): AdaptiveAvgPool2d(output_size=(6, 6))\n",
            "  (classifier): Sequential(\n",
            "    (0): Dropout(p=0.5, inplace=False)\n",
            "    (1): Linear(in_features=9216, out_features=4096, bias=True)\n",
            "    (2): ReLU(inplace=True)\n",
            "    (3): Dropout(p=0.5, inplace=False)\n",
            "    (4): Linear(in_features=4096, out_features=4096, bias=True)\n",
            "    (5): ReLU(inplace=True)\n",
            "    (6): Linear(in_features=4096, out_features=7, bias=True)\n",
            "  )\n",
            "  (domainclassifier): Sequential(\n",
            "    (0): Dropout(p=0.5, inplace=False)\n",
            "    (1): Linear(in_features=9216, out_features=4096, bias=True)\n",
            "    (2): ReLU(inplace=True)\n",
            "    (3): Dropout(p=0.5, inplace=False)\n",
            "    (4): Linear(in_features=4096, out_features=4096, bias=True)\n",
            "    (5): ReLU(inplace=True)\n",
            "    (6): Linear(in_features=4096, out_features=2, bias=True)\n",
            "  )\n",
            "), AlexNet(\n",
            "  (features): Sequential(\n",
            "    (0): Conv2d(3, 64, kernel_size=(11, 11), stride=(4, 4), padding=(2, 2))\n",
            "    (1): ReLU(inplace=True)\n",
            "    (2): MaxPool2d(kernel_size=3, stride=2, padding=0, dilation=1, ceil_mode=False)\n",
            "    (3): Conv2d(64, 192, kernel_size=(5, 5), stride=(1, 1), padding=(2, 2))\n",
            "    (4): ReLU(inplace=True)\n",
            "    (5): MaxPool2d(kernel_size=3, stride=2, padding=0, dilation=1, ceil_mode=False)\n",
            "    (6): Conv2d(192, 384, kernel_size=(3, 3), stride=(1, 1), padding=(1, 1))\n",
            "    (7): ReLU(inplace=True)\n",
            "    (8): Conv2d(384, 256, kernel_size=(3, 3), stride=(1, 1), padding=(1, 1))\n",
            "    (9): ReLU(inplace=True)\n",
            "    (10): Conv2d(256, 256, kernel_size=(3, 3), stride=(1, 1), padding=(1, 1))\n",
            "    (11): ReLU(inplace=True)\n",
            "    (12): MaxPool2d(kernel_size=3, stride=2, padding=0, dilation=1, ceil_mode=False)\n",
            "  )\n",
            "  (avgpool): AdaptiveAvgPool2d(output_size=(6, 6))\n",
            "  (classifier): Sequential(\n",
            "    (0): Dropout(p=0.5, inplace=False)\n",
            "    (1): Linear(in_features=9216, out_features=4096, bias=True)\n",
            "    (2): ReLU(inplace=True)\n",
            "    (3): Dropout(p=0.5, inplace=False)\n",
            "    (4): Linear(in_features=4096, out_features=4096, bias=True)\n",
            "    (5): ReLU(inplace=True)\n",
            "    (6): Linear(in_features=4096, out_features=7, bias=True)\n",
            "  )\n",
            "  (domainclassifier): Sequential(\n",
            "    (0): Dropout(p=0.5, inplace=False)\n",
            "    (1): Linear(in_features=9216, out_features=4096, bias=True)\n",
            "    (2): ReLU(inplace=True)\n",
            "    (3): Dropout(p=0.5, inplace=False)\n",
            "    (4): Linear(in_features=4096, out_features=4096, bias=True)\n",
            "    (5): ReLU(inplace=True)\n",
            "    (6): Linear(in_features=4096, out_features=2, bias=True)\n",
            "  )\n",
            "), AlexNet(\n",
            "  (features): Sequential(\n",
            "    (0): Conv2d(3, 64, kernel_size=(11, 11), stride=(4, 4), padding=(2, 2))\n",
            "    (1): ReLU(inplace=True)\n",
            "    (2): MaxPool2d(kernel_size=3, stride=2, padding=0, dilation=1, ceil_mode=False)\n",
            "    (3): Conv2d(64, 192, kernel_size=(5, 5), stride=(1, 1), padding=(2, 2))\n",
            "    (4): ReLU(inplace=True)\n",
            "    (5): MaxPool2d(kernel_size=3, stride=2, padding=0, dilation=1, ceil_mode=False)\n",
            "    (6): Conv2d(192, 384, kernel_size=(3, 3), stride=(1, 1), padding=(1, 1))\n",
            "    (7): ReLU(inplace=True)\n",
            "    (8): Conv2d(384, 256, kernel_size=(3, 3), stride=(1, 1), padding=(1, 1))\n",
            "    (9): ReLU(inplace=True)\n",
            "    (10): Conv2d(256, 256, kernel_size=(3, 3), stride=(1, 1), padding=(1, 1))\n",
            "    (11): ReLU(inplace=True)\n",
            "    (12): MaxPool2d(kernel_size=3, stride=2, padding=0, dilation=1, ceil_mode=False)\n",
            "  )\n",
            "  (avgpool): AdaptiveAvgPool2d(output_size=(6, 6))\n",
            "  (classifier): Sequential(\n",
            "    (0): Dropout(p=0.5, inplace=False)\n",
            "    (1): Linear(in_features=9216, out_features=4096, bias=True)\n",
            "    (2): ReLU(inplace=True)\n",
            "    (3): Dropout(p=0.5, inplace=False)\n",
            "    (4): Linear(in_features=4096, out_features=4096, bias=True)\n",
            "    (5): ReLU(inplace=True)\n",
            "    (6): Linear(in_features=4096, out_features=7, bias=True)\n",
            "  )\n",
            "  (domainclassifier): Sequential(\n",
            "    (0): Dropout(p=0.5, inplace=False)\n",
            "    (1): Linear(in_features=9216, out_features=4096, bias=True)\n",
            "    (2): ReLU(inplace=True)\n",
            "    (3): Dropout(p=0.5, inplace=False)\n",
            "    (4): Linear(in_features=4096, out_features=4096, bias=True)\n",
            "    (5): ReLU(inplace=True)\n",
            "    (6): Linear(in_features=4096, out_features=2, bias=True)\n",
            "  )\n",
            ")]}\n"
          ],
          "name": "stdout"
        }
      ]
    },
    {
      "cell_type": "code",
      "metadata": {
        "id": "rqYvuhEsaqbd",
        "colab_type": "code",
        "outputId": "cc9a9137-be71-4a0f-e958-b5b8fe86398b",
        "colab": {
          "base_uri": "https://localhost:8080/",
          "height": 164
        }
      },
      "source": [
        "for i in [0,1,2,3]:\n",
        "  net = copy.deepcopy(params['model'][i])\n",
        "  net = net.to(DEVICE) # this will bring the network to GPU if DEVICE is cuda\n",
        "  net.train(False) # Set Network to evaluation mode\n",
        "  #test on catoon\n",
        "  running_corrects = 0\n",
        "  for images, labels in tqdm(cartoon_dataloader):\n",
        "    images = images.to(DEVICE)\n",
        "    labels = labels.to(DEVICE)\n",
        "\n",
        "    # Forward Pass\n",
        "    outputs = net(images)\n",
        "\n",
        "    # Get predictions\n",
        "    _, preds = torch.max(outputs.data, 1)\n",
        "\n",
        "    # Update Corrects\n",
        "    running_corrects += torch.sum(preds == labels.data).data.item()\n",
        "\n",
        "  # Calculate Accuracy\n",
        "  params['accuracy_cartoon'].append(running_corrects / float(len(cartoon_dataset)))\n",
        "  #test on sketch\n",
        "  running_corrects = 0\n",
        "  for images, labels in tqdm(sketch_dataloader):\n",
        "    images = images.to(DEVICE)\n",
        "    labels = labels.to(DEVICE)\n",
        "\n",
        "    # Forward Pass\n",
        "    outputs = net(images)\n",
        "\n",
        "    # Get predictions\n",
        "    _, preds = torch.max(outputs.data, 1)\n",
        "\n",
        "    # Update Corrects\n",
        "    running_corrects += torch.sum(preds == labels.data).data.item()\n",
        "\n",
        "  # Calculate Accuracy\n",
        "  params['accuracy_sketch'].append(running_corrects / float(len(sketch_dataset)))"
      ],
      "execution_count": 366,
      "outputs": [
        {
          "output_type": "stream",
          "text": [
            "100%|██████████| 18/18 [00:04<00:00,  3.94it/s]\n",
            "100%|██████████| 31/31 [00:07<00:00,  4.03it/s]\n",
            "100%|██████████| 18/18 [00:04<00:00,  4.00it/s]\n",
            "100%|██████████| 31/31 [00:07<00:00,  3.94it/s]\n",
            "100%|██████████| 18/18 [00:04<00:00,  4.01it/s]\n",
            "100%|██████████| 31/31 [00:07<00:00,  3.96it/s]\n",
            "100%|██████████| 18/18 [00:04<00:00,  3.93it/s]\n",
            "100%|██████████| 31/31 [00:07<00:00,  6.36it/s]\n"
          ],
          "name": "stderr"
        }
      ]
    },
    {
      "cell_type": "code",
      "metadata": {
        "id": "JTlEKxOHhjEh",
        "colab_type": "code",
        "outputId": "f9d5253f-67a9-4c2a-b24d-3a25b9f92dc9",
        "colab": {
          "base_uri": "https://localhost:8080/",
          "height": 72
        }
      },
      "source": [
        "max = 0\n",
        "best_model = {'accuracy':0}\n",
        "for lr,step,epoch,acc_cart,acc_sk,model in zip(params['LR'],params['STEP_SIZE'],params['NUMBER_EPOCHS'],params['accuracy_cartoon'], params['accuracy_sketch'],params['model']):\n",
        "  medium_accuracy = (acc_cart + acc_sk) / 2\n",
        "  if(medium_accuracy > max):\n",
        "    best_model['model'] = copy.deepcopy(model)\n",
        "    best_model['LR'] = lr\n",
        "    best_model['STEP_SIZE'] = step\n",
        "    best_model['NUMBER_EPOCHS'] = epoch\n",
        "    best_model['accuracy'] = medium_accuracy\n",
        "    max = medium_accuracy\n",
        "    print('lr {} step {} epochs {} accuracy_cartoon {} accuracy_sketch {} -> medium accuracy {}'.format(lr,step,epoch,acc_cart,acc_sk, max))\n"
      ],
      "execution_count": 367,
      "outputs": [
        {
          "output_type": "stream",
          "text": [
            "lr 0.001 step 6 epochs 10 accuracy_cartoon 0.2098976109215017 accuracy_sketch 0.2237210486128786 -> medium accuracy 0.21680932976719014\n",
            "lr 0.01 step 10 epochs 15 accuracy_cartoon 0.2935153583617747 accuracy_sketch 0.2746245864087554 -> medium accuracy 0.2840699723852651\n",
            "lr 0.005 step 8 epochs 10 accuracy_cartoon 0.27517064846416384 accuracy_sketch 0.31051158055484857 -> medium accuracy 0.29284111450950623\n"
          ],
          "name": "stdout"
        }
      ]
    },
    {
      "cell_type": "code",
      "metadata": {
        "id": "OKuDwzK8pROc",
        "colab_type": "code",
        "colab": {}
      },
      "source": [
        "net = copy.deepcopy(best_model['model']) # this will bring the network to GPU if DEVICE is cuda\n",
        "net.train(False) # Set Network to evaluation mode\n",
        "#test on catoon\n",
        "running_corrects = 0\n",
        "for images, labels in tqdm(test_dataloader):\n",
        "  images = images.to(DEVICE)\n",
        "  labels = labels.to(DEVICE)\n",
        "\n",
        "  # Forward Pass\n",
        "  outputs = net(images)\n",
        "\n",
        "  # Get predictions\n",
        "  _, preds = torch.max(outputs.data, 1)\n",
        "\n",
        "  # Update Corrects\n",
        "  running_corrects += torch.sum(preds == labels.data).data.item()\n",
        "\n",
        "# Calculate Accuracy\n",
        "accuracy = running_corrects / float(len(test_dataset))\n",
        "print('\\naccuracy on art dataset {}'.format(accuracy))"
      ],
      "execution_count": 0,
      "outputs": []
    },
    {
      "cell_type": "code",
      "metadata": {
        "id": "lh8QNq0osAPR",
        "colab_type": "code",
        "colab": {}
      },
      "source": [
        "cartoon_dataset = Caltech(train_transform,sets = [1])\n",
        "sketch_dataset = Caltech(eval_transform,sets = [3])\n",
        "train_dataset = Caltech(train_transform,sets = [2])\n",
        "test_dataset = Caltech(eval_transform,sets = [0])\n",
        "\n",
        "cartoon_dataloader = DataLoader(cartoon_dataset, batch_size=BATCH_SIZE, shuffle=True, num_workers=4, drop_last=True)\n",
        "sketch_dataloader = DataLoader(sketch_dataset, batch_size=BATCH_SIZE, shuffle=True, num_workers=4, drop_last = True)\n",
        "train_dataloader = DataLoader(train_dataset, batch_size=BATCH_SIZE, shuffle=True, num_workers=4, drop_last=True)\n",
        "test_dataloader = DataLoader(test_dataset, batch_size=BATCH_SIZE, shuffle=True, num_workers=4, drop_last = True)"
      ],
      "execution_count": 0,
      "outputs": []
    },
    {
      "cell_type": "markdown",
      "metadata": {
        "id": "uA5yQLFvpN3h",
        "colab_type": "text"
      },
      "source": [
        "**4c - 4d**"
      ]
    },
    {
      "cell_type": "code",
      "metadata": {
        "id": "w_20lsvOqPk5",
        "colab_type": "code",
        "colab": {}
      },
      "source": [
        "#cross domain validation\n",
        "lrs =[0.001,0.01,0.05]\n",
        "STEPs = [6,10,15] \n",
        "Ns =[10, 15, 20]\n",
        "LAMBDAs =[0.05,0.1,0.2]\n",
        "\n",
        "net = alexnet(pretrained = True) # Loading AlexNet model\n",
        "#copia dei pesi\n",
        "net.classifier[6] = nn.Linear(4096, 7)\n",
        "weight1=deepcopy(net.classifier[1].weight.data)\n",
        "bias1=deepcopy(net.classifier[1].bias.data)\n",
        "weight4=deepcopy(net.classifier[4].weight.data)\n",
        "bias4=deepcopy(net.classifier[4].bias.data)\n",
        "net.domainclassifier[1].weight.data=weight1\n",
        "net.domainclassifier[1].bias.data=bias1\n",
        "net.domainclassifier[4].weight.data=weight4\n",
        "net.domainclassifier[4].bias.data=bias4\n",
        "# AlexNet has 1000 output neurons, corresponding to the 1000 ImageNet's classes\n",
        "# We need 101 outputs for Caltech-101\n",
        "net.classifier[6] = nn.Linear(4096, NUM_CLASSES) # nn.Linear in pytorch is a fully connected layer\n",
        "                                                 # The convolutional layer is nn.Conv2d\n",
        "\n",
        "# We just changed the last layer of AlexNet with a new fully connected layer with 101 outputs\n",
        "# It is mandatory to study torchvision.models.alexnet source code\n",
        "\n",
        "params_sk = DANN_train(net, train_dataloader,sketch_dataloader,lrs,STEPs,Ns,LAMBDAs) #train su dataset photo\n",
        "params_ca = DANN_train(net, train_dataloader,cartoon_dataloader,lrs,STEPs,Ns,LAMBDAs) #train su dataset photo\n",
        "\n",
        "\n",
        "print(params_sk)\n",
        "print(params_ca)"
      ],
      "execution_count": 0,
      "outputs": []
    },
    {
      "cell_type": "code",
      "metadata": {
        "id": "H31aZmnUrenS",
        "colab_type": "code",
        "colab": {}
      },
      "source": [
        "for net in params['model']:\n",
        "  net = net.to(DEVICE) # this will bring the network to GPU if DEVICE is cuda\n",
        "  net.train(False) # Set Network to evaluation mode\n",
        "  #test on catoon\n",
        "  running_corrects = 0\n",
        "  for images, labels in tqdm(cartoon_dataloader):\n",
        "    images = images.to(DEVICE)\n",
        "    labels = labels.to(DEVICE)\n",
        "\n",
        "    # Forward Pass\n",
        "    outputs = net(images)\n",
        "\n",
        "    # Get predictions\n",
        "    _, preds = torch.max(outputs.data, 1)\n",
        "\n",
        "    # Update Corrects\n",
        "    running_corrects += torch.sum(preds == labels.data).data.item()\n",
        "\n",
        "  # Calculate Accuracy\n",
        "  params['accuracy_cartoon'].append(running_corrects / float(len(cartoon_dataset)))\n",
        "  #test on sketch\n",
        "  running_corrects = 0\n",
        "  for images, labels in tqdm(sketch_dataloader):\n",
        "    images = images.to(DEVICE)\n",
        "    labels = labels.to(DEVICE)\n",
        "\n",
        "    # Forward Pass\n",
        "    outputs = net(images)\n",
        "\n",
        "    # Get predictions\n",
        "    _, preds = torch.max(outputs.data, 1)\n",
        "\n",
        "    # Update Corrects\n",
        "    running_corrects += torch.sum(preds == labels.data).data.item()\n",
        "\n",
        "  # Calculate Accuracy\n",
        "  params['accuracy_sketch'].append(running_corrects / float(len(sketch_dataset)))"
      ],
      "execution_count": 0,
      "outputs": []
    },
    {
      "cell_type": "code",
      "metadata": {
        "id": "dNHSk7X8wC3V",
        "colab_type": "code",
        "colab": {}
      },
      "source": [
        "max = 0\n",
        "best_model = {'accuracy':0}\n",
        "for lr,step,epoch,acc_cart,acc_sk,model,loss,dloss,tdloss in zip(params['LR'],params['STEP_SIZE'],params['NUMBER_EPOCHS'],params['accuracy_cartoon'], params['accuracy_sketch'],params['model'],params['loss'], params['domain_loss'], params['test_domain_loss']):\n",
        "  medium_accuracy = (acc_cart + acc_sk) / 2\n",
        "  if(medium_accuracy > max):\n",
        "    best_DANN_model['model'] = copy.deepcopy(model)\n",
        "    best_DANN_model['LR'] = lr\n",
        "    best_DANN_model['STEP_SIZE'] = step\n",
        "    best_DANN_model['NUMBER_EPOCHS'] = epoch\n",
        "    best_DANN_model['accuracy'] = medium_accuracy\n",
        "    best_DANN_model['loss'] = loss\n",
        "    best_DANN_model['DomainLoss'] = dloss\n",
        "    best_DANN_model['TestDomainLoss'] = tdloss\n",
        "    max = medium_accuracy\n",
        "    print('lr {} step {} epochs {} accuracy_cartoon {} accuracy_sketch {} -> medium accuracy {}'.format(lr,step,epoch,acc_cart,acc_sk, max))\n",
        "    print('loss {} domain loss {} test domain loss {}'.format(loss,dloss,tdloss))"
      ],
      "execution_count": 0,
      "outputs": []
    }
  ]
}