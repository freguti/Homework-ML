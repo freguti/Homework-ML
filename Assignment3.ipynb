{
  "nbformat": 4,
  "nbformat_minor": 0,
  "metadata": {
    "colab": {
      "name": "Assignment3.ipynb",
      "provenance": [],
      "collapsed_sections": [],
      "include_colab_link": true
    },
    "kernelspec": {
      "name": "python3",
      "display_name": "Python 3"
    },
    "accelerator": "GPU"
  },
  "cells": [
    {
      "cell_type": "markdown",
      "metadata": {
        "id": "view-in-github",
        "colab_type": "text"
      },
      "source": [
        "<a href=\"https://colab.research.google.com/github/freguti/Homework-ML/blob/Homework_3/Assignment3.ipynb\" target=\"_parent\"><img src=\"https://colab.research.google.com/assets/colab-badge.svg\" alt=\"Open In Colab\"/></a>"
      ]
    },
    {
      "cell_type": "markdown",
      "metadata": {
        "id": "c9QcGnGPdX2C",
        "colab_type": "text"
      },
      "source": [
        "\n",
        "**Install requirements**"
      ]
    },
    {
      "cell_type": "code",
      "metadata": {
        "id": "k9O3aM3Tb28q",
        "colab_type": "code",
        "outputId": "31f47eed-d0d2-44ea-e3cb-82610ffce906",
        "colab": {
          "base_uri": "https://localhost:8080/",
          "height": 201
        }
      },
      "source": [
        "!pip3 install 'torch==1.3.1'\n",
        "!pip3 install 'torchvision==0.4.2'\n",
        "!pip3 install 'Pillow-SIMD'\n",
        "!pip3 install 'tqdm'"
      ],
      "execution_count": 81,
      "outputs": [
        {
          "output_type": "stream",
          "text": [
            "Requirement already satisfied: torch==1.3.1 in /usr/local/lib/python3.6/dist-packages (1.3.1)\n",
            "Requirement already satisfied: numpy in /usr/local/lib/python3.6/dist-packages (from torch==1.3.1) (1.17.4)\n",
            "Requirement already satisfied: torchvision==0.4.2 in /usr/local/lib/python3.6/dist-packages (0.4.2)\n",
            "Requirement already satisfied: torch==1.3.1 in /usr/local/lib/python3.6/dist-packages (from torchvision==0.4.2) (1.3.1)\n",
            "Requirement already satisfied: numpy in /usr/local/lib/python3.6/dist-packages (from torchvision==0.4.2) (1.17.4)\n",
            "Requirement already satisfied: six in /usr/local/lib/python3.6/dist-packages (from torchvision==0.4.2) (1.12.0)\n",
            "Requirement already satisfied: pillow>=4.1.1 in /usr/local/lib/python3.6/dist-packages (from torchvision==0.4.2) (4.3.0)\n",
            "Requirement already satisfied: olefile in /usr/local/lib/python3.6/dist-packages (from pillow>=4.1.1->torchvision==0.4.2) (0.46)\n",
            "Requirement already satisfied: Pillow-SIMD in /usr/local/lib/python3.6/dist-packages (6.0.0.post0)\n",
            "Requirement already satisfied: tqdm in /usr/local/lib/python3.6/dist-packages (4.28.1)\n"
          ],
          "name": "stdout"
        }
      ]
    },
    {
      "cell_type": "markdown",
      "metadata": {
        "id": "fo942LMOdlh4",
        "colab_type": "text"
      },
      "source": [
        "**Import libraries**"
      ]
    },
    {
      "cell_type": "code",
      "metadata": {
        "id": "DokFOdD1dJEl",
        "colab_type": "code",
        "colab": {}
      },
      "source": [
        "import os\n",
        "import logging\n",
        "import numpy as np\n",
        "import pandas as pd\n",
        "\n",
        "import torch\n",
        "import torch.nn as nn\n",
        "import torch.optim as optim\n",
        "from torch.utils.data import Subset, DataLoader\n",
        "from torch.backends import cudnn\n",
        "\n",
        "import torchvision\n",
        "from torchvision import transforms\n",
        "from torchvision.models import alexnet\n",
        "\n",
        "from PIL import Image\n",
        "from tqdm import tqdm\n",
        "from copy import deepcopy"
      ],
      "execution_count": 0,
      "outputs": []
    },
    {
      "cell_type": "markdown",
      "metadata": {
        "id": "OIDLJuIXK_vh",
        "colab_type": "text"
      },
      "source": [
        "**Set Arguments**"
      ]
    },
    {
      "cell_type": "code",
      "metadata": {
        "id": "d5PkYfqfK_SA",
        "colab_type": "code",
        "colab": {}
      },
      "source": [
        "DEVICE = 'cuda' # 'cuda' or 'cpu'\n",
        "\n",
        "NUM_CLASSES = 7 # 101 + 1: There is am extra Background class that should be removed \n",
        "\n",
        "BATCH_SIZE = 128     # Higher batch sizes allows for larger learning rates. An empirical heuristic suggests that, when changing\n",
        "                     # the batch size, learning rate should change by the same factor to have comparable results\n",
        "\n",
        "LR = 0.005            # The initial Learning Rate\n",
        "MOMENTUM = 0.9       # Hyperparameter for SGD, keep this at 0.9 when using SGD\n",
        "WEIGHT_DECAY = 5e-5  # Regularization, you can keep this at the default\n",
        "\n",
        "NUM_EPOCHS = 20      # Total number of training epochs (iterations over dataset)\n",
        "STEP_SIZE = 8       # How many epochs before decreasing learning rate (if using a step-down policy)\n",
        "GAMMA = 0.1          # Multiplicative factor for learning rate step-down\n",
        "LAMBDA = 0.1\n",
        "LOG_FREQUENCY = 1"
      ],
      "execution_count": 0,
      "outputs": []
    },
    {
      "cell_type": "markdown",
      "metadata": {
        "id": "VSIWZA7WjKgS",
        "colab_type": "text"
      },
      "source": [
        "**Train without DANN**"
      ]
    },
    {
      "cell_type": "code",
      "metadata": {
        "id": "4IjurF-HjJcI",
        "colab_type": "code",
        "colab": {}
      },
      "source": [
        "def train(model, train_dataloader):\n",
        "  # Define loss function\n",
        "  criterion = nn.CrossEntropyLoss() # for classification, we use Cross Entropy\n",
        "\n",
        "  # Choose parameters to optimize\n",
        "  # To access a different set of parameters, you have to access submodules of AlexNet\n",
        "  # (nn.Module objects, like AlexNet, implement the Composite Pattern)\n",
        "  # e.g.: parameters of the fully connected layers: net.classifier.parameters()\n",
        "  # e.g.: parameters of the convolutional layers: look at alexnet's source code ;) \n",
        "  parameters_to_optimize = model.parameters() # In this case we optimize over all the parameters of AlexNet\n",
        "\n",
        "  # Define optimizer\n",
        "  # An optimizer updates the weights based on loss\n",
        "  # We use SGD with momentum\n",
        "  optimizer = optim.SGD(parameters_to_optimize, lr=LR, momentum=MOMENTUM, weight_decay=WEIGHT_DECAY)\n",
        "\n",
        "  # Define scheduler\n",
        "  # A scheduler dynamically changes learning rate\n",
        "  # The most common schedule is the step(-down), which multiplies learning rate by gamma every STEP_SIZE epochs\n",
        "  scheduler = optim.lr_scheduler.StepLR(optimizer, step_size=STEP_SIZE, gamma=GAMMA)\n",
        "\n",
        "  # By default, everything is loaded to cpu\n",
        "  model = model.to(DEVICE) # this will bring the network to GPU if DEVICE is cuda\n",
        "\n",
        "  cudnn.benchmark # Calling this optimizes runtime\n",
        "\n",
        "  current_step = 0\n",
        "  # Start iterating over the epochs\n",
        "  for epoch in range(NUM_EPOCHS):\n",
        "    print('Starting epoch {}/{}, LR = {}'.format(epoch+1, NUM_EPOCHS, scheduler.get_lr()))\n",
        "\n",
        "    # Iterate over the dataset\n",
        "    n_loss = 0\n",
        "    current_step = 0\n",
        "    for images, labels, domains in train_dataloader:\n",
        "      # Bring data over the device of choice\n",
        "      images = images.to(DEVICE)\n",
        "      labels = labels.to(DEVICE)\n",
        "      domains = domains.to(DEVICE)\n",
        "\n",
        "      model.train() # Sets module in training mode\n",
        "\n",
        "      # PyTorch, by default, accumulates gradients after each backward pass\n",
        "      # We need to manually set the gradients to zero before starting a new iteration\n",
        "      optimizer.zero_grad() # Zero-ing the gradients\n",
        "\n",
        "      # Forward pass to the network\n",
        "      outputs = model(images)\n",
        "\n",
        "      # Compute loss based on output and ground truth\n",
        "      loss = criterion(outputs, labels)\n",
        "\n",
        "      # Compute gradients for each layer and update weights\n",
        "      loss.backward()  # backward pass: computes gradients\n",
        "      optimizer.step() # update weights based on accumulated gradients\n",
        "      n_loss += loss.item()\n",
        "      current_step += 1\n",
        "    n_loss = n_loss/current_step\n",
        "    print('Epoch {},Medium Loss {}'.format(epoch+1, n_loss))\n",
        "    # Step the scheduler\n",
        "    scheduler.step() "
      ],
      "execution_count": 0,
      "outputs": []
    },
    {
      "cell_type": "code",
      "metadata": {
        "id": "wkYao7FyXw4i",
        "colab_type": "code",
        "colab": {}
      },
      "source": [
        "def batch_it(dataloader_iterator,taget_dataloader):\n",
        "  for i in range(len(taget_dataloader)):\n",
        "    try:\n",
        "      data = next(dataloader_iterator)\n",
        "    except StopIteration:\n",
        "      dataloader_iterator = iter(taget_dataloader)\n",
        "      data = next(dataloader_iterator)\n",
        "  return data[0],data[1] #data,target"
      ],
      "execution_count": 0,
      "outputs": []
    },
    {
      "cell_type": "markdown",
      "metadata": {
        "id": "DFWKGTukot9T",
        "colab_type": "text"
      },
      "source": [
        "**Train with DANN**"
      ]
    },
    {
      "cell_type": "code",
      "metadata": {
        "id": "oNpU4CPUoxyo",
        "colab_type": "code",
        "colab": {}
      },
      "source": [
        "def DANN_train(model, train_dataloader,test_dataloader, lrs = [LR], STEPs = [STEP_SIZE], Ns = [NUM_EPOCHS], LAMBDAs = [LAMBDA]):\n",
        "  params = {'LR' : [], 'STEP_SIZE' : [], 'NUMBER_EPOCHS' : [], 'LAMBDA' : [], 'accuracy' : [], 'loss' : [],'domain_loss' : [],'test_domain_loss' : []}\n",
        "  for lr,step_size,num_epoch,v_lambda in zip(lrs,STEPs,Ns,LAMBDAs):\n",
        "    print('lr {} step {} epochs {} lambda {}'.format(lr,step_size,num_epoch,v_lambda))\n",
        "    params['LR'].append(lr)\n",
        "    params['STEP_SIZE'].append(step_size)\n",
        "    params['NUMBER_EPOCHS'].append(num_epoch)\n",
        "    params['LAMBDA'].append(v_lambda)\n",
        "  # Define loss function\n",
        "    criterion = nn.CrossEntropyLoss() # for classification, we use Cross Entropy\n",
        "\n",
        "    # Choose parameters to optimize\n",
        "    # To access a different set of parameters, you have to access submodules of AlexNet\n",
        "    # (nn.Module objects, like AlexNet, implement the Composite Pattern)\n",
        "    # e.g.: parameters of the fully connected layers: net.classifier.parameters()\n",
        "    # e.g.: parameters of the convolutional layers: look at alexnet's source code ;) \n",
        "    parameters_to_optimize = model.parameters() # In this case we optimize over all the parameters of AlexNet\n",
        "\n",
        "    # Define optimizer\n",
        "    # An optimizer updates the weights based on loss\n",
        "    # We use SGD with momentum\n",
        "    optimizer = optim.SGD(parameters_to_optimize, lr=lr, momentum=MOMENTUM, weight_decay=WEIGHT_DECAY)\n",
        "\n",
        "    # Define scheduler\n",
        "    # A scheduler dynamically changes learning rate\n",
        "    # The most common schedule is the step(-down), which multiplies learning rate by gamma every STEP_SIZE epochs\n",
        "    scheduler = optim.lr_scheduler.StepLR(optimizer, step_size=step_size, gamma=GAMMA)\n",
        "\n",
        "    # By default, everything is loaded to cpu\n",
        "    model = model.to(DEVICE) # this will bring the network to GPU if DEVICE is cuda\n",
        "\n",
        "    cudnn.benchmark # Calling this optimizes runtime\n",
        "\n",
        "    current_step = 0\n",
        "    dataloader_iterator = iter(test_dataloader)\n",
        "    # Start iterating over the epochs\n",
        "    for epoch in range(num_epoch):\n",
        "      print('Starting epoch {}/{}, LR = {}'.format(epoch+1, num_epoch, scheduler.get_lr()))\n",
        "      n_loss = 0\n",
        "      domainloss = 0\n",
        "      t_domainloss = 0\n",
        "      current_step = 0\n",
        "      # Iterate over the dataset\n",
        "      for images, labels, domains in train_dataloader:\n",
        "        # Bring data over the device of choice\n",
        "        images = images.to(DEVICE)\n",
        "        labels = labels.to(DEVICE)\n",
        "        domains = domains.to(DEVICE)\n",
        "\n",
        "        model.train() # Sets module in training mode\n",
        "\n",
        "        # PyTorch, by default, accumulates gradients after each backward pass\n",
        "        # We need to manually set the gradients to zero before starting a new iteration\n",
        "        optimizer.zero_grad() # Zero-ing the gradients\n",
        "        # Forward pass to the network\n",
        "        outputs = model(images)\n",
        "        # Compute loss based on output and ground truth\n",
        "        loss = criterion(outputs, labels)\n",
        "        # Compute gradients for each layer and update weights\n",
        "        loss.backward()  # update gradients with loss.backward\n",
        "\n",
        "        n_loss += loss.item()\n",
        "        #training discriminator by forwarding source data\n",
        "        outputs_discriminator = model.forward(images,v_lambda)\n",
        "        targ = torch.zeros(labels.size(0), dtype = torch.int64).to(DEVICE)\n",
        "        loss_discriminator = criterion(outputs_discriminator,targ)\n",
        "        loss_discriminator.backward()\n",
        "\n",
        "        domainloss += loss_discriminator.item()\n",
        "        optimizer.step() # update weights based on accumulated gradients\n",
        "\n",
        "        #load batch from test dataloader. For every train batch I have to take a test batch \n",
        "        images_test,label_test = batch_it(dataloader_iterator,test_dataloader)\n",
        "        images_test = images_test.to(DEVICE)\n",
        "        label_test = label_test.to(DEVICE)\n",
        "        outputs_discriminator_test = model.forward(images_test,v_lambda)\n",
        "        targ = torch.ones(labels.size(0), dtype = torch.int64).to(DEVICE)\n",
        "        loss_discriminator_test = criterion(outputs_discriminator_test,targ)\n",
        "        loss_discriminator_test.backward()   \n",
        "\n",
        "        t_domainloss += loss_discriminator_test.item()\n",
        "\n",
        "\n",
        "        current_step += 1\n",
        "      n_loss = n_loss/current_step\n",
        "      domainloss = domainloss/current_step\n",
        "      t_domainloss = t_domainloss/current_step\n",
        "      print('Epoch {},Medium Loss {}, Domain Loss (?) {}, Test domain loss {} '.format(epoch+1, n_loss, domainloss, t_domainloss))\n",
        "      # Step the scheduler\n",
        "      scheduler.step()\n",
        "    params['loss'].append(n_loss)\n",
        "    params['domain_loss'].append(domainloss)\n",
        "    params['test_domain_loss'].append(t_domainloss)\n",
        "  return params"
      ],
      "execution_count": 0,
      "outputs": []
    },
    {
      "cell_type": "markdown",
      "metadata": {
        "id": "aDqyYghNbEbj",
        "colab_type": "text"
      },
      "source": [
        "**Alex Net**"
      ]
    },
    {
      "cell_type": "code",
      "metadata": {
        "id": "pw_zkAUibDPn",
        "colab_type": "code",
        "colab": {}
      },
      "source": [
        "import torch\n",
        "import torch.nn as nn\n",
        "#from .utils import load_state_dict_from_url\n",
        "\n",
        "try:\n",
        "  from torch.hub import load_state_dict_from_url\n",
        "except ImportError:\n",
        "  from torch.utils.model_zoo import load_url as load_state_dict_from_url\n",
        "\n",
        "__all__ = ['AlexNet', 'alexnet']\n",
        "model_urls = { 'alexnet': 'https://download.pytorch.org/models/alexnet-owt-4df8aa71.pth', }\n",
        "\n",
        "from torch.autograd import Function\n",
        "\n",
        "\n",
        "class ReverseLayerF(Function):\n",
        "    # Forwards identity\n",
        "    # Sends backward reversed gradients\n",
        "    @staticmethod\n",
        "    def forward(ctx, x, alpha):\n",
        "        ctx.alpha = alpha\n",
        "\n",
        "        return x.view_as(x)\n",
        "\n",
        "    @staticmethod\n",
        "    def backward(ctx, grad_output):\n",
        "        output = grad_output.neg() * ctx.alpha\n",
        "\n",
        "        return output, None\n",
        "\n",
        "class AlexNet(nn.Module):\n",
        "\n",
        "    def __init__(self, num_classes=1000):\n",
        "        super(AlexNet, self).__init__()\n",
        "        self.features = nn.Sequential(\n",
        "            nn.Conv2d(3, 64, kernel_size=11, stride=4, padding=2),\n",
        "            nn.ReLU(inplace=True),\n",
        "            nn.MaxPool2d(kernel_size=3, stride=2),\n",
        "            nn.Conv2d(64, 192, kernel_size=5, padding=2),\n",
        "            nn.ReLU(inplace=True),\n",
        "            nn.MaxPool2d(kernel_size=3, stride=2),\n",
        "            nn.Conv2d(192, 384, kernel_size=3, padding=1),\n",
        "            nn.ReLU(inplace=True),\n",
        "            nn.Conv2d(384, 256, kernel_size=3, padding=1),\n",
        "            nn.ReLU(inplace=True),\n",
        "            nn.Conv2d(256, 256, kernel_size=3, padding=1),\n",
        "            nn.ReLU(inplace=True),\n",
        "            nn.MaxPool2d(kernel_size=3, stride=2),\n",
        "        )\n",
        "        self.avgpool = nn.AdaptiveAvgPool2d((6, 6))\n",
        "        self.classifier = nn.Sequential(\n",
        "            nn.Dropout(),\n",
        "            nn.Linear(256 * 6 * 6, 4096),\n",
        "            nn.ReLU(inplace=True),\n",
        "            nn.Dropout(),\n",
        "            nn.Linear(4096, 4096),\n",
        "            nn.ReLU(inplace=True),\n",
        "            nn.Linear(4096, num_classes),\n",
        "        )\n",
        "        self.domainclassifier = nn.Sequential(\n",
        "            nn.Dropout(),\n",
        "            nn.Linear(256 * 6 * 6, 4096),\n",
        "            nn.ReLU(inplace=True),\n",
        "            nn.Dropout(),\n",
        "            nn.Linear(4096, 4096),\n",
        "            nn.ReLU(inplace=True),\n",
        "            nn.Linear(4096, 2),\n",
        "        )\n",
        "\n",
        "    def forward(self, x, alpha=None):\n",
        "        x = self.features(x)\n",
        "        x = self.avgpool(x)\n",
        "        x = torch.flatten(x, 1)\n",
        "        if alpha is not None:\n",
        "          # gradient reversal layer (backward gradients will be reversed)\n",
        "         reverse_feature = ReverseLayerF.apply(x, alpha)\n",
        "         discriminator_output = self.domainclassifier(reverse_feature)\n",
        "         return discriminator_output\n",
        "        # If we don't pass alpha, we assume we are training with supervision\n",
        "        else:\n",
        "          # do something else\n",
        "          class_outputs = self.classifier(x)\n",
        "          return class_outputs\n",
        "      \n",
        "\n",
        "def alexnet(pretrained=False, progress=True, **kwargs):\n",
        "    r\"\"\"AlexNet model architecture from the\n",
        "    `\"One weird trick...\" <https://arxiv.org/abs/1404.5997>`_ paper.\n",
        "    Args:\n",
        "        pretrained (bool): If True, returns a model pre-trained on ImageNet\n",
        "        progress (bool): If True, displays a progress bar of the download to stderr\n",
        "    \"\"\"\n",
        "    model = AlexNet(**kwargs)\n",
        "    if pretrained:\n",
        "        state_dict = load_state_dict_from_url(model_urls['alexnet'],\n",
        "                                              progress=progress)\n",
        "        model.load_state_dict(state_dict, strict=False)\n",
        "    return model"
      ],
      "execution_count": 0,
      "outputs": []
    },
    {
      "cell_type": "code",
      "metadata": {
        "id": "5u4hiW8dfvsm",
        "colab_type": "code",
        "colab": {}
      },
      "source": [
        "\n",
        "from torchvision.datasets import VisionDataset\n",
        "import torchvision.transforms.functional as F\n",
        "\n",
        "import os.path\n",
        "import sys\n",
        "\n",
        "DATA_DIR = 'Homework3-PACS/PACS'\n",
        "\n",
        "def pil_loader(path):\n",
        "    # open path as file to avoid ResourceWarning (https://github.com/python-pillow/Pillow/issues/835)\n",
        "    with open(path, 'rb') as f:\n",
        "        img = Image.open(f)\n",
        "        return img.convert('RGB')\n",
        "\n",
        "\n",
        "class Caltech(VisionDataset):\n",
        "    def __init__(self, transform=None, target_transform=None, sets = []):\n",
        "        super(Caltech, self).__init__(root = DATA_DIR, transform=transform, target_transform=target_transform)\n",
        "        d = 0\n",
        "        self.sets = sets\n",
        "        self.domain = []\n",
        "        for label in ['art_painting','cartoon','photo','sketch']:\n",
        "          self.domain.append((label,d))\n",
        "          d = d + 1\n",
        "        self.dataset = self.read()\n",
        "        \n",
        "        return\n",
        "\n",
        "    def read(self):\n",
        "      fine_dataset = []\n",
        "      \n",
        "      for idx in self.sets:\n",
        "        #print(label)\n",
        "        label = self.domain[idx]\n",
        "        print(DATA_DIR + '/' + label[0])\n",
        "        my_dataset = torchvision.datasets.ImageFolder(DATA_DIR + '/' + label[0], transform=train_transform)\n",
        "        for element in my_dataset:\n",
        "          fine_dataset.append((F.to_pil_image(element[0]),element[1],label[1])) \n",
        "      #print(\"________________________________\")\n",
        "      #print(fine_dataset[0]) #1) [] mi indica il numero di elemento\n",
        "                                #2) [] mi indica la tupla (tensor,class)\n",
        "                                #3) [] mi indica l'elemento della tupla\n",
        "                                #TODO SPLIT\n",
        "      del my_dataset\n",
        "      return fine_dataset\n",
        "\n",
        "    def __getitem__(self, index):\n",
        "        '''\n",
        "        __getitem__ should access an element through its index\n",
        "        Args:\n",
        "            index (int): Index\n",
        "\n",
        "        Returns:\n",
        "            tuple: (sample, target) where target is class_index of the target class.\n",
        "        '''\n",
        "        image,label,domain = self.dataset[index]\n",
        "\n",
        "        # Applies preprocessing when accessing the image\n",
        "        if self.transform is not None:\n",
        "            image = self.transform(image)\n",
        "        return image, label, domain\n",
        "\n",
        "    def __len__(self):\n",
        "        '''\n",
        "        The __len__ method returns the length of the dataset\n",
        "        It is mandatory, as this is used by several other components\n",
        "        '''\n",
        "        length = len(self.dataset) # Provide a way to get the length (number of elements) of the dataset\n",
        "        return length\n"
      ],
      "execution_count": 0,
      "outputs": []
    },
    {
      "cell_type": "markdown",
      "metadata": {
        "id": "9gwii0TBHvzh",
        "colab_type": "text"
      },
      "source": [
        "**Define Data Preprocessing**"
      ]
    },
    {
      "cell_type": "code",
      "metadata": {
        "id": "QUDdw4j2H0Mc",
        "colab_type": "code",
        "colab": {}
      },
      "source": [
        "# Define transforms for training phase\n",
        "train_transform = transforms.Compose([transforms.Resize(256),      # Resizes short size of the PIL image to 256\n",
        "                                      transforms.CenterCrop(224),  # Crops a central square patch of the image\n",
        "                                                                   # 224 because torchvision's AlexNet needs a 224x224 input!\n",
        "                                                                   # Remember this when applying different transformations, otherwise you get an error\n",
        "                                      transforms.ToTensor(), # Turn PIL Image to torch.Tensor\n",
        "                                      transforms.Normalize((0.5, 0.5, 0.5), (0.5, 0.5, 0.5)) # Normalizes tensor with mean and standard deviation\n",
        "])\n",
        "# Define transforms for the evaluation phase\n",
        "eval_transform = transforms.Compose([transforms.Resize(256),\n",
        "                                      transforms.CenterCrop(224),\n",
        "                                      transforms.ToTensor(),\n",
        "                                      transforms.Normalize((0.5, 0.5, 0.5), (0.5, 0.5, 0.5))                                    \n",
        "])"
      ],
      "execution_count": 0,
      "outputs": []
    },
    {
      "cell_type": "markdown",
      "metadata": {
        "id": "UOE9ZBI-RuHP",
        "colab_type": "text"
      },
      "source": [
        "**Clone Github repository**"
      ]
    },
    {
      "cell_type": "code",
      "metadata": {
        "id": "tufYB-PxRpN8",
        "colab_type": "code",
        "colab": {}
      },
      "source": [
        "# Clone github repository with data\n",
        "if not os.path.isdir('./Homework3-PACS'):\n",
        "  !git clone https://github.com/MachineLearning2020/Homework3-PACS\n",
        "\n"
      ],
      "execution_count": 0,
      "outputs": []
    },
    {
      "cell_type": "markdown",
      "metadata": {
        "id": "2qYIHPzYLY7i",
        "colab_type": "text"
      },
      "source": [
        "**Prepare Dataset**"
      ]
    },
    {
      "cell_type": "code",
      "metadata": {
        "id": "QfVq_uDHLbsR",
        "colab_type": "code",
        "outputId": "37363300-716a-496d-9d42-83cd0d763d8b",
        "colab": {
          "base_uri": "https://localhost:8080/",
          "height": 90
        }
      },
      "source": [
        "train_dataset = Caltech(train_transform,sets = [2])\n",
        "test_dataset = Caltech(eval_transform,sets = [0])\n",
        "\n",
        "#1/5 in test and 4/5 in train\n",
        "#train_indexes = [idx for idx in range(len(train_dataset)) if idx % 5]\n",
        "#test_indexes = [idx for idx in range(len(test_dataset)) if not idx % 5]\n",
        "\n",
        "#train_dataset = Subset(train_dataset, train_indexes)\n",
        "#test_dataset = Subset(test_dataset, test_indexes)\n",
        "\n",
        "# Check dataset sizes\n",
        "print('Train Dataset: {}'.format(len(train_dataset)))\n",
        "print('Test Dataset: {}'.format(len(test_dataset)))"
      ],
      "execution_count": 91,
      "outputs": [
        {
          "output_type": "stream",
          "text": [
            "Homework3-PACS/PACS/photo\n",
            "Homework3-PACS/PACS/art_painting\n",
            "Train Dataset: 1670\n",
            "Test Dataset: 2048\n"
          ],
          "name": "stdout"
        }
      ]
    },
    {
      "cell_type": "markdown",
      "metadata": {
        "id": "FYEDQ7Z21ldN",
        "colab_type": "text"
      },
      "source": [
        "**Prepare Dataloaders**"
      ]
    },
    {
      "cell_type": "code",
      "metadata": {
        "id": "VriRw8SI1nle",
        "colab_type": "code",
        "colab": {}
      },
      "source": [
        "# Dataloaders iterate over pytorch datasets and transparently provide useful functions (e.g. parallelization and shuffling)\n",
        "train_dataloader = DataLoader(train_dataset, batch_size=BATCH_SIZE, shuffle=True, num_workers=4, drop_last=True)\n",
        "test_dataloader = DataLoader(test_dataset, batch_size=BATCH_SIZE, shuffle=False, num_workers=4)"
      ],
      "execution_count": 0,
      "outputs": []
    },
    {
      "cell_type": "markdown",
      "metadata": {
        "id": "gbZ1t5Qs2z4j",
        "colab_type": "text"
      },
      "source": [
        "**Prepare Network**"
      ]
    },
    {
      "cell_type": "code",
      "metadata": {
        "id": "exHUjtXa22DN",
        "colab_type": "code",
        "colab": {}
      },
      "source": [
        "net = alexnet(pretrained = True) # Loading AlexNet model\n",
        "#copia dei pesi\n",
        "net.classifier[6] = nn.Linear(4096, 7)\n",
        "weight1=deepcopy(net.classifier[1].weight.data)\n",
        "bias1=deepcopy(net.classifier[1].bias.data)\n",
        "weight4=deepcopy(net.classifier[4].weight.data)\n",
        "bias4=deepcopy(net.classifier[4].bias.data)\n",
        "net.domainclassifier[1].weight.data=weight1\n",
        "net.domainclassifier[1].bias.data=bias1\n",
        "net.domainclassifier[4].weight.data=weight4\n",
        "net.domainclassifier[4].bias.data=bias4\n",
        "# AlexNet has 1000 output neurons, corresponding to the 1000 ImageNet's classes\n",
        "# We need 101 outputs for Caltech-101\n",
        "net.classifier[6] = nn.Linear(4096, NUM_CLASSES) # nn.Linear in pytorch is a fully connected layer\n",
        "                                                 # The convolutional layer is nn.Conv2d\n",
        "\n",
        "# We just changed the last layer of AlexNet with a new fully connected layer with 101 outputs\n",
        "# It is mandatory to study torchvision.models.alexnet source code"
      ],
      "execution_count": 0,
      "outputs": []
    },
    {
      "cell_type": "markdown",
      "metadata": {
        "id": "KEyL3H_R4qCf",
        "colab_type": "text"
      },
      "source": [
        "**Prepare Training**"
      ]
    },
    {
      "cell_type": "code",
      "metadata": {
        "id": "9sjq00G94tSc",
        "colab_type": "code",
        "colab": {}
      },
      "source": [
        "# Define loss function\n",
        "#criterion = nn.CrossEntropyLoss() # for classification, we use Cross Entropy\n",
        "\n",
        "# Choose parameters to optimize\n",
        "# To access a different set of parameters, you have to access submodules of AlexNet\n",
        "# (nn.Module objects, like AlexNet, implement the Composite Pattern)\n",
        "# e.g.: parameters of the fully connected layers: net.classifier.parameters()\n",
        "# e.g.: parameters of the convolutional layers: look at alexnet's source code ;) \n",
        "#parameters_to_optimize = net.parameters() # In this case we optimize over all the parameters of AlexNet\n",
        "\n",
        "# Define optimizer\n",
        "# An optimizer updates the weights based on loss\n",
        "# We use SGD with momentum\n",
        "#optimizer = optim.SGD(parameters_to_optimize, lr=LR, momentum=MOMENTUM, weight_decay=WEIGHT_DECAY)\n",
        "\n",
        "# Define scheduler\n",
        "# A scheduler dynamically changes learning rate\n",
        "# The most common schedule is the step(-down), which multiplies learning rate by gamma every STEP_SIZE epochs\n",
        "#scheduler = optim.lr_scheduler.StepLR(optimizer, step_size=STEP_SIZE, gamma=GAMMA)"
      ],
      "execution_count": 0,
      "outputs": []
    },
    {
      "cell_type": "markdown",
      "metadata": {
        "id": "AxYUli9d9uYQ",
        "colab_type": "text"
      },
      "source": [
        "**Train**"
      ]
    },
    {
      "cell_type": "code",
      "metadata": {
        "id": "ZcoQ5fD49yT_",
        "colab_type": "code",
        "outputId": "2b41bb71-a5fa-4abe-ae20-e27967fb3256",
        "colab": {
          "base_uri": "https://localhost:8080/",
          "height": 752
        }
      },
      "source": [
        "train(net,train_dataloader)"
      ],
      "execution_count": 95,
      "outputs": [
        {
          "output_type": "stream",
          "text": [
            "Starting epoch 1/20, LR = [0.005]\n",
            "Epoch 1,Medium Loss 0.8764349451431861\n",
            "Starting epoch 2/20, LR = [0.005]\n",
            "Epoch 2,Medium Loss 0.4483634508573092\n",
            "Starting epoch 3/20, LR = [0.005]\n",
            "Epoch 3,Medium Loss 0.28212379262997556\n",
            "Starting epoch 4/20, LR = [0.005]\n",
            "Epoch 4,Medium Loss 0.1888432691876705\n",
            "Starting epoch 5/20, LR = [0.005]\n",
            "Epoch 5,Medium Loss 0.10638044201410733\n",
            "Starting epoch 6/20, LR = [0.005]\n",
            "Epoch 6,Medium Loss 0.08652163125001468\n",
            "Starting epoch 7/20, LR = [0.005]\n",
            "Epoch 7,Medium Loss 0.07621298701717304\n",
            "Starting epoch 8/20, LR = [0.005]\n",
            "Epoch 8,Medium Loss 0.06320543644519952\n",
            "Starting epoch 9/20, LR = [0.0005]\n",
            "Epoch 9,Medium Loss 0.04003281862689899\n",
            "Starting epoch 10/20, LR = [0.0005]\n",
            "Epoch 10,Medium Loss 0.020376640157057688\n",
            "Starting epoch 11/20, LR = [0.0005]\n",
            "Epoch 11,Medium Loss 0.016517190549236078\n",
            "Starting epoch 12/20, LR = [0.0005]\n",
            "Epoch 12,Medium Loss 0.014881056375228442\n",
            "Starting epoch 13/20, LR = [0.0005]\n",
            "Epoch 13,Medium Loss 0.014192543637294035\n",
            "Starting epoch 14/20, LR = [0.0005]\n",
            "Epoch 14,Medium Loss 0.008947369857476307\n",
            "Starting epoch 15/20, LR = [0.0005]\n",
            "Epoch 15,Medium Loss 0.011049286390726384\n",
            "Starting epoch 16/20, LR = [0.0005]\n",
            "Epoch 16,Medium Loss 0.007694533238044152\n",
            "Starting epoch 17/20, LR = [5.000000000000001e-05]\n",
            "Epoch 17,Medium Loss 0.008958661212370945\n",
            "Starting epoch 18/20, LR = [5.000000000000001e-05]\n",
            "Epoch 18,Medium Loss 0.008478806569026066\n",
            "Starting epoch 19/20, LR = [5.000000000000001e-05]\n",
            "Epoch 19,Medium Loss 0.007258406338783411\n",
            "Starting epoch 20/20, LR = [5.000000000000001e-05]\n",
            "Epoch 20,Medium Loss 0.007587350331819975\n"
          ],
          "name": "stdout"
        }
      ]
    },
    {
      "cell_type": "markdown",
      "metadata": {
        "id": "UsHFI-GAJd69",
        "colab_type": "text"
      },
      "source": [
        "**Test**"
      ]
    },
    {
      "cell_type": "code",
      "metadata": {
        "id": "EO3HV5pqJg1o",
        "colab_type": "code",
        "outputId": "373f78f0-5eaa-43f6-c5eb-d3e00d41c3bd",
        "colab": {
          "base_uri": "https://localhost:8080/",
          "height": 54
        }
      },
      "source": [
        "net = net.to(DEVICE) # this will bring the network to GPU if DEVICE is cuda\n",
        "net.train(False) # Set Network to evaluation mode\n",
        "\n",
        "running_corrects = 0\n",
        "for images, labels, domains in tqdm(test_dataloader):\n",
        "  images = images.to(DEVICE)\n",
        "  labels = labels.to(DEVICE)\n",
        "  domains = domains.to(DEVICE)\n",
        "\n",
        "  # Forward Pass\n",
        "  outputs = net(images)\n",
        "\n",
        "  # Get predictions\n",
        "  _, preds = torch.max(outputs.data, 1)\n",
        "\n",
        "  # Update Corrects\n",
        "  running_corrects += torch.sum(preds == labels.data).data.item()\n",
        "\n",
        "# Calculate Accuracy\n",
        "accuracy = running_corrects / float(len(test_dataset))\n",
        "\n",
        "print('Test Accuracy: {}'.format(accuracy))"
      ],
      "execution_count": 96,
      "outputs": [
        {
          "output_type": "stream",
          "text": [
            "100%|██████████| 16/16 [00:03<00:00,  4.16it/s]"
          ],
          "name": "stderr"
        },
        {
          "output_type": "stream",
          "text": [
            "Test Accuracy: 0.42138671875\n"
          ],
          "name": "stdout"
        },
        {
          "output_type": "stream",
          "text": [
            "\n"
          ],
          "name": "stderr"
        }
      ]
    },
    {
      "cell_type": "code",
      "metadata": {
        "id": "swZNjsJaZmUb",
        "colab_type": "code",
        "outputId": "da8ed464-2814-4735-f352-5a3249934035",
        "colab": {
          "base_uri": "https://localhost:8080/",
          "height": 808
        }
      },
      "source": [
        "net = alexnet(pretrained = True) # Loading AlexNet model\n",
        "#copia dei pesi\n",
        "net.classifier[6] = nn.Linear(4096, 7)\n",
        "weight1=deepcopy(net.classifier[1].weight.data)\n",
        "bias1=deepcopy(net.classifier[1].bias.data)\n",
        "weight4=deepcopy(net.classifier[4].weight.data)\n",
        "bias4=deepcopy(net.classifier[4].bias.data)\n",
        "net.domainclassifier[1].weight.data=weight1\n",
        "net.domainclassifier[1].bias.data=bias1\n",
        "net.domainclassifier[4].weight.data=weight4\n",
        "net.domainclassifier[4].bias.data=bias4\n",
        "# AlexNet has 1000 output neurons, corresponding to the 1000 ImageNet's classes\n",
        "# We need 101 outputs for Caltech-101\n",
        "net.classifier[6] = nn.Linear(4096, NUM_CLASSES) # nn.Linear in pytorch is a fully connected layer\n",
        "                                                 # The convolutional layer is nn.Conv2d\n",
        "\n",
        "# We just changed the last layer of AlexNet with a new fully connected layer with 101 outputs\n",
        "# It is mandatory to study torchvision.models.alexnet source code\n",
        "\n",
        "params = DANN_train(net, train_dataloader,test_dataloader)\n",
        "print(params)"
      ],
      "execution_count": 97,
      "outputs": [
        {
          "output_type": "stream",
          "text": [
            "lr 0.005 step 8 epochs 20 lambda 0.1\n",
            "Starting epoch 1/20, LR = [0.005]\n",
            "Epoch 1,Medium Loss 0.937473136645097, Domain Loss (?) 0.05756676433464655, Test domain loss 27.686811960660496 \n",
            "Starting epoch 2/20, LR = [0.005]\n",
            "Epoch 2,Medium Loss 0.4055476486682892, Domain Loss (?) 3.69949982716487e-07, Test domain loss 29.754217587984524 \n",
            "Starting epoch 3/20, LR = [0.005]\n",
            "Epoch 3,Medium Loss 0.23539673823576707, Domain Loss (?) 8.195638656616211e-08, Test domain loss 31.913848583514874 \n",
            "Starting epoch 4/20, LR = [0.005]\n",
            "Epoch 4,Medium Loss 0.148233100771904, Domain Loss (?) 5.73121584378756e-10, Test domain loss 42.74860822237455 \n",
            "Starting epoch 5/20, LR = [0.005]\n",
            "Epoch 5,Medium Loss 0.10448712110519409, Domain Loss (?) 2.86560792189378e-10, Test domain loss 42.31688455434946 \n",
            "Starting epoch 6/20, LR = [0.005]\n",
            "Epoch 6,Medium Loss 0.06257180726298919, Domain Loss (?) 5.73121584378756e-10, Test domain loss 48.969573094294624 \n",
            "Starting epoch 7/20, LR = [0.005]\n",
            "Epoch 7,Medium Loss 0.06703542946622922, Domain Loss (?) 0.0, Test domain loss 51.4091556255634 \n",
            "Starting epoch 8/20, LR = [0.005]\n",
            "Epoch 8,Medium Loss 0.07140929681750444, Domain Loss (?) 0.0, Test domain loss 54.77668644831731 \n",
            "Starting epoch 9/20, LR = [0.0005]\n",
            "Epoch 9,Medium Loss 0.025843880640772674, Domain Loss (?) 0.0, Test domain loss 48.92284921499399 \n",
            "Starting epoch 10/20, LR = [0.0005]\n",
            "Epoch 10,Medium Loss 0.020452684364639796, Domain Loss (?) 2.86560792189378e-10, Test domain loss 48.84860170804537 \n",
            "Starting epoch 11/20, LR = [0.0005]\n",
            "Epoch 11,Medium Loss 0.014655245181459647, Domain Loss (?) 0.0, Test domain loss 50.41002625685472 \n",
            "Starting epoch 12/20, LR = [0.0005]\n",
            "Epoch 12,Medium Loss 0.01313085538836626, Domain Loss (?) 0.0, Test domain loss 51.846873356745796 \n",
            "Starting epoch 13/20, LR = [0.0005]\n",
            "Epoch 13,Medium Loss 0.013788681477308273, Domain Loss (?) 0.0, Test domain loss 53.571231842041016 \n",
            "Starting epoch 14/20, LR = [0.0005]\n",
            "Epoch 14,Medium Loss 0.011650873491397271, Domain Loss (?) 0.0, Test domain loss 54.68591807438777 \n",
            "Starting epoch 15/20, LR = [0.0005]\n",
            "Epoch 15,Medium Loss 0.007794737815856934, Domain Loss (?) 0.0, Test domain loss 55.86155583308293 \n",
            "Starting epoch 16/20, LR = [0.0005]\n",
            "Epoch 16,Medium Loss 0.009252453939272808, Domain Loss (?) 0.0, Test domain loss 56.78632119985727 \n",
            "Starting epoch 17/20, LR = [5.000000000000001e-05]\n",
            "Epoch 17,Medium Loss 0.007758730592635961, Domain Loss (?) 0.0, Test domain loss 57.42124586838942 \n",
            "Starting epoch 18/20, LR = [5.000000000000001e-05]\n",
            "Epoch 18,Medium Loss 0.007536859466479375, Domain Loss (?) 0.0, Test domain loss 57.5296504680927 \n",
            "Starting epoch 19/20, LR = [5.000000000000001e-05]\n",
            "Epoch 19,Medium Loss 0.007125450298190117, Domain Loss (?) 0.0, Test domain loss 57.569593282846306 \n",
            "Starting epoch 20/20, LR = [5.000000000000001e-05]\n",
            "Epoch 20,Medium Loss 0.009038773580239369, Domain Loss (?) 0.0, Test domain loss 57.542481642503006 \n",
            "{'LR': [0.005], 'STEP_SIZE': [8], 'NUMBER_EPOCHS': [20], 'LAMBDA': [0.1], 'accuracy': [], 'loss': [0.009038773580239369], 'domain_loss': [0.0], 'test_domain_loss': [57.542481642503006]}\n"
          ],
          "name": "stdout"
        }
      ]
    },
    {
      "cell_type": "code",
      "metadata": {
        "id": "c4jqDupBH1K5",
        "colab_type": "code",
        "outputId": "559ff9a6-6430-4355-842c-73c8a961ad69",
        "colab": {
          "base_uri": "https://localhost:8080/",
          "height": 54
        }
      },
      "source": [
        "net = net.to(DEVICE) # this will bring the network to GPU if DEVICE is cuda\n",
        "net.train(False) # Set Network to evaluation mode\n",
        "\n",
        "running_corrects = 0\n",
        "for images, labels, domains in tqdm(test_dataloader):\n",
        "  images = images.to(DEVICE)\n",
        "  labels = labels.to(DEVICE)\n",
        "  domains = domains.to(DEVICE)\n",
        "\n",
        "  # Forward Pass\n",
        "  outputs = net(images)\n",
        "\n",
        "  # Get predictions\n",
        "  _, preds = torch.max(outputs.data, 1)\n",
        "\n",
        "  # Update Corrects\n",
        "  running_corrects += torch.sum(preds == labels.data).data.item()\n",
        "\n",
        "# Calculate Accuracy\n",
        "accuracy = running_corrects / float(len(test_dataset))\n",
        "\n",
        "print('Test Accuracy: {}'.format(accuracy))"
      ],
      "execution_count": 98,
      "outputs": [
        {
          "output_type": "stream",
          "text": [
            "100%|██████████| 16/16 [00:03<00:00,  4.22it/s]"
          ],
          "name": "stderr"
        },
        {
          "output_type": "stream",
          "text": [
            "Test Accuracy: 0.4111328125\n"
          ],
          "name": "stdout"
        },
        {
          "output_type": "stream",
          "text": [
            "\n"
          ],
          "name": "stderr"
        }
      ]
    },
    {
      "cell_type": "markdown",
      "metadata": {
        "id": "p6Xead8W7Th_",
        "colab_type": "text"
      },
      "source": [
        "**CROSS DOMAIN VALIDATION (GRID SEARCH)**"
      ]
    },
    {
      "cell_type": "code",
      "metadata": {
        "id": "-CJXZmhwWUad",
        "colab_type": "code",
        "colab": {
          "base_uri": "https://localhost:8080/",
          "height": 1000
        },
        "outputId": "709f3266-3aa4-4aa0-e2ee-473c9f305543"
      },
      "source": [
        "#TODO: ok, ma deve essere fatto senza adaptation, vedere chat con ivan\n",
        "\n",
        "#cross domain validation\n",
        "lrs =[0.001,0.01,0.05]\n",
        "STEPs = [6,10,15] \n",
        "Ns =[10, 15, 20]\n",
        "LAMBDAs =[0.05,0.1,0.2]\n",
        "\n",
        "net = alexnet(pretrained = True) # Loading AlexNet model\n",
        "#copia dei pesi\n",
        "net.classifier[6] = nn.Linear(4096, 7)\n",
        "weight1=deepcopy(net.classifier[1].weight.data)\n",
        "bias1=deepcopy(net.classifier[1].bias.data)\n",
        "weight4=deepcopy(net.classifier[4].weight.data)\n",
        "bias4=deepcopy(net.classifier[4].bias.data)\n",
        "net.domainclassifier[1].weight.data=weight1\n",
        "net.domainclassifier[1].bias.data=bias1\n",
        "net.domainclassifier[4].weight.data=weight4\n",
        "net.domainclassifier[4].bias.data=bias4\n",
        "# AlexNet has 1000 output neurons, corresponding to the 1000 ImageNet's classes\n",
        "# We need 101 outputs for Caltech-101\n",
        "net.classifier[6] = nn.Linear(4096, NUM_CLASSES) # nn.Linear in pytorch is a fully connected layer\n",
        "                                                 # The convolutional layer is nn.Conv2d\n",
        "\n",
        "# We just changed the last layer of AlexNet with a new fully connected layer with 101 outputs\n",
        "# It is mandatory to study torchvision.models.alexnet source code\n",
        "\n",
        "params = DANN_train(net, train_dataloader,test_dataloader,lrs,STEPs,Ns,LAMBDAs)\n",
        "print(params)"
      ],
      "execution_count": 100,
      "outputs": [
        {
          "output_type": "stream",
          "text": [
            "lr 0.001 step 6 epochs 10 lambda 0.05\n",
            "Starting epoch 1/10, LR = [0.001]\n",
            "Epoch 1,Medium Loss 1.2069829198030324, Domain Loss (?) 0.051870988932653114, Test domain loss 9.341168128527128 \n",
            "Starting epoch 2/10, LR = [0.001]\n",
            "Epoch 2,Medium Loss 0.5254485882245578, Domain Loss (?) 6.317497732547614e-05, Test domain loss 20.432390726529636 \n",
            "Starting epoch 3/10, LR = [0.001]\n",
            "Epoch 3,Medium Loss 0.3909758237692026, Domain Loss (?) 2.8494029090954707e-05, Test domain loss 23.996039463923527 \n",
            "Starting epoch 4/10, LR = [0.001]\n",
            "Epoch 4,Medium Loss 0.3112450929788443, Domain Loss (?) 3.240565554453777e-05, Test domain loss 22.4112371297983 \n",
            "Starting epoch 5/10, LR = [0.001]\n",
            "Epoch 5,Medium Loss 0.26406027720524716, Domain Loss (?) 2.5764394264954786e-05, Test domain loss 21.754115764911358 \n",
            "Starting epoch 6/10, LR = [0.001]\n",
            "Epoch 6,Medium Loss 0.21926149496665367, Domain Loss (?) 2.4965032935142517e-05, Test domain loss 22.727765743549053 \n",
            "Starting epoch 7/10, LR = [0.0001]\n",
            "Epoch 7,Medium Loss 0.18912498079813445, Domain Loss (?) 1.1056088484250582e-05, Test domain loss 23.213435099675106 \n",
            "Starting epoch 8/10, LR = [0.0001]\n",
            "Epoch 8,Medium Loss 0.17314177636916822, Domain Loss (?) 9.039416909217834e-06, Test domain loss 23.26844993004432 \n",
            "Starting epoch 9/10, LR = [0.0001]\n",
            "Epoch 9,Medium Loss 0.1792922719166829, Domain Loss (?) 1.5192020397919874e-05, Test domain loss 23.71404794546274 \n",
            "Starting epoch 10/10, LR = [0.0001]\n",
            "Epoch 10,Medium Loss 0.17334081461796394, Domain Loss (?) 1.4265282795979427e-05, Test domain loss 23.957078200120193 \n",
            "lr 0.01 step 10 epochs 15 lambda 0.1\n",
            "Starting epoch 1/15, LR = [0.01]\n",
            "Epoch 1,Medium Loss 0.44805555045604706, Domain Loss (?) 0.0013025324934950243, Test domain loss 17.344488363999588 \n",
            "Starting epoch 2/15, LR = [0.01]\n",
            "Epoch 2,Medium Loss 0.4851129467670734, Domain Loss (?) 0.002916899223167163, Test domain loss 8.074402955862192 \n",
            "Starting epoch 3/15, LR = [0.01]\n",
            "Epoch 3,Medium Loss 0.34132394653100234, Domain Loss (?) 0.0013392799748824192, Test domain loss 7.152861558474028 \n",
            "Starting epoch 4/15, LR = [0.01]\n",
            "Epoch 4,Medium Loss 0.1994742097762915, Domain Loss (?) 0.0005739198711055976, Test domain loss 8.773464679718018 \n",
            "Starting epoch 5/15, LR = [0.01]\n",
            "Epoch 5,Medium Loss 0.10471669297951919, Domain Loss (?) 6.309194633593925e-05, Test domain loss 12.456633567810059 \n",
            "Starting epoch 6/15, LR = [0.01]\n",
            "Epoch 6,Medium Loss 0.09007531089278367, Domain Loss (?) 5.547931561103234e-05, Test domain loss 11.698592479412373 \n",
            "Starting epoch 7/15, LR = [0.01]\n",
            "Epoch 7,Medium Loss 0.04413227607997564, Domain Loss (?) 7.902730542879838e-05, Test domain loss 10.992321968078613 \n",
            "Starting epoch 8/15, LR = [0.01]\n",
            "Epoch 8,Medium Loss 0.026626949700025413, Domain Loss (?) 1.6016455797048715e-05, Test domain loss 13.006557244520922 \n",
            "Starting epoch 9/15, LR = [0.01]\n"
          ],
          "name": "stdout"
        },
        {
          "output_type": "error",
          "ename": "KeyboardInterrupt",
          "evalue": "ignored",
          "traceback": [
            "\u001b[0;31m---------------------------------------------------------------------------\u001b[0m",
            "\u001b[0;31mKeyboardInterrupt\u001b[0m                         Traceback (most recent call last)",
            "\u001b[0;32m<ipython-input-100-c545697f8323>\u001b[0m in \u001b[0;36m<module>\u001b[0;34m()\u001b[0m\n\u001b[1;32m     23\u001b[0m \u001b[0;31m# It is mandatory to study torchvision.models.alexnet source code\u001b[0m\u001b[0;34m\u001b[0m\u001b[0;34m\u001b[0m\u001b[0;34m\u001b[0m\u001b[0m\n\u001b[1;32m     24\u001b[0m \u001b[0;34m\u001b[0m\u001b[0m\n\u001b[0;32m---> 25\u001b[0;31m \u001b[0mparams\u001b[0m \u001b[0;34m=\u001b[0m \u001b[0mDANN_train\u001b[0m\u001b[0;34m(\u001b[0m\u001b[0mnet\u001b[0m\u001b[0;34m,\u001b[0m \u001b[0mtrain_dataloader\u001b[0m\u001b[0;34m,\u001b[0m\u001b[0mtest_dataloader\u001b[0m\u001b[0;34m,\u001b[0m\u001b[0mlrs\u001b[0m\u001b[0;34m,\u001b[0m\u001b[0mSTEPs\u001b[0m\u001b[0;34m,\u001b[0m\u001b[0mNs\u001b[0m\u001b[0;34m,\u001b[0m\u001b[0mLAMBDAs\u001b[0m\u001b[0;34m)\u001b[0m\u001b[0;34m\u001b[0m\u001b[0;34m\u001b[0m\u001b[0m\n\u001b[0m\u001b[1;32m     26\u001b[0m \u001b[0mprint\u001b[0m\u001b[0;34m(\u001b[0m\u001b[0mparams\u001b[0m\u001b[0;34m)\u001b[0m\u001b[0;34m\u001b[0m\u001b[0;34m\u001b[0m\u001b[0m\n",
            "\u001b[0;32m<ipython-input-86-9c1877ebf0d3>\u001b[0m in \u001b[0;36mDANN_train\u001b[0;34m(model, train_dataloader, test_dataloader, lrs, STEPs, Ns, LAMBDAs)\u001b[0m\n\u001b[1;32m     71\u001b[0m \u001b[0;34m\u001b[0m\u001b[0m\n\u001b[1;32m     72\u001b[0m         \u001b[0;31m#load batch from test dataloader. For every train batch I have to take a test batch\u001b[0m\u001b[0;34m\u001b[0m\u001b[0;34m\u001b[0m\u001b[0;34m\u001b[0m\u001b[0m\n\u001b[0;32m---> 73\u001b[0;31m         \u001b[0mimages_test\u001b[0m\u001b[0;34m,\u001b[0m\u001b[0mlabel_test\u001b[0m \u001b[0;34m=\u001b[0m \u001b[0mbatch_it\u001b[0m\u001b[0;34m(\u001b[0m\u001b[0mdataloader_iterator\u001b[0m\u001b[0;34m,\u001b[0m\u001b[0mtest_dataloader\u001b[0m\u001b[0;34m)\u001b[0m\u001b[0;34m\u001b[0m\u001b[0;34m\u001b[0m\u001b[0m\n\u001b[0m\u001b[1;32m     74\u001b[0m         \u001b[0mimages_test\u001b[0m \u001b[0;34m=\u001b[0m \u001b[0mimages_test\u001b[0m\u001b[0;34m.\u001b[0m\u001b[0mto\u001b[0m\u001b[0;34m(\u001b[0m\u001b[0mDEVICE\u001b[0m\u001b[0;34m)\u001b[0m\u001b[0;34m\u001b[0m\u001b[0;34m\u001b[0m\u001b[0m\n\u001b[1;32m     75\u001b[0m         \u001b[0mlabel_test\u001b[0m \u001b[0;34m=\u001b[0m \u001b[0mlabel_test\u001b[0m\u001b[0;34m.\u001b[0m\u001b[0mto\u001b[0m\u001b[0;34m(\u001b[0m\u001b[0mDEVICE\u001b[0m\u001b[0;34m)\u001b[0m\u001b[0;34m\u001b[0m\u001b[0;34m\u001b[0m\u001b[0m\n",
            "\u001b[0;32m<ipython-input-85-00c835f0e4e9>\u001b[0m in \u001b[0;36mbatch_it\u001b[0;34m(dataloader_iterator, taget_dataloader)\u001b[0m\n\u001b[1;32m      2\u001b[0m   \u001b[0;32mfor\u001b[0m \u001b[0mi\u001b[0m \u001b[0;32min\u001b[0m \u001b[0mrange\u001b[0m\u001b[0;34m(\u001b[0m\u001b[0mlen\u001b[0m\u001b[0;34m(\u001b[0m\u001b[0mtaget_dataloader\u001b[0m\u001b[0;34m)\u001b[0m\u001b[0;34m)\u001b[0m\u001b[0;34m:\u001b[0m\u001b[0;34m\u001b[0m\u001b[0;34m\u001b[0m\u001b[0m\n\u001b[1;32m      3\u001b[0m     \u001b[0;32mtry\u001b[0m\u001b[0;34m:\u001b[0m\u001b[0;34m\u001b[0m\u001b[0;34m\u001b[0m\u001b[0m\n\u001b[0;32m----> 4\u001b[0;31m       \u001b[0mdata\u001b[0m \u001b[0;34m=\u001b[0m \u001b[0mnext\u001b[0m\u001b[0;34m(\u001b[0m\u001b[0mdataloader_iterator\u001b[0m\u001b[0;34m)\u001b[0m\u001b[0;34m\u001b[0m\u001b[0;34m\u001b[0m\u001b[0m\n\u001b[0m\u001b[1;32m      5\u001b[0m     \u001b[0;32mexcept\u001b[0m \u001b[0mStopIteration\u001b[0m\u001b[0;34m:\u001b[0m\u001b[0;34m\u001b[0m\u001b[0;34m\u001b[0m\u001b[0m\n\u001b[1;32m      6\u001b[0m       \u001b[0mdataloader_iterator\u001b[0m \u001b[0;34m=\u001b[0m \u001b[0miter\u001b[0m\u001b[0;34m(\u001b[0m\u001b[0mtaget_dataloader\u001b[0m\u001b[0;34m)\u001b[0m\u001b[0;34m\u001b[0m\u001b[0;34m\u001b[0m\u001b[0m\n",
            "\u001b[0;32m/usr/local/lib/python3.6/dist-packages/torch/utils/data/dataloader.py\u001b[0m in \u001b[0;36m__next__\u001b[0;34m(self)\u001b[0m\n\u001b[1;32m    802\u001b[0m \u001b[0;34m\u001b[0m\u001b[0m\n\u001b[1;32m    803\u001b[0m             \u001b[0;32massert\u001b[0m \u001b[0;32mnot\u001b[0m \u001b[0mself\u001b[0m\u001b[0;34m.\u001b[0m\u001b[0m_shutdown\u001b[0m \u001b[0;32mand\u001b[0m \u001b[0mself\u001b[0m\u001b[0;34m.\u001b[0m\u001b[0m_tasks_outstanding\u001b[0m \u001b[0;34m>\u001b[0m \u001b[0;36m0\u001b[0m\u001b[0;34m\u001b[0m\u001b[0;34m\u001b[0m\u001b[0m\n\u001b[0;32m--> 804\u001b[0;31m             \u001b[0midx\u001b[0m\u001b[0;34m,\u001b[0m \u001b[0mdata\u001b[0m \u001b[0;34m=\u001b[0m \u001b[0mself\u001b[0m\u001b[0;34m.\u001b[0m\u001b[0m_get_data\u001b[0m\u001b[0;34m(\u001b[0m\u001b[0;34m)\u001b[0m\u001b[0;34m\u001b[0m\u001b[0;34m\u001b[0m\u001b[0m\n\u001b[0m\u001b[1;32m    805\u001b[0m             \u001b[0mself\u001b[0m\u001b[0;34m.\u001b[0m\u001b[0m_tasks_outstanding\u001b[0m \u001b[0;34m-=\u001b[0m \u001b[0;36m1\u001b[0m\u001b[0;34m\u001b[0m\u001b[0;34m\u001b[0m\u001b[0m\n\u001b[1;32m    806\u001b[0m \u001b[0;34m\u001b[0m\u001b[0m\n",
            "\u001b[0;32m/usr/local/lib/python3.6/dist-packages/torch/utils/data/dataloader.py\u001b[0m in \u001b[0;36m_get_data\u001b[0;34m(self)\u001b[0m\n\u001b[1;32m    769\u001b[0m         \u001b[0;32melse\u001b[0m\u001b[0;34m:\u001b[0m\u001b[0;34m\u001b[0m\u001b[0;34m\u001b[0m\u001b[0m\n\u001b[1;32m    770\u001b[0m             \u001b[0;32mwhile\u001b[0m \u001b[0;32mTrue\u001b[0m\u001b[0;34m:\u001b[0m\u001b[0;34m\u001b[0m\u001b[0;34m\u001b[0m\u001b[0m\n\u001b[0;32m--> 771\u001b[0;31m                 \u001b[0msuccess\u001b[0m\u001b[0;34m,\u001b[0m \u001b[0mdata\u001b[0m \u001b[0;34m=\u001b[0m \u001b[0mself\u001b[0m\u001b[0;34m.\u001b[0m\u001b[0m_try_get_data\u001b[0m\u001b[0;34m(\u001b[0m\u001b[0;34m)\u001b[0m\u001b[0;34m\u001b[0m\u001b[0;34m\u001b[0m\u001b[0m\n\u001b[0m\u001b[1;32m    772\u001b[0m                 \u001b[0;32mif\u001b[0m \u001b[0msuccess\u001b[0m\u001b[0;34m:\u001b[0m\u001b[0;34m\u001b[0m\u001b[0;34m\u001b[0m\u001b[0m\n\u001b[1;32m    773\u001b[0m                     \u001b[0;32mreturn\u001b[0m \u001b[0mdata\u001b[0m\u001b[0;34m\u001b[0m\u001b[0;34m\u001b[0m\u001b[0m\n",
            "\u001b[0;32m/usr/local/lib/python3.6/dist-packages/torch/utils/data/dataloader.py\u001b[0m in \u001b[0;36m_try_get_data\u001b[0;34m(self, timeout)\u001b[0m\n\u001b[1;32m    722\u001b[0m         \u001b[0;31m#   (bool: whether successfully get data, any: data if successful else None)\u001b[0m\u001b[0;34m\u001b[0m\u001b[0;34m\u001b[0m\u001b[0;34m\u001b[0m\u001b[0m\n\u001b[1;32m    723\u001b[0m         \u001b[0;32mtry\u001b[0m\u001b[0;34m:\u001b[0m\u001b[0;34m\u001b[0m\u001b[0;34m\u001b[0m\u001b[0m\n\u001b[0;32m--> 724\u001b[0;31m             \u001b[0mdata\u001b[0m \u001b[0;34m=\u001b[0m \u001b[0mself\u001b[0m\u001b[0;34m.\u001b[0m\u001b[0m_data_queue\u001b[0m\u001b[0;34m.\u001b[0m\u001b[0mget\u001b[0m\u001b[0;34m(\u001b[0m\u001b[0mtimeout\u001b[0m\u001b[0;34m=\u001b[0m\u001b[0mtimeout\u001b[0m\u001b[0;34m)\u001b[0m\u001b[0;34m\u001b[0m\u001b[0;34m\u001b[0m\u001b[0m\n\u001b[0m\u001b[1;32m    725\u001b[0m             \u001b[0;32mreturn\u001b[0m \u001b[0;34m(\u001b[0m\u001b[0;32mTrue\u001b[0m\u001b[0;34m,\u001b[0m \u001b[0mdata\u001b[0m\u001b[0;34m)\u001b[0m\u001b[0;34m\u001b[0m\u001b[0;34m\u001b[0m\u001b[0m\n\u001b[1;32m    726\u001b[0m         \u001b[0;32mexcept\u001b[0m \u001b[0mException\u001b[0m \u001b[0;32mas\u001b[0m \u001b[0me\u001b[0m\u001b[0;34m:\u001b[0m\u001b[0;34m\u001b[0m\u001b[0;34m\u001b[0m\u001b[0m\n",
            "\u001b[0;32m/usr/lib/python3.6/multiprocessing/queues.py\u001b[0m in \u001b[0;36mget\u001b[0;34m(self, block, timeout)\u001b[0m\n\u001b[1;32m    102\u001b[0m                 \u001b[0;32mif\u001b[0m \u001b[0mblock\u001b[0m\u001b[0;34m:\u001b[0m\u001b[0;34m\u001b[0m\u001b[0;34m\u001b[0m\u001b[0m\n\u001b[1;32m    103\u001b[0m                     \u001b[0mtimeout\u001b[0m \u001b[0;34m=\u001b[0m \u001b[0mdeadline\u001b[0m \u001b[0;34m-\u001b[0m \u001b[0mtime\u001b[0m\u001b[0;34m.\u001b[0m\u001b[0mmonotonic\u001b[0m\u001b[0;34m(\u001b[0m\u001b[0;34m)\u001b[0m\u001b[0;34m\u001b[0m\u001b[0;34m\u001b[0m\u001b[0m\n\u001b[0;32m--> 104\u001b[0;31m                     \u001b[0;32mif\u001b[0m \u001b[0;32mnot\u001b[0m \u001b[0mself\u001b[0m\u001b[0;34m.\u001b[0m\u001b[0m_poll\u001b[0m\u001b[0;34m(\u001b[0m\u001b[0mtimeout\u001b[0m\u001b[0;34m)\u001b[0m\u001b[0;34m:\u001b[0m\u001b[0;34m\u001b[0m\u001b[0;34m\u001b[0m\u001b[0m\n\u001b[0m\u001b[1;32m    105\u001b[0m                         \u001b[0;32mraise\u001b[0m \u001b[0mEmpty\u001b[0m\u001b[0;34m\u001b[0m\u001b[0;34m\u001b[0m\u001b[0m\n\u001b[1;32m    106\u001b[0m                 \u001b[0;32melif\u001b[0m \u001b[0;32mnot\u001b[0m \u001b[0mself\u001b[0m\u001b[0;34m.\u001b[0m\u001b[0m_poll\u001b[0m\u001b[0;34m(\u001b[0m\u001b[0;34m)\u001b[0m\u001b[0;34m:\u001b[0m\u001b[0;34m\u001b[0m\u001b[0;34m\u001b[0m\u001b[0m\n",
            "\u001b[0;32m/usr/lib/python3.6/multiprocessing/connection.py\u001b[0m in \u001b[0;36mpoll\u001b[0;34m(self, timeout)\u001b[0m\n\u001b[1;32m    255\u001b[0m         \u001b[0mself\u001b[0m\u001b[0;34m.\u001b[0m\u001b[0m_check_closed\u001b[0m\u001b[0;34m(\u001b[0m\u001b[0;34m)\u001b[0m\u001b[0;34m\u001b[0m\u001b[0;34m\u001b[0m\u001b[0m\n\u001b[1;32m    256\u001b[0m         \u001b[0mself\u001b[0m\u001b[0;34m.\u001b[0m\u001b[0m_check_readable\u001b[0m\u001b[0;34m(\u001b[0m\u001b[0;34m)\u001b[0m\u001b[0;34m\u001b[0m\u001b[0;34m\u001b[0m\u001b[0m\n\u001b[0;32m--> 257\u001b[0;31m         \u001b[0;32mreturn\u001b[0m \u001b[0mself\u001b[0m\u001b[0;34m.\u001b[0m\u001b[0m_poll\u001b[0m\u001b[0;34m(\u001b[0m\u001b[0mtimeout\u001b[0m\u001b[0;34m)\u001b[0m\u001b[0;34m\u001b[0m\u001b[0;34m\u001b[0m\u001b[0m\n\u001b[0m\u001b[1;32m    258\u001b[0m \u001b[0;34m\u001b[0m\u001b[0m\n\u001b[1;32m    259\u001b[0m     \u001b[0;32mdef\u001b[0m \u001b[0m__enter__\u001b[0m\u001b[0;34m(\u001b[0m\u001b[0mself\u001b[0m\u001b[0;34m)\u001b[0m\u001b[0;34m:\u001b[0m\u001b[0;34m\u001b[0m\u001b[0;34m\u001b[0m\u001b[0m\n",
            "\u001b[0;32m/usr/lib/python3.6/multiprocessing/connection.py\u001b[0m in \u001b[0;36m_poll\u001b[0;34m(self, timeout)\u001b[0m\n\u001b[1;32m    412\u001b[0m \u001b[0;34m\u001b[0m\u001b[0m\n\u001b[1;32m    413\u001b[0m     \u001b[0;32mdef\u001b[0m \u001b[0m_poll\u001b[0m\u001b[0;34m(\u001b[0m\u001b[0mself\u001b[0m\u001b[0;34m,\u001b[0m \u001b[0mtimeout\u001b[0m\u001b[0;34m)\u001b[0m\u001b[0;34m:\u001b[0m\u001b[0;34m\u001b[0m\u001b[0;34m\u001b[0m\u001b[0m\n\u001b[0;32m--> 414\u001b[0;31m         \u001b[0mr\u001b[0m \u001b[0;34m=\u001b[0m \u001b[0mwait\u001b[0m\u001b[0;34m(\u001b[0m\u001b[0;34m[\u001b[0m\u001b[0mself\u001b[0m\u001b[0;34m]\u001b[0m\u001b[0;34m,\u001b[0m \u001b[0mtimeout\u001b[0m\u001b[0;34m)\u001b[0m\u001b[0;34m\u001b[0m\u001b[0;34m\u001b[0m\u001b[0m\n\u001b[0m\u001b[1;32m    415\u001b[0m         \u001b[0;32mreturn\u001b[0m \u001b[0mbool\u001b[0m\u001b[0;34m(\u001b[0m\u001b[0mr\u001b[0m\u001b[0;34m)\u001b[0m\u001b[0;34m\u001b[0m\u001b[0;34m\u001b[0m\u001b[0m\n\u001b[1;32m    416\u001b[0m \u001b[0;34m\u001b[0m\u001b[0m\n",
            "\u001b[0;32m/usr/lib/python3.6/multiprocessing/connection.py\u001b[0m in \u001b[0;36mwait\u001b[0;34m(object_list, timeout)\u001b[0m\n\u001b[1;32m    909\u001b[0m \u001b[0;34m\u001b[0m\u001b[0m\n\u001b[1;32m    910\u001b[0m             \u001b[0;32mwhile\u001b[0m \u001b[0;32mTrue\u001b[0m\u001b[0;34m:\u001b[0m\u001b[0;34m\u001b[0m\u001b[0;34m\u001b[0m\u001b[0m\n\u001b[0;32m--> 911\u001b[0;31m                 \u001b[0mready\u001b[0m \u001b[0;34m=\u001b[0m \u001b[0mselector\u001b[0m\u001b[0;34m.\u001b[0m\u001b[0mselect\u001b[0m\u001b[0;34m(\u001b[0m\u001b[0mtimeout\u001b[0m\u001b[0;34m)\u001b[0m\u001b[0;34m\u001b[0m\u001b[0;34m\u001b[0m\u001b[0m\n\u001b[0m\u001b[1;32m    912\u001b[0m                 \u001b[0;32mif\u001b[0m \u001b[0mready\u001b[0m\u001b[0;34m:\u001b[0m\u001b[0;34m\u001b[0m\u001b[0;34m\u001b[0m\u001b[0m\n\u001b[1;32m    913\u001b[0m                     \u001b[0;32mreturn\u001b[0m \u001b[0;34m[\u001b[0m\u001b[0mkey\u001b[0m\u001b[0;34m.\u001b[0m\u001b[0mfileobj\u001b[0m \u001b[0;32mfor\u001b[0m \u001b[0;34m(\u001b[0m\u001b[0mkey\u001b[0m\u001b[0;34m,\u001b[0m \u001b[0mevents\u001b[0m\u001b[0;34m)\u001b[0m \u001b[0;32min\u001b[0m \u001b[0mready\u001b[0m\u001b[0;34m]\u001b[0m\u001b[0;34m\u001b[0m\u001b[0;34m\u001b[0m\u001b[0m\n",
            "\u001b[0;32m/usr/lib/python3.6/selectors.py\u001b[0m in \u001b[0;36mselect\u001b[0;34m(self, timeout)\u001b[0m\n\u001b[1;32m    374\u001b[0m             \u001b[0mready\u001b[0m \u001b[0;34m=\u001b[0m \u001b[0;34m[\u001b[0m\u001b[0;34m]\u001b[0m\u001b[0;34m\u001b[0m\u001b[0;34m\u001b[0m\u001b[0m\n\u001b[1;32m    375\u001b[0m             \u001b[0;32mtry\u001b[0m\u001b[0;34m:\u001b[0m\u001b[0;34m\u001b[0m\u001b[0;34m\u001b[0m\u001b[0m\n\u001b[0;32m--> 376\u001b[0;31m                 \u001b[0mfd_event_list\u001b[0m \u001b[0;34m=\u001b[0m \u001b[0mself\u001b[0m\u001b[0;34m.\u001b[0m\u001b[0m_poll\u001b[0m\u001b[0;34m.\u001b[0m\u001b[0mpoll\u001b[0m\u001b[0;34m(\u001b[0m\u001b[0mtimeout\u001b[0m\u001b[0;34m)\u001b[0m\u001b[0;34m\u001b[0m\u001b[0;34m\u001b[0m\u001b[0m\n\u001b[0m\u001b[1;32m    377\u001b[0m             \u001b[0;32mexcept\u001b[0m \u001b[0mInterruptedError\u001b[0m\u001b[0;34m:\u001b[0m\u001b[0;34m\u001b[0m\u001b[0;34m\u001b[0m\u001b[0m\n\u001b[1;32m    378\u001b[0m                 \u001b[0;32mreturn\u001b[0m \u001b[0mready\u001b[0m\u001b[0;34m\u001b[0m\u001b[0;34m\u001b[0m\u001b[0m\n",
            "\u001b[0;31mKeyboardInterrupt\u001b[0m: "
          ]
        }
      ]
    }
  ]
}