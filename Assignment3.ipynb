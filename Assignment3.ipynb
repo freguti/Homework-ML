{
  "nbformat": 4,
  "nbformat_minor": 0,
  "metadata": {
    "colab": {
      "name": "Assignment3.ipynb",
      "provenance": [],
      "collapsed_sections": [],
      "include_colab_link": true
    },
    "kernelspec": {
      "name": "python3",
      "display_name": "Python 3"
    },
    "accelerator": "GPU"
  },
  "cells": [
    {
      "cell_type": "markdown",
      "metadata": {
        "id": "view-in-github",
        "colab_type": "text"
      },
      "source": [
        "<a href=\"https://colab.research.google.com/github/freguti/Homework-ML/blob/Homework_3/Assignment3.ipynb\" target=\"_parent\"><img src=\"https://colab.research.google.com/assets/colab-badge.svg\" alt=\"Open In Colab\"/></a>"
      ]
    },
    {
      "cell_type": "markdown",
      "metadata": {
        "id": "c9QcGnGPdX2C",
        "colab_type": "text"
      },
      "source": [
        "\n",
        "**Install requirements**"
      ]
    },
    {
      "cell_type": "code",
      "metadata": {
        "id": "k9O3aM3Tb28q",
        "colab_type": "code",
        "outputId": "e979dcb1-4b84-4d70-fa65-869d44e8b116",
        "colab": {
          "base_uri": "https://localhost:8080/",
          "height": 201
        }
      },
      "source": [
        "!pip3 install 'torch==1.3.1'\n",
        "!pip3 install 'torchvision==0.4.2'\n",
        "!pip3 install 'Pillow-SIMD'\n",
        "!pip3 install 'tqdm'"
      ],
      "execution_count": 31,
      "outputs": [
        {
          "output_type": "stream",
          "text": [
            "Requirement already satisfied: torch==1.3.1 in /usr/local/lib/python3.6/dist-packages (1.3.1)\n",
            "Requirement already satisfied: numpy in /usr/local/lib/python3.6/dist-packages (from torch==1.3.1) (1.17.4)\n",
            "Requirement already satisfied: torchvision==0.4.2 in /usr/local/lib/python3.6/dist-packages (0.4.2)\n",
            "Requirement already satisfied: six in /usr/local/lib/python3.6/dist-packages (from torchvision==0.4.2) (1.12.0)\n",
            "Requirement already satisfied: numpy in /usr/local/lib/python3.6/dist-packages (from torchvision==0.4.2) (1.17.4)\n",
            "Requirement already satisfied: pillow>=4.1.1 in /usr/local/lib/python3.6/dist-packages (from torchvision==0.4.2) (4.3.0)\n",
            "Requirement already satisfied: torch==1.3.1 in /usr/local/lib/python3.6/dist-packages (from torchvision==0.4.2) (1.3.1)\n",
            "Requirement already satisfied: olefile in /usr/local/lib/python3.6/dist-packages (from pillow>=4.1.1->torchvision==0.4.2) (0.46)\n",
            "Requirement already satisfied: Pillow-SIMD in /usr/local/lib/python3.6/dist-packages (6.0.0.post0)\n",
            "Requirement already satisfied: tqdm in /usr/local/lib/python3.6/dist-packages (4.28.1)\n"
          ],
          "name": "stdout"
        }
      ]
    },
    {
      "cell_type": "markdown",
      "metadata": {
        "id": "fo942LMOdlh4",
        "colab_type": "text"
      },
      "source": [
        "**Import libraries**"
      ]
    },
    {
      "cell_type": "code",
      "metadata": {
        "id": "DokFOdD1dJEl",
        "colab_type": "code",
        "colab": {}
      },
      "source": [
        "import os\n",
        "import logging\n",
        "import numpy as np\n",
        "import pandas as pd\n",
        "import copy\n",
        "\n",
        "import torch\n",
        "import torch.nn as nn\n",
        "import torch.optim as optim\n",
        "from torch.utils.data import Subset, DataLoader\n",
        "from torch.backends import cudnn\n",
        "\n",
        "import torchvision\n",
        "from torchvision import transforms\n",
        "from torchvision.models import alexnet\n",
        "\n",
        "from PIL import Image\n",
        "from tqdm import tqdm\n",
        "from copy import deepcopy"
      ],
      "execution_count": 0,
      "outputs": []
    },
    {
      "cell_type": "markdown",
      "metadata": {
        "id": "OIDLJuIXK_vh",
        "colab_type": "text"
      },
      "source": [
        "**Set Arguments**"
      ]
    },
    {
      "cell_type": "code",
      "metadata": {
        "id": "d5PkYfqfK_SA",
        "colab_type": "code",
        "colab": {}
      },
      "source": [
        "DEVICE = 'cuda' # 'cuda' or 'cpu'\n",
        "\n",
        "NUM_CLASSES = 7 # 101 + 1: There is am extra Background class that should be removed \n",
        "\n",
        "BATCH_SIZE = 128     # Higher batch sizes allows for larger learning rates. An empirical heuristic suggests that, when changing\n",
        "                     # the batch size, learning rate should change by the same factor to have comparable results\n",
        "\n",
        "LR = 0.001            # The initial Learning Rate\n",
        "MOMENTUM = 0.9       # Hyperparameter for SGD, keep this at 0.9 when using SGD\n",
        "WEIGHT_DECAY = 5e-5  # Regularization, you can keep this at the default\n",
        "\n",
        "NUM_EPOCHS = 20      # Total number of training epochs (iterations over dataset)\n",
        "STEP_SIZE = 8       # How many epochs before decreasing learning rate (if using a step-down policy)\n",
        "GAMMA = 0.1          # Multiplicative factor for learning rate step-down\n",
        "LAMBDA = 0.1\n",
        "LOG_FREQUENCY = 1"
      ],
      "execution_count": 0,
      "outputs": []
    },
    {
      "cell_type": "markdown",
      "metadata": {
        "id": "VSIWZA7WjKgS",
        "colab_type": "text"
      },
      "source": [
        "**Train without DANN**"
      ]
    },
    {
      "cell_type": "code",
      "metadata": {
        "id": "4IjurF-HjJcI",
        "colab_type": "code",
        "colab": {}
      },
      "source": [
        "def train(model_base, train_dataloader, lrs = [LR], STEPs = [STEP_SIZE], Ns = [NUM_EPOCHS]):\n",
        "  params = {'LR' : [], 'STEP_SIZE' : [], 'NUMBER_EPOCHS' : [], 'accuracy_cartoon' : [], 'accuracy_sketch' : [], 'loss' : [], 'model' : []}\n",
        "  for lr,step_size,num_epoch in zip(lrs,STEPs,Ns):\n",
        "    model = copy.deepcopy(model_base)\n",
        "    print('lr {} step {} epochs {} '.format(lr,step_size,num_epoch))\n",
        "    params['LR'].append(lr)\n",
        "    params['STEP_SIZE'].append(step_size)\n",
        "    params['NUMBER_EPOCHS'].append(num_epoch)\n",
        "    # Define loss function\n",
        "    criterion = nn.CrossEntropyLoss() # for classification, we use Cross Entropy\n",
        "\n",
        "    # Choose parameters to optimize\n",
        "    # To access a different set of parameters, you have to access submodules of AlexNet\n",
        "    # (nn.Module objects, like AlexNet, implement the Composite Pattern)\n",
        "    # e.g.: parameters of the fully connected layers: net.classifier.parameters()\n",
        "    # e.g.: parameters of the convolutional layers: look at alexnet's source code ;) \n",
        "    parameters_to_optimize = model.parameters() # In this case we optimize over all the parameters of AlexNet\n",
        "\n",
        "    # Define optimizer\n",
        "    # An optimizer updates the weights based on loss\n",
        "    # We use SGD with momentum\n",
        "    optimizer = optim.SGD(parameters_to_optimize, lr=lr, momentum=MOMENTUM, weight_decay=WEIGHT_DECAY)\n",
        "\n",
        "    # Define scheduler\n",
        "    # A scheduler dynamically changes learning rate\n",
        "    # The most common schedule is the step(-down), which multiplies learning rate by gamma every STEP_SIZE epochs\n",
        "    scheduler = optim.lr_scheduler.StepLR(optimizer, step_size=step_size, gamma=GAMMA)\n",
        "\n",
        "    # By default, everything is loaded to cpu\n",
        "    model = model.to(DEVICE) # this will bring the network to GPU if DEVICE is cuda\n",
        "\n",
        "    cudnn.benchmark # Calling this optimizes runtime\n",
        "\n",
        "    current_step = 0\n",
        "    # Start iterating over the epochs\n",
        "    for epoch in range(num_epoch):\n",
        "      print('Starting epoch {}/{}, LR = {}'.format(epoch+1, num_epoch, scheduler.get_lr()))\n",
        "\n",
        "      # Iterate over the dataset\n",
        "      n_loss = 0\n",
        "      current_step = 0\n",
        "      for images, labels, domains in train_dataloader:\n",
        "        # Bring data over the device of choice\n",
        "        images = images.to(DEVICE)\n",
        "        labels = labels.to(DEVICE)\n",
        "        domains = domains.to(DEVICE)\n",
        "\n",
        "        model.train() # Sets module in training mode\n",
        "\n",
        "        # PyTorch, by default, accumulates gradients after each backward pass\n",
        "        # We need to manually set the gradients to zero before starting a new iteration\n",
        "        optimizer.zero_grad() # Zero-ing the gradients\n",
        "\n",
        "        # Forward pass to the network\n",
        "        outputs = model(images)\n",
        "\n",
        "        # Compute loss based on output and ground truth\n",
        "        loss = criterion(outputs, labels)\n",
        "\n",
        "        # Compute gradients for each layer and update weights\n",
        "        loss.backward()  # backward pass: computes gradients\n",
        "        optimizer.step() # update weights based on accumulated gradients\n",
        "        n_loss += loss.item()\n",
        "        current_step += 1\n",
        "      n_loss = n_loss/current_step\n",
        "      print('Epoch {},Medium Loss {}'.format(epoch+1, n_loss))\n",
        "      # Step the scheduler\n",
        "      scheduler.step() \n",
        "    params['loss'].append(n_loss)\n",
        "    params['model'].append(copy.deepcopy(model))\n",
        "  return params"
      ],
      "execution_count": 0,
      "outputs": []
    },
    {
      "cell_type": "code",
      "metadata": {
        "id": "wkYao7FyXw4i",
        "colab_type": "code",
        "colab": {}
      },
      "source": [
        "def batch_it(dataloader_iterator,taget_dataloader):\n",
        "  for i in range(len(taget_dataloader)):\n",
        "    try:\n",
        "      data = next(dataloader_iterator)\n",
        "    except StopIteration:\n",
        "      dataloader_iterator = iter(taget_dataloader)\n",
        "      data = next(dataloader_iterator)\n",
        "  return data[0],data[1] #data,target"
      ],
      "execution_count": 0,
      "outputs": []
    },
    {
      "cell_type": "markdown",
      "metadata": {
        "id": "DFWKGTukot9T",
        "colab_type": "text"
      },
      "source": [
        "**Train with DANN**"
      ]
    },
    {
      "cell_type": "code",
      "metadata": {
        "id": "oNpU4CPUoxyo",
        "colab_type": "code",
        "colab": {}
      },
      "source": [
        "def DANN_train(model_base, train_dataloader,test_dataloader, lrs = [LR], STEPs = [STEP_SIZE], Ns = [NUM_EPOCHS], LAMBDAs = [LAMBDA]):\n",
        "  params = {'LR' : [], 'STEP_SIZE' : [], 'NUMBER_EPOCHS' : [], 'LAMBDA' : [], 'accuracy_cartoon' : [], 'accuracy_sketch' : [], 'loss' : [],'domain_loss' : [],'test_domain_loss' : [], 'model' : []}\n",
        "  for lr,step_size,num_epoch,v_lambda in zip(lrs,STEPs,Ns,LAMBDAs):\n",
        "    model = copy.deepcopy(model_base)\n",
        "    print('lr {} step {} epochs {} lambda {}'.format(lr,step_size,num_epoch,v_lambda))\n",
        "    params['LR'].append(lr)\n",
        "    params['STEP_SIZE'].append(step_size)\n",
        "    params['NUMBER_EPOCHS'].append(num_epoch)\n",
        "    params['LAMBDA'].append(v_lambda)\n",
        "  # Define loss function\n",
        "    criterion = nn.CrossEntropyLoss() # for classification, we use Cross Entropy\n",
        "\n",
        "    # Choose parameters to optimize\n",
        "    # To access a different set of parameters, you have to access submodules of AlexNet\n",
        "    # (nn.Module objects, like AlexNet, implement the Composite Pattern)\n",
        "    # e.g.: parameters of the fully connected layers: net.classifier.parameters()\n",
        "    # e.g.: parameters of the convolutional layers: look at alexnet's source code ;) \n",
        "    parameters_to_optimize = model.parameters() # In this case we optimize over all the parameters of AlexNet\n",
        "\n",
        "    # Define optimizer\n",
        "    # An optimizer updates the weights based on loss\n",
        "    # We use SGD with momentum\n",
        "    optimizer = optim.SGD(parameters_to_optimize, lr=lr, momentum=MOMENTUM, weight_decay=WEIGHT_DECAY)\n",
        "\n",
        "    # Define scheduler\n",
        "    # A scheduler dynamically changes learning rate\n",
        "    # The most common schedule is the step(-down), which multiplies learning rate by gamma every STEP_SIZE epochs\n",
        "    scheduler = optim.lr_scheduler.StepLR(optimizer, step_size=step_size, gamma=GAMMA)\n",
        "\n",
        "    # By default, everything is loaded to cpu\n",
        "    model = model.to(DEVICE) # this will bring the network to GPU if DEVICE is cuda\n",
        "\n",
        "    cudnn.benchmark # Calling this optimizes runtime\n",
        "\n",
        "    current_step = 0\n",
        "    dataloader_iterator = iter(test_dataloader)\n",
        "    # Start iterating over the epochs\n",
        "    for epoch in range(num_epoch):\n",
        "      print('Starting epoch {}/{}, LR = {}'.format(epoch+1, num_epoch, scheduler.get_lr()))\n",
        "      n_loss = 0\n",
        "      domainloss = 0\n",
        "      t_domainloss = 0\n",
        "      current_step = 0\n",
        "      # Iterate over the dataset\n",
        "      for images, labels, domains in train_dataloader:\n",
        "        # Bring data over the device of choice\n",
        "        images = images.to(DEVICE)\n",
        "        labels = labels.to(DEVICE)\n",
        "        domains = domains.to(DEVICE)\n",
        "\n",
        "        model.train() # Sets module in training mode\n",
        "\n",
        "        # PyTorch, by default, accumulates gradients after each backward pass\n",
        "        # We need to manually set the gradients to zero before starting a new iteration\n",
        "        optimizer.zero_grad() # Zero-ing the gradients\n",
        "        # Forward pass to the network\n",
        "        outputs = model(images)\n",
        "        # Compute loss based on output and ground truth\n",
        "        loss = criterion(outputs, labels)\n",
        "        # Compute gradients for each layer and update weights\n",
        "        loss.backward()  # update gradients with loss.backward\n",
        "\n",
        "        n_loss += loss.item()\n",
        "        #training discriminator by forwarding source data\n",
        "        outputs_discriminator = model.forward(images,v_lambda)\n",
        "        targ = torch.zeros(labels.size(0), dtype = torch.int64).to(DEVICE)\n",
        "        loss_discriminator = criterion(outputs_discriminator,targ)\n",
        "        loss_discriminator.backward()\n",
        "\n",
        "        domainloss += loss_discriminator.item()\n",
        "        optimizer.step() # update weights based on accumulated gradients\n",
        "\n",
        "        #load batch from test dataloader. For every train batch I have to take a test batch \n",
        "        images_test,label_test = batch_it(dataloader_iterator,test_dataloader)\n",
        "        images_test = images_test.to(DEVICE)\n",
        "        label_test = label_test.to(DEVICE)\n",
        "        outputs_discriminator_test = model.forward(images_test,v_lambda)\n",
        "        targ = torch.ones(labels.size(0), dtype = torch.int64).to(DEVICE)\n",
        "        loss_discriminator_test = criterion(outputs_discriminator_test,targ)\n",
        "        loss_discriminator_test.backward()   \n",
        "\n",
        "        t_domainloss += loss_discriminator_test.item()\n",
        "\n",
        "\n",
        "        current_step += 1\n",
        "      n_loss = n_loss/current_step\n",
        "      domainloss = domainloss/current_step\n",
        "      t_domainloss = t_domainloss/current_step\n",
        "      print('Epoch {},Medium Loss {}, Domain Loss (?) {}, Test domain loss {} '.format(epoch+1, n_loss, domainloss, t_domainloss))\n",
        "      # Step the scheduler\n",
        "      scheduler.step()\n",
        "    params['loss'].append(n_loss)\n",
        "    params['domain_loss'].append(domainloss)\n",
        "    params['test_domain_loss'].append(t_domainloss)\n",
        "    params['model'].append(copy.deepcopy(model))\n",
        "  return params"
      ],
      "execution_count": 0,
      "outputs": []
    },
    {
      "cell_type": "markdown",
      "metadata": {
        "id": "aDqyYghNbEbj",
        "colab_type": "text"
      },
      "source": [
        "**Alex Net**"
      ]
    },
    {
      "cell_type": "code",
      "metadata": {
        "id": "pw_zkAUibDPn",
        "colab_type": "code",
        "colab": {}
      },
      "source": [
        "import torch\n",
        "import torch.nn as nn\n",
        "#from .utils import load_state_dict_from_url\n",
        "\n",
        "try:\n",
        "  from torch.hub import load_state_dict_from_url\n",
        "except ImportError:\n",
        "  from torch.utils.model_zoo import load_url as load_state_dict_from_url\n",
        "\n",
        "__all__ = ['AlexNet', 'alexnet']\n",
        "model_urls = { 'alexnet': 'https://download.pytorch.org/models/alexnet-owt-4df8aa71.pth', }\n",
        "\n",
        "from torch.autograd import Function\n",
        "\n",
        "\n",
        "class ReverseLayerF(Function):\n",
        "    # Forwards identity\n",
        "    # Sends backward reversed gradients\n",
        "    @staticmethod\n",
        "    def forward(ctx, x, alpha):\n",
        "        ctx.alpha = alpha\n",
        "\n",
        "        return x.view_as(x)\n",
        "\n",
        "    @staticmethod\n",
        "    def backward(ctx, grad_output):\n",
        "        output = grad_output.neg() * ctx.alpha\n",
        "\n",
        "        return output, None\n",
        "\n",
        "class AlexNet(nn.Module):\n",
        "\n",
        "    def __init__(self, num_classes=1000):\n",
        "        super(AlexNet, self).__init__()\n",
        "        self.features = nn.Sequential(\n",
        "            nn.Conv2d(3, 64, kernel_size=11, stride=4, padding=2),\n",
        "            nn.ReLU(inplace=True),\n",
        "            nn.MaxPool2d(kernel_size=3, stride=2),\n",
        "            nn.Conv2d(64, 192, kernel_size=5, padding=2),\n",
        "            nn.ReLU(inplace=True),\n",
        "            nn.MaxPool2d(kernel_size=3, stride=2),\n",
        "            nn.Conv2d(192, 384, kernel_size=3, padding=1),\n",
        "            nn.ReLU(inplace=True),\n",
        "            nn.Conv2d(384, 256, kernel_size=3, padding=1),\n",
        "            nn.ReLU(inplace=True),\n",
        "            nn.Conv2d(256, 256, kernel_size=3, padding=1),\n",
        "            nn.ReLU(inplace=True),\n",
        "            nn.MaxPool2d(kernel_size=3, stride=2),\n",
        "        )\n",
        "        self.avgpool = nn.AdaptiveAvgPool2d((6, 6))\n",
        "        self.classifier = nn.Sequential(\n",
        "            nn.Dropout(),\n",
        "            nn.Linear(256 * 6 * 6, 4096),\n",
        "            nn.ReLU(inplace=True),\n",
        "            nn.Dropout(),\n",
        "            nn.Linear(4096, 4096),\n",
        "            nn.ReLU(inplace=True),\n",
        "            nn.Linear(4096, num_classes),\n",
        "        )\n",
        "        self.domainclassifier = nn.Sequential(\n",
        "            nn.Dropout(),\n",
        "            nn.Linear(256 * 6 * 6, 4096),\n",
        "            nn.ReLU(inplace=True),\n",
        "            nn.Dropout(),\n",
        "            nn.Linear(4096, 4096),\n",
        "            nn.ReLU(inplace=True),\n",
        "            nn.Linear(4096, 2),\n",
        "        )\n",
        "\n",
        "    def forward(self, x, alpha=None):\n",
        "        x = self.features(x)\n",
        "        x = self.avgpool(x)\n",
        "        x = torch.flatten(x, 1)\n",
        "        if alpha is not None:\n",
        "          # gradient reversal layer (backward gradients will be reversed)\n",
        "         reverse_feature = ReverseLayerF.apply(x, alpha)\n",
        "         discriminator_output = self.domainclassifier(reverse_feature)\n",
        "         return discriminator_output\n",
        "        # If we don't pass alpha, we assume we are training with supervision\n",
        "        else:\n",
        "          # do something else\n",
        "          class_outputs = self.classifier(x)\n",
        "          return class_outputs\n",
        "      \n",
        "\n",
        "def alexnet(pretrained=False, progress=True, **kwargs):\n",
        "    r\"\"\"AlexNet model architecture from the\n",
        "    `\"One weird trick...\" <https://arxiv.org/abs/1404.5997>`_ paper.\n",
        "    Args:\n",
        "        pretrained (bool): If True, returns a model pre-trained on ImageNet\n",
        "        progress (bool): If True, displays a progress bar of the download to stderr\n",
        "    \"\"\"\n",
        "    model = AlexNet(**kwargs)\n",
        "    if pretrained:\n",
        "        state_dict = load_state_dict_from_url(model_urls['alexnet'],\n",
        "                                              progress=progress)\n",
        "        model.load_state_dict(state_dict, strict=False)\n",
        "    return model"
      ],
      "execution_count": 0,
      "outputs": []
    },
    {
      "cell_type": "code",
      "metadata": {
        "id": "5u4hiW8dfvsm",
        "colab_type": "code",
        "colab": {}
      },
      "source": [
        "\n",
        "from torchvision.datasets import VisionDataset\n",
        "import torchvision.transforms.functional as F\n",
        "\n",
        "import os.path\n",
        "import sys\n",
        "\n",
        "DATA_DIR = 'Homework3-PACS/PACS'\n",
        "\n",
        "def pil_loader(path):\n",
        "    # open path as file to avoid ResourceWarning (https://github.com/python-pillow/Pillow/issues/835)\n",
        "    with open(path, 'rb') as f:\n",
        "        img = Image.open(f)\n",
        "        return img.convert('RGB')\n",
        "\n",
        "\n",
        "class Caltech(VisionDataset):\n",
        "    def __init__(self, transform=None, target_transform=None, sets = []):\n",
        "        super(Caltech, self).__init__(root = DATA_DIR, transform=transform, target_transform=target_transform)\n",
        "        d = 0\n",
        "        self.sets = sets\n",
        "        self.domain = []\n",
        "        for label in ['art_painting','cartoon','photo','sketch']:\n",
        "          self.domain.append((label,d))\n",
        "          d = d + 1\n",
        "        self.dataset = self.read()\n",
        "        \n",
        "        return\n",
        "\n",
        "    def read(self):\n",
        "      fine_dataset = []\n",
        "      \n",
        "      for idx in self.sets:\n",
        "        #print(label)\n",
        "        label = self.domain[idx]\n",
        "        print(DATA_DIR + '/' + label[0])\n",
        "        my_dataset = torchvision.datasets.ImageFolder(DATA_DIR + '/' + label[0], transform=train_transform)\n",
        "        for element in my_dataset:\n",
        "          fine_dataset.append((F.to_pil_image(element[0]),element[1],label[1])) \n",
        "      #print(\"________________________________\")\n",
        "      #print(fine_dataset[0]) #1) [] mi indica il numero di elemento\n",
        "                                #2) [] mi indica la tupla (tensor,class)\n",
        "                                #3) [] mi indica l'elemento della tupla\n",
        "                                #TODO SPLIT\n",
        "      del my_dataset\n",
        "      return fine_dataset\n",
        "\n",
        "    def __getitem__(self, index):\n",
        "        '''\n",
        "        __getitem__ should access an element through its index\n",
        "        Args:\n",
        "            index (int): Index\n",
        "\n",
        "        Returns:\n",
        "            tuple: (sample, target) where target is class_index of the target class.\n",
        "        '''\n",
        "        image,label,domain = self.dataset[index]\n",
        "\n",
        "        # Applies preprocessing when accessing the image\n",
        "        if self.transform is not None:\n",
        "            image = self.transform(image)\n",
        "        return image, label, domain\n",
        "\n",
        "    def __len__(self):\n",
        "        '''\n",
        "        The __len__ method returns the length of the dataset\n",
        "        It is mandatory, as this is used by several other components\n",
        "        '''\n",
        "        length = len(self.dataset) # Provide a way to get the length (number of elements) of the dataset\n",
        "        return length\n"
      ],
      "execution_count": 0,
      "outputs": []
    },
    {
      "cell_type": "markdown",
      "metadata": {
        "id": "9gwii0TBHvzh",
        "colab_type": "text"
      },
      "source": [
        "**Define Data Preprocessing**"
      ]
    },
    {
      "cell_type": "code",
      "metadata": {
        "id": "QUDdw4j2H0Mc",
        "colab_type": "code",
        "colab": {}
      },
      "source": [
        "# Define transforms for training phase\n",
        "train_transform = transforms.Compose([transforms.Resize(256),      # Resizes short size of the PIL image to 256\n",
        "                                      transforms.CenterCrop(224),  # Crops a central square patch of the image\n",
        "                                                                   # 224 because torchvision's AlexNet needs a 224x224 input!\n",
        "                                                                   # Remember this when applying different transformations, otherwise you get an error\n",
        "                                      transforms.ToTensor(), # Turn PIL Image to torch.Tensor\n",
        "                                      transforms.Normalize((0.5, 0.5, 0.5), (0.5, 0.5, 0.5)) # Normalizes tensor with mean and standard deviation\n",
        "])\n",
        "# Define transforms for the evaluation phase\n",
        "eval_transform = transforms.Compose([transforms.Resize(256),\n",
        "                                      transforms.CenterCrop(224),\n",
        "                                      transforms.ToTensor(),\n",
        "                                      transforms.Normalize((0.5, 0.5, 0.5), (0.5, 0.5, 0.5))                                    \n",
        "])"
      ],
      "execution_count": 0,
      "outputs": []
    },
    {
      "cell_type": "markdown",
      "metadata": {
        "id": "UOE9ZBI-RuHP",
        "colab_type": "text"
      },
      "source": [
        "**Clone Github repository**"
      ]
    },
    {
      "cell_type": "code",
      "metadata": {
        "id": "tufYB-PxRpN8",
        "colab_type": "code",
        "colab": {}
      },
      "source": [
        "# Clone github repository with data\n",
        "if not os.path.isdir('./Homework3-PACS'):\n",
        "  !git clone https://github.com/MachineLearning2020/Homework3-PACS\n",
        "\n"
      ],
      "execution_count": 0,
      "outputs": []
    },
    {
      "cell_type": "markdown",
      "metadata": {
        "id": "2qYIHPzYLY7i",
        "colab_type": "text"
      },
      "source": [
        "**Prepare Dataset**"
      ]
    },
    {
      "cell_type": "code",
      "metadata": {
        "id": "QfVq_uDHLbsR",
        "colab_type": "code",
        "outputId": "9f6d3e99-e8f3-4fef-f8fd-ffe4e2e7b8cc",
        "colab": {
          "base_uri": "https://localhost:8080/",
          "height": 90
        }
      },
      "source": [
        "train_dataset = Caltech(train_transform,sets = [2])\n",
        "test_dataset = Caltech(eval_transform,sets = [0])\n",
        "\n",
        "#1/5 in test and 4/5 in train\n",
        "#train_indexes = [idx for idx in range(len(train_dataset)) if idx % 5]\n",
        "#test_indexes = [idx for idx in range(len(test_dataset)) if not idx % 5]\n",
        "\n",
        "#train_dataset = Subset(train_dataset, train_indexes)\n",
        "#test_dataset = Subset(test_dataset, test_indexes)\n",
        "\n",
        "# Check dataset sizes\n",
        "print('Train Dataset: {}'.format(len(train_dataset)))\n",
        "print('Test Dataset: {}'.format(len(test_dataset)))"
      ],
      "execution_count": 41,
      "outputs": [
        {
          "output_type": "stream",
          "text": [
            "Homework3-PACS/PACS/photo\n",
            "Homework3-PACS/PACS/art_painting\n",
            "Train Dataset: 1670\n",
            "Test Dataset: 2048\n"
          ],
          "name": "stdout"
        }
      ]
    },
    {
      "cell_type": "markdown",
      "metadata": {
        "id": "FYEDQ7Z21ldN",
        "colab_type": "text"
      },
      "source": [
        "**Prepare Dataloaders**"
      ]
    },
    {
      "cell_type": "code",
      "metadata": {
        "id": "VriRw8SI1nle",
        "colab_type": "code",
        "colab": {}
      },
      "source": [
        "# Dataloaders iterate over pytorch datasets and transparently provide useful functions (e.g. parallelization and shuffling)\n",
        "train_dataloader = DataLoader(train_dataset, batch_size=BATCH_SIZE, shuffle=True, num_workers=4, drop_last=True)\n",
        "test_dataloader = DataLoader(test_dataset, batch_size=BATCH_SIZE, shuffle=False, num_workers=4)"
      ],
      "execution_count": 0,
      "outputs": []
    },
    {
      "cell_type": "markdown",
      "metadata": {
        "id": "gbZ1t5Qs2z4j",
        "colab_type": "text"
      },
      "source": [
        "**Prepare Network**"
      ]
    },
    {
      "cell_type": "code",
      "metadata": {
        "id": "exHUjtXa22DN",
        "colab_type": "code",
        "colab": {}
      },
      "source": [
        "net = alexnet(pretrained = True) # Loading AlexNet model\n",
        "#copia dei pesi\n",
        "net.classifier[6] = nn.Linear(4096, 7)\n",
        "weight1=deepcopy(net.classifier[1].weight.data)\n",
        "bias1=deepcopy(net.classifier[1].bias.data)\n",
        "weight4=deepcopy(net.classifier[4].weight.data)\n",
        "bias4=deepcopy(net.classifier[4].bias.data)\n",
        "net.domainclassifier[1].weight.data=weight1\n",
        "net.domainclassifier[1].bias.data=bias1\n",
        "net.domainclassifier[4].weight.data=weight4\n",
        "net.domainclassifier[4].bias.data=bias4\n",
        "# AlexNet has 1000 output neurons, corresponding to the 1000 ImageNet's classes\n",
        "# We need 101 outputs for Caltech-101\n",
        "net.classifier[6] = nn.Linear(4096, NUM_CLASSES) # nn.Linear in pytorch is a fully connected layer\n",
        "                                                 # The convolutional layer is nn.Conv2d\n",
        "\n",
        "# We just changed the last layer of AlexNet with a new fully connected layer with 101 outputs\n",
        "# It is mandatory to study torchvision.models.alexnet source code"
      ],
      "execution_count": 0,
      "outputs": []
    },
    {
      "cell_type": "markdown",
      "metadata": {
        "id": "KEyL3H_R4qCf",
        "colab_type": "text"
      },
      "source": [
        "**Prepare Training**"
      ]
    },
    {
      "cell_type": "code",
      "metadata": {
        "id": "9sjq00G94tSc",
        "colab_type": "code",
        "colab": {}
      },
      "source": [
        "# Define loss function\n",
        "#criterion = nn.CrossEntropyLoss() # for classification, we use Cross Entropy\n",
        "\n",
        "# Choose parameters to optimize\n",
        "# To access a different set of parameters, you have to access submodules of AlexNet\n",
        "# (nn.Module objects, like AlexNet, implement the Composite Pattern)\n",
        "# e.g.: parameters of the fully connected layers: net.classifier.parameters()\n",
        "# e.g.: parameters of the convolutional layers: look at alexnet's source code ;) \n",
        "#parameters_to_optimize = net.parameters() # In this case we optimize over all the parameters of AlexNet\n",
        "\n",
        "# Define optimizer\n",
        "# An optimizer updates the weights based on loss\n",
        "# We use SGD with momentum\n",
        "#optimizer = optim.SGD(parameters_to_optimize, lr=LR, momentum=MOMENTUM, weight_decay=WEIGHT_DECAY)\n",
        "\n",
        "# Define scheduler\n",
        "# A scheduler dynamically changes learning rate\n",
        "# The most common schedule is the step(-down), which multiplies learning rate by gamma every STEP_SIZE epochs\n",
        "#scheduler = optim.lr_scheduler.StepLR(optimizer, step_size=STEP_SIZE, gamma=GAMMA)"
      ],
      "execution_count": 0,
      "outputs": []
    },
    {
      "cell_type": "markdown",
      "metadata": {
        "id": "AxYUli9d9uYQ",
        "colab_type": "text"
      },
      "source": [
        "**Train**"
      ]
    },
    {
      "cell_type": "code",
      "metadata": {
        "id": "ZcoQ5fD49yT_",
        "colab_type": "code",
        "outputId": "54d05507-a98d-444a-b1d1-a6b14ebd87e9",
        "colab": {
          "base_uri": "https://localhost:8080/",
          "height": 1000
        }
      },
      "source": [
        "train(net,train_dataloader)"
      ],
      "execution_count": 49,
      "outputs": [
        {
          "output_type": "stream",
          "text": [
            "lr 0.001 step 8 epochs 20 \n",
            "Starting epoch 1/20, LR = [0.001]\n",
            "Epoch 1,Medium Loss 0.11231305450201035\n",
            "Starting epoch 2/20, LR = [0.001]\n",
            "Epoch 2,Medium Loss 0.11952925215546902\n",
            "Starting epoch 3/20, LR = [0.001]\n",
            "Epoch 3,Medium Loss 0.10874118827856503\n",
            "Starting epoch 4/20, LR = [0.001]\n",
            "Epoch 4,Medium Loss 0.09543208090158609\n",
            "Starting epoch 5/20, LR = [0.001]\n",
            "Epoch 5,Medium Loss 0.08446216439971557\n",
            "Starting epoch 6/20, LR = [0.001]\n",
            "Epoch 6,Medium Loss 0.07058874546335293\n",
            "Starting epoch 7/20, LR = [0.001]\n",
            "Epoch 7,Medium Loss 0.061494099406095654\n",
            "Starting epoch 8/20, LR = [0.001]\n",
            "Epoch 8,Medium Loss 0.05349286817587339\n",
            "Starting epoch 9/20, LR = [0.0001]\n",
            "Epoch 9,Medium Loss 0.03827868215739727\n",
            "Starting epoch 10/20, LR = [0.0001]\n",
            "Epoch 10,Medium Loss 0.03822956649729839\n",
            "Starting epoch 11/20, LR = [0.0001]\n",
            "Epoch 11,Medium Loss 0.03957999239747341\n",
            "Starting epoch 12/20, LR = [0.0001]\n",
            "Epoch 12,Medium Loss 0.036624024980343305\n",
            "Starting epoch 13/20, LR = [0.0001]\n",
            "Epoch 13,Medium Loss 0.03814211315833605\n",
            "Starting epoch 14/20, LR = [0.0001]\n",
            "Epoch 14,Medium Loss 0.03218389990238043\n",
            "Starting epoch 15/20, LR = [0.0001]\n",
            "Epoch 15,Medium Loss 0.03488921846907873\n",
            "Starting epoch 16/20, LR = [0.0001]\n",
            "Epoch 16,Medium Loss 0.03745023275797184\n",
            "Starting epoch 17/20, LR = [1.0000000000000003e-05]\n",
            "Epoch 17,Medium Loss 0.040890384322175614\n",
            "Starting epoch 18/20, LR = [1.0000000000000003e-05]\n",
            "Epoch 18,Medium Loss 0.03417464689566539\n",
            "Starting epoch 19/20, LR = [1.0000000000000003e-05]\n",
            "Epoch 19,Medium Loss 0.03290865971491887\n",
            "Starting epoch 20/20, LR = [1.0000000000000003e-05]\n",
            "Epoch 20,Medium Loss 0.03618369007912966\n"
          ],
          "name": "stdout"
        },
        {
          "output_type": "execute_result",
          "data": {
            "text/plain": [
              "{'LR': [0.001],\n",
              " 'NUMBER_EPOCHS': [20],\n",
              " 'STEP_SIZE': [8],\n",
              " 'accuracy_cartoon': [],\n",
              " 'accuracy_sketch': [],\n",
              " 'loss': [0.03618369007912966],\n",
              " 'model': [AlexNet(\n",
              "    (features): Sequential(\n",
              "      (0): Conv2d(3, 64, kernel_size=(11, 11), stride=(4, 4), padding=(2, 2))\n",
              "      (1): ReLU(inplace=True)\n",
              "      (2): MaxPool2d(kernel_size=3, stride=2, padding=0, dilation=1, ceil_mode=False)\n",
              "      (3): Conv2d(64, 192, kernel_size=(5, 5), stride=(1, 1), padding=(2, 2))\n",
              "      (4): ReLU(inplace=True)\n",
              "      (5): MaxPool2d(kernel_size=3, stride=2, padding=0, dilation=1, ceil_mode=False)\n",
              "      (6): Conv2d(192, 384, kernel_size=(3, 3), stride=(1, 1), padding=(1, 1))\n",
              "      (7): ReLU(inplace=True)\n",
              "      (8): Conv2d(384, 256, kernel_size=(3, 3), stride=(1, 1), padding=(1, 1))\n",
              "      (9): ReLU(inplace=True)\n",
              "      (10): Conv2d(256, 256, kernel_size=(3, 3), stride=(1, 1), padding=(1, 1))\n",
              "      (11): ReLU(inplace=True)\n",
              "      (12): MaxPool2d(kernel_size=3, stride=2, padding=0, dilation=1, ceil_mode=False)\n",
              "    )\n",
              "    (avgpool): AdaptiveAvgPool2d(output_size=(6, 6))\n",
              "    (classifier): Sequential(\n",
              "      (0): Dropout(p=0.5, inplace=False)\n",
              "      (1): Linear(in_features=9216, out_features=4096, bias=True)\n",
              "      (2): ReLU(inplace=True)\n",
              "      (3): Dropout(p=0.5, inplace=False)\n",
              "      (4): Linear(in_features=4096, out_features=4096, bias=True)\n",
              "      (5): ReLU(inplace=True)\n",
              "      (6): Linear(in_features=4096, out_features=7, bias=True)\n",
              "    )\n",
              "    (domainclassifier): Sequential(\n",
              "      (0): Dropout(p=0.5, inplace=False)\n",
              "      (1): Linear(in_features=9216, out_features=4096, bias=True)\n",
              "      (2): ReLU(inplace=True)\n",
              "      (3): Dropout(p=0.5, inplace=False)\n",
              "      (4): Linear(in_features=4096, out_features=4096, bias=True)\n",
              "      (5): ReLU(inplace=True)\n",
              "      (6): Linear(in_features=4096, out_features=2, bias=True)\n",
              "    )\n",
              "  )]}"
            ]
          },
          "metadata": {
            "tags": []
          },
          "execution_count": 49
        }
      ]
    },
    {
      "cell_type": "markdown",
      "metadata": {
        "id": "UsHFI-GAJd69",
        "colab_type": "text"
      },
      "source": [
        "**Test**"
      ]
    },
    {
      "cell_type": "code",
      "metadata": {
        "id": "EO3HV5pqJg1o",
        "colab_type": "code",
        "outputId": "ab540be2-443b-4d26-fc12-f80278635d93",
        "colab": {
          "base_uri": "https://localhost:8080/",
          "height": 54
        }
      },
      "source": [
        "net = net.to(DEVICE) # this will bring the network to GPU if DEVICE is cuda\n",
        "net.train(False) # Set Network to evaluation mode\n",
        "\n",
        "running_corrects = 0\n",
        "for images, labels, domains in tqdm(test_dataloader):\n",
        "  images = images.to(DEVICE)\n",
        "  labels = labels.to(DEVICE)\n",
        "  domains = domains.to(DEVICE)\n",
        "\n",
        "  # Forward Pass\n",
        "  outputs = net(images)\n",
        "\n",
        "  # Get predictions\n",
        "  _, preds = torch.max(outputs.data, 1)\n",
        "\n",
        "  # Update Corrects\n",
        "  running_corrects += torch.sum(preds == labels.data).data.item()\n",
        "\n",
        "# Calculate Accuracy\n",
        "accuracy = running_corrects / float(len(test_dataset))\n",
        "\n",
        "print('Test Accuracy: {}'.format(accuracy))"
      ],
      "execution_count": 50,
      "outputs": [
        {
          "output_type": "stream",
          "text": [
            "100%|██████████| 16/16 [00:03<00:00,  6.83it/s]"
          ],
          "name": "stderr"
        },
        {
          "output_type": "stream",
          "text": [
            "Test Accuracy: 0.3935546875\n"
          ],
          "name": "stdout"
        },
        {
          "output_type": "stream",
          "text": [
            "\n"
          ],
          "name": "stderr"
        }
      ]
    },
    {
      "cell_type": "code",
      "metadata": {
        "id": "swZNjsJaZmUb",
        "colab_type": "code",
        "colab": {}
      },
      "source": [
        "net = alexnet(pretrained = True) # Loading AlexNet model\n",
        "#copia dei pesi\n",
        "net.classifier[6] = nn.Linear(4096, 7)\n",
        "weight1=deepcopy(net.classifier[1].weight.data)\n",
        "bias1=deepcopy(net.classifier[1].bias.data)\n",
        "weight4=deepcopy(net.classifier[4].weight.data)\n",
        "bias4=deepcopy(net.classifier[4].bias.data)\n",
        "net.domainclassifier[1].weight.data=weight1\n",
        "net.domainclassifier[1].bias.data=bias1\n",
        "net.domainclassifier[4].weight.data=weight4\n",
        "net.domainclassifier[4].bias.data=bias4\n",
        "# AlexNet has 1000 output neurons, corresponding to the 1000 ImageNet's classes\n",
        "# We need 101 outputs for Caltech-101\n",
        "net.classifier[6] = nn.Linear(4096, NUM_CLASSES) # nn.Linear in pytorch is a fully connected layer\n",
        "                                                 # The convolutional layer is nn.Conv2d\n",
        "\n",
        "# We just changed the last layer of AlexNet with a new fully connected layer with 101 outputs\n",
        "# It is mandatory to study torchvision.models.alexnet source code\n",
        "\n",
        "params = DANN_train(net, train_dataloader,test_dataloader)\n",
        "print(params)"
      ],
      "execution_count": 0,
      "outputs": []
    },
    {
      "cell_type": "code",
      "metadata": {
        "id": "c4jqDupBH1K5",
        "colab_type": "code",
        "colab": {}
      },
      "source": [
        "net = net.to(DEVICE) # this will bring the network to GPU if DEVICE is cuda\n",
        "net.train(False) # Set Network to evaluation mode\n",
        "\n",
        "running_corrects = 0\n",
        "for images, labels, domains in tqdm(test_dataloader):\n",
        "  images = images.to(DEVICE)\n",
        "  labels = labels.to(DEVICE)\n",
        "  domains = domains.to(DEVICE)\n",
        "\n",
        "  # Forward Pass\n",
        "  outputs = net(images)\n",
        "\n",
        "  # Get predictions\n",
        "  _, preds = torch.max(outputs.data, 1)\n",
        "\n",
        "  # Update Corrects\n",
        "  running_corrects += torch.sum(preds == labels.data).data.item()\n",
        "\n",
        "# Calculate Accuracy\n",
        "accuracy = running_corrects / float(len(test_dataset))\n",
        "\n",
        "print('Test Accuracy: {}'.format(accuracy))"
      ],
      "execution_count": 0,
      "outputs": []
    },
    {
      "cell_type": "markdown",
      "metadata": {
        "id": "p6Xead8W7Th_",
        "colab_type": "text"
      },
      "source": [
        "**CROSS DOMAIN VALIDATION (GRID SEARCH)**"
      ]
    },
    {
      "cell_type": "code",
      "metadata": {
        "id": "ZJMghImWZCSX",
        "colab_type": "code",
        "colab": {
          "base_uri": "https://localhost:8080/",
          "height": 54
        },
        "outputId": "62c80bb6-55df-4c90-d6d4-09f197a5418f"
      },
      "source": [
        "cartoon_dataset = Caltech(train_transform,sets = [1])\n",
        "sketch_dataset = Caltech(eval_transform,sets = [3])\n",
        "\n",
        "cartoon_dataloader = DataLoader(cartoon_dataset, batch_size=BATCH_SIZE, shuffle=True, num_workers=4, drop_last=True)\n",
        "sketch_dataloader = DataLoader(sketch_dataset, batch_size=BATCH_SIZE, shuffle=False, num_workers=4)"
      ],
      "execution_count": 51,
      "outputs": [
        {
          "output_type": "stream",
          "text": [
            "Homework3-PACS/PACS/cartoon\n",
            "Homework3-PACS/PACS/sketch\n"
          ],
          "name": "stdout"
        }
      ]
    },
    {
      "cell_type": "code",
      "metadata": {
        "id": "-CJXZmhwWUad",
        "colab_type": "code",
        "outputId": "017b1a61-9b1b-4685-ab9d-8855d489b42b",
        "colab": {
          "base_uri": "https://localhost:8080/",
          "height": 1000
        }
      },
      "source": [
        "#cross domain validation\n",
        "lrs =[0.001,0.01,0.05]\n",
        "STEPs = [6,10,15] \n",
        "Ns =[10, 15, 20]\n",
        "LAMBDAs =[0.05,0.1,0.2]\n",
        "\n",
        "net = alexnet(pretrained = True) # Loading AlexNet model\n",
        "#copia dei pesi\n",
        "net.classifier[6] = nn.Linear(4096, 7)\n",
        "weight1=deepcopy(net.classifier[1].weight.data)\n",
        "bias1=deepcopy(net.classifier[1].bias.data)\n",
        "weight4=deepcopy(net.classifier[4].weight.data)\n",
        "bias4=deepcopy(net.classifier[4].bias.data)\n",
        "net.domainclassifier[1].weight.data=weight1\n",
        "net.domainclassifier[1].bias.data=bias1\n",
        "net.domainclassifier[4].weight.data=weight4\n",
        "net.domainclassifier[4].bias.data=bias4\n",
        "# AlexNet has 1000 output neurons, corresponding to the 1000 ImageNet's classes\n",
        "# We need 101 outputs for Caltech-101\n",
        "net.classifier[6] = nn.Linear(4096, NUM_CLASSES) # nn.Linear in pytorch is a fully connected layer\n",
        "                                                 # The convolutional layer is nn.Conv2d\n",
        "\n",
        "# We just changed the last layer of AlexNet with a new fully connected layer with 101 outputs\n",
        "# It is mandatory to study torchvision.models.alexnet source code\n",
        "\n",
        "params = train(net, train_dataloader,lrs,STEPs,Ns) #train su dataset photo\n",
        "\n",
        "print(params)"
      ],
      "execution_count": 52,
      "outputs": [
        {
          "output_type": "stream",
          "text": [
            "lr 0.001 step 6 epochs 10 \n",
            "Starting epoch 1/10, LR = [0.001]\n",
            "Epoch 1,Medium Loss 1.1934209786928618\n",
            "Starting epoch 2/10, LR = [0.001]\n",
            "Epoch 2,Medium Loss 0.5464694270720849\n",
            "Starting epoch 3/10, LR = [0.001]\n",
            "Epoch 3,Medium Loss 0.40737512478461635\n",
            "Starting epoch 4/10, LR = [0.001]\n",
            "Epoch 4,Medium Loss 0.3231086478783534\n",
            "Starting epoch 5/10, LR = [0.001]\n",
            "Epoch 5,Medium Loss 0.2659415270273502\n",
            "Starting epoch 6/10, LR = [0.001]\n",
            "Epoch 6,Medium Loss 0.23138977816471687\n",
            "Starting epoch 7/10, LR = [0.0001]\n",
            "Epoch 7,Medium Loss 0.19585775068173042\n",
            "Starting epoch 8/10, LR = [0.0001]\n",
            "Epoch 8,Medium Loss 0.18757637303609115\n",
            "Starting epoch 9/10, LR = [0.0001]\n",
            "Epoch 9,Medium Loss 0.18844550848007202\n",
            "Starting epoch 10/10, LR = [0.0001]\n",
            "Epoch 10,Medium Loss 0.17622873989435342\n",
            "lr 0.01 step 10 epochs 15 \n",
            "Starting epoch 1/15, LR = [0.01]\n",
            "Epoch 1,Medium Loss 0.34187523218301624\n",
            "Starting epoch 2/15, LR = [0.01]\n",
            "Epoch 2,Medium Loss 0.3162488673742001\n",
            "Starting epoch 3/15, LR = [0.01]\n",
            "Epoch 3,Medium Loss 0.2563909968504539\n",
            "Starting epoch 4/15, LR = [0.01]\n",
            "Epoch 4,Medium Loss 0.1533664378982324\n",
            "Starting epoch 5/15, LR = [0.01]\n",
            "Epoch 5,Medium Loss 0.1078303585258814\n",
            "Starting epoch 6/15, LR = [0.01]\n",
            "Epoch 6,Medium Loss 0.086179468780756\n",
            "Starting epoch 7/15, LR = [0.01]\n",
            "Epoch 7,Medium Loss 0.0695697392981786\n",
            "Starting epoch 8/15, LR = [0.01]\n",
            "Epoch 8,Medium Loss 0.0459413375132359\n",
            "Starting epoch 9/15, LR = [0.01]\n",
            "Epoch 9,Medium Loss 0.028751490637660027\n",
            "Starting epoch 10/15, LR = [0.01]\n",
            "Epoch 10,Medium Loss 0.023541740356729582\n",
            "Starting epoch 11/15, LR = [0.001]\n",
            "Epoch 11,Medium Loss 0.011935439247351427\n",
            "Starting epoch 12/15, LR = [0.001]\n",
            "Epoch 12,Medium Loss 0.005870259725130522\n",
            "Starting epoch 13/15, LR = [0.001]\n",
            "Epoch 13,Medium Loss 0.006103892595722125\n",
            "Starting epoch 14/15, LR = [0.001]\n",
            "Epoch 14,Medium Loss 0.002643724043781941\n",
            "Starting epoch 15/15, LR = [0.001]\n",
            "Epoch 15,Medium Loss 0.003803141415119171\n",
            "lr 0.05 step 15 epochs 20 \n",
            "Starting epoch 1/20, LR = [0.05]\n",
            "Epoch 1,Medium Loss 0.011827383190393448\n",
            "Starting epoch 2/20, LR = [0.05]\n",
            "Epoch 2,Medium Loss nan\n",
            "Starting epoch 3/20, LR = [0.05]\n",
            "Epoch 3,Medium Loss nan\n",
            "Starting epoch 4/20, LR = [0.05]\n",
            "Epoch 4,Medium Loss nan\n",
            "Starting epoch 5/20, LR = [0.05]\n",
            "Epoch 5,Medium Loss nan\n",
            "Starting epoch 6/20, LR = [0.05]\n",
            "Epoch 6,Medium Loss nan\n",
            "Starting epoch 7/20, LR = [0.05]\n",
            "Epoch 7,Medium Loss nan\n",
            "Starting epoch 8/20, LR = [0.05]\n",
            "Epoch 8,Medium Loss nan\n",
            "Starting epoch 9/20, LR = [0.05]\n",
            "Epoch 9,Medium Loss nan\n",
            "Starting epoch 10/20, LR = [0.05]\n",
            "Epoch 10,Medium Loss nan\n",
            "Starting epoch 11/20, LR = [0.05]\n",
            "Epoch 11,Medium Loss nan\n",
            "Starting epoch 12/20, LR = [0.05]\n",
            "Epoch 12,Medium Loss nan\n",
            "Starting epoch 13/20, LR = [0.05]\n",
            "Epoch 13,Medium Loss nan\n",
            "Starting epoch 14/20, LR = [0.05]\n",
            "Epoch 14,Medium Loss nan\n",
            "Starting epoch 15/20, LR = [0.05]\n",
            "Epoch 15,Medium Loss nan\n",
            "Starting epoch 16/20, LR = [0.005000000000000001]\n",
            "Epoch 16,Medium Loss nan\n",
            "Starting epoch 17/20, LR = [0.005000000000000001]\n",
            "Epoch 17,Medium Loss nan\n",
            "Starting epoch 18/20, LR = [0.005000000000000001]\n",
            "Epoch 18,Medium Loss nan\n",
            "Starting epoch 19/20, LR = [0.005000000000000001]\n",
            "Epoch 19,Medium Loss nan\n",
            "Starting epoch 20/20, LR = [0.005000000000000001]\n",
            "Epoch 20,Medium Loss nan\n",
            "{'LR': [0.001, 0.01, 0.05], 'STEP_SIZE': [6, 10, 15], 'NUMBER_EPOCHS': [10, 15, 20], 'accuracy_cartoon': [], 'accuracy_sketch': [], 'loss': [0.17622873989435342, 0.003803141415119171, nan], 'model': [AlexNet(\n",
            "  (features): Sequential(\n",
            "    (0): Conv2d(3, 64, kernel_size=(11, 11), stride=(4, 4), padding=(2, 2))\n",
            "    (1): ReLU(inplace=True)\n",
            "    (2): MaxPool2d(kernel_size=3, stride=2, padding=0, dilation=1, ceil_mode=False)\n",
            "    (3): Conv2d(64, 192, kernel_size=(5, 5), stride=(1, 1), padding=(2, 2))\n",
            "    (4): ReLU(inplace=True)\n",
            "    (5): MaxPool2d(kernel_size=3, stride=2, padding=0, dilation=1, ceil_mode=False)\n",
            "    (6): Conv2d(192, 384, kernel_size=(3, 3), stride=(1, 1), padding=(1, 1))\n",
            "    (7): ReLU(inplace=True)\n",
            "    (8): Conv2d(384, 256, kernel_size=(3, 3), stride=(1, 1), padding=(1, 1))\n",
            "    (9): ReLU(inplace=True)\n",
            "    (10): Conv2d(256, 256, kernel_size=(3, 3), stride=(1, 1), padding=(1, 1))\n",
            "    (11): ReLU(inplace=True)\n",
            "    (12): MaxPool2d(kernel_size=3, stride=2, padding=0, dilation=1, ceil_mode=False)\n",
            "  )\n",
            "  (avgpool): AdaptiveAvgPool2d(output_size=(6, 6))\n",
            "  (classifier): Sequential(\n",
            "    (0): Dropout(p=0.5, inplace=False)\n",
            "    (1): Linear(in_features=9216, out_features=4096, bias=True)\n",
            "    (2): ReLU(inplace=True)\n",
            "    (3): Dropout(p=0.5, inplace=False)\n",
            "    (4): Linear(in_features=4096, out_features=4096, bias=True)\n",
            "    (5): ReLU(inplace=True)\n",
            "    (6): Linear(in_features=4096, out_features=7, bias=True)\n",
            "  )\n",
            "  (domainclassifier): Sequential(\n",
            "    (0): Dropout(p=0.5, inplace=False)\n",
            "    (1): Linear(in_features=9216, out_features=4096, bias=True)\n",
            "    (2): ReLU(inplace=True)\n",
            "    (3): Dropout(p=0.5, inplace=False)\n",
            "    (4): Linear(in_features=4096, out_features=4096, bias=True)\n",
            "    (5): ReLU(inplace=True)\n",
            "    (6): Linear(in_features=4096, out_features=2, bias=True)\n",
            "  )\n",
            "), AlexNet(\n",
            "  (features): Sequential(\n",
            "    (0): Conv2d(3, 64, kernel_size=(11, 11), stride=(4, 4), padding=(2, 2))\n",
            "    (1): ReLU(inplace=True)\n",
            "    (2): MaxPool2d(kernel_size=3, stride=2, padding=0, dilation=1, ceil_mode=False)\n",
            "    (3): Conv2d(64, 192, kernel_size=(5, 5), stride=(1, 1), padding=(2, 2))\n",
            "    (4): ReLU(inplace=True)\n",
            "    (5): MaxPool2d(kernel_size=3, stride=2, padding=0, dilation=1, ceil_mode=False)\n",
            "    (6): Conv2d(192, 384, kernel_size=(3, 3), stride=(1, 1), padding=(1, 1))\n",
            "    (7): ReLU(inplace=True)\n",
            "    (8): Conv2d(384, 256, kernel_size=(3, 3), stride=(1, 1), padding=(1, 1))\n",
            "    (9): ReLU(inplace=True)\n",
            "    (10): Conv2d(256, 256, kernel_size=(3, 3), stride=(1, 1), padding=(1, 1))\n",
            "    (11): ReLU(inplace=True)\n",
            "    (12): MaxPool2d(kernel_size=3, stride=2, padding=0, dilation=1, ceil_mode=False)\n",
            "  )\n",
            "  (avgpool): AdaptiveAvgPool2d(output_size=(6, 6))\n",
            "  (classifier): Sequential(\n",
            "    (0): Dropout(p=0.5, inplace=False)\n",
            "    (1): Linear(in_features=9216, out_features=4096, bias=True)\n",
            "    (2): ReLU(inplace=True)\n",
            "    (3): Dropout(p=0.5, inplace=False)\n",
            "    (4): Linear(in_features=4096, out_features=4096, bias=True)\n",
            "    (5): ReLU(inplace=True)\n",
            "    (6): Linear(in_features=4096, out_features=7, bias=True)\n",
            "  )\n",
            "  (domainclassifier): Sequential(\n",
            "    (0): Dropout(p=0.5, inplace=False)\n",
            "    (1): Linear(in_features=9216, out_features=4096, bias=True)\n",
            "    (2): ReLU(inplace=True)\n",
            "    (3): Dropout(p=0.5, inplace=False)\n",
            "    (4): Linear(in_features=4096, out_features=4096, bias=True)\n",
            "    (5): ReLU(inplace=True)\n",
            "    (6): Linear(in_features=4096, out_features=2, bias=True)\n",
            "  )\n",
            "), AlexNet(\n",
            "  (features): Sequential(\n",
            "    (0): Conv2d(3, 64, kernel_size=(11, 11), stride=(4, 4), padding=(2, 2))\n",
            "    (1): ReLU(inplace=True)\n",
            "    (2): MaxPool2d(kernel_size=3, stride=2, padding=0, dilation=1, ceil_mode=False)\n",
            "    (3): Conv2d(64, 192, kernel_size=(5, 5), stride=(1, 1), padding=(2, 2))\n",
            "    (4): ReLU(inplace=True)\n",
            "    (5): MaxPool2d(kernel_size=3, stride=2, padding=0, dilation=1, ceil_mode=False)\n",
            "    (6): Conv2d(192, 384, kernel_size=(3, 3), stride=(1, 1), padding=(1, 1))\n",
            "    (7): ReLU(inplace=True)\n",
            "    (8): Conv2d(384, 256, kernel_size=(3, 3), stride=(1, 1), padding=(1, 1))\n",
            "    (9): ReLU(inplace=True)\n",
            "    (10): Conv2d(256, 256, kernel_size=(3, 3), stride=(1, 1), padding=(1, 1))\n",
            "    (11): ReLU(inplace=True)\n",
            "    (12): MaxPool2d(kernel_size=3, stride=2, padding=0, dilation=1, ceil_mode=False)\n",
            "  )\n",
            "  (avgpool): AdaptiveAvgPool2d(output_size=(6, 6))\n",
            "  (classifier): Sequential(\n",
            "    (0): Dropout(p=0.5, inplace=False)\n",
            "    (1): Linear(in_features=9216, out_features=4096, bias=True)\n",
            "    (2): ReLU(inplace=True)\n",
            "    (3): Dropout(p=0.5, inplace=False)\n",
            "    (4): Linear(in_features=4096, out_features=4096, bias=True)\n",
            "    (5): ReLU(inplace=True)\n",
            "    (6): Linear(in_features=4096, out_features=7, bias=True)\n",
            "  )\n",
            "  (domainclassifier): Sequential(\n",
            "    (0): Dropout(p=0.5, inplace=False)\n",
            "    (1): Linear(in_features=9216, out_features=4096, bias=True)\n",
            "    (2): ReLU(inplace=True)\n",
            "    (3): Dropout(p=0.5, inplace=False)\n",
            "    (4): Linear(in_features=4096, out_features=4096, bias=True)\n",
            "    (5): ReLU(inplace=True)\n",
            "    (6): Linear(in_features=4096, out_features=2, bias=True)\n",
            "  )\n",
            ")]}\n"
          ],
          "name": "stdout"
        }
      ]
    },
    {
      "cell_type": "code",
      "metadata": {
        "id": "rqYvuhEsaqbd",
        "colab_type": "code",
        "colab": {
          "base_uri": "https://localhost:8080/",
          "height": 127
        },
        "outputId": "f9428824-9e17-4f17-afb9-38db312a9548"
      },
      "source": [
        "for net in params['model']:\n",
        "  net = net.to(DEVICE) # this will bring the network to GPU if DEVICE is cuda\n",
        "  net.train(False) # Set Network to evaluation mode\n",
        "  #test on catoon\n",
        "  running_corrects = 0\n",
        "  for images, labels, domains in tqdm(cartoon_dataloader):\n",
        "    images = images.to(DEVICE)\n",
        "    labels = labels.to(DEVICE)\n",
        "    domains = domains.to(DEVICE)\n",
        "\n",
        "    # Forward Pass\n",
        "    outputs = net(images)\n",
        "\n",
        "    # Get predictions\n",
        "    _, preds = torch.max(outputs.data, 1)\n",
        "\n",
        "    # Update Corrects\n",
        "    running_corrects += torch.sum(preds == labels.data).data.item()\n",
        "\n",
        "  # Calculate Accuracy\n",
        "  params['accuracy_cartoon'].append(running_corrects / float(len(cartoon_dataset)))\n",
        "  #test on sketch\n",
        "  running_corrects = 0\n",
        "  for images, labels, domains in tqdm(sketch_dataloader):\n",
        "    images = images.to(DEVICE)\n",
        "    labels = labels.to(DEVICE)\n",
        "    domains = domains.to(DEVICE)\n",
        "\n",
        "    # Forward Pass\n",
        "    outputs = net(images)\n",
        "\n",
        "    # Get predictions\n",
        "    _, preds = torch.max(outputs.data, 1)\n",
        "\n",
        "    # Update Corrects\n",
        "    running_corrects += torch.sum(preds == labels.data).data.item()\n",
        "\n",
        "  # Calculate Accuracy\n",
        "  params['accuracy_sketch'].append(running_corrects / float(len(sketch_dataset)))"
      ],
      "execution_count": 68,
      "outputs": [
        {
          "output_type": "stream",
          "text": [
            "100%|██████████| 18/18 [00:04<00:00,  6.98it/s]\n",
            "100%|██████████| 31/31 [00:07<00:00,  7.86it/s]\n",
            "100%|██████████| 18/18 [00:04<00:00,  7.48it/s]\n",
            "100%|██████████| 31/31 [00:07<00:00,  7.69it/s]\n",
            "100%|██████████| 18/18 [00:04<00:00,  3.96it/s]\n",
            "100%|██████████| 31/31 [00:06<00:00,  7.70it/s]\n"
          ],
          "name": "stderr"
        }
      ]
    },
    {
      "cell_type": "code",
      "metadata": {
        "id": "JTlEKxOHhjEh",
        "colab_type": "code",
        "colab": {
          "base_uri": "https://localhost:8080/",
          "height": 54
        },
        "outputId": "9f587d03-eb4d-45ce-cb16-f56ef0ccb570"
      },
      "source": [
        "max = 0\n",
        "best_model = {'accuracy':0}\n",
        "for lr,step,epoch,acc_cart,acc_sk,model in zip(params['LR'],params['STEP_SIZE'],params['NUMBER_EPOCHS'],params['accuracy_cartoon'], params['accuracy_sketch'],params['model']):\n",
        "  medium_accuracy = (acc_cart + acc_sk) / 2\n",
        "  if(medium_accuracy > max):\n",
        "    best_model['model'] = copy.deepcopy(model)\n",
        "    best_model['LR'] = lr\n",
        "    best_model['STEP_SIZE'] = step\n",
        "    best_model['NUMBER_EPOCHS'] = epoch\n",
        "    best_model['accuracy'] = medium_accuracy\n",
        "    max = medium_accuracy\n",
        "    print('lr {} step {} epochs {} accuracy_cartoon {} accuracy_sketch {} -> medium accuracy {}'.format(lr,step,epoch,acc_cart,acc_sk, max))\n"
      ],
      "execution_count": 69,
      "outputs": [
        {
          "output_type": "stream",
          "text": [
            "lr 0.001 step 6 epochs 10 accuracy_cartoon 0.28369140625 accuracy_sketch 0.43408203125 -> medium accuracy 0.35888671875\n",
            "lr 0.01 step 10 epochs 15 accuracy_cartoon 0.40087890625 accuracy_sketch 0.74462890625 -> medium accuracy 0.57275390625\n"
          ],
          "name": "stdout"
        }
      ]
    },
    {
      "cell_type": "code",
      "metadata": {
        "id": "OKuDwzK8pROc",
        "colab_type": "code",
        "colab": {
          "base_uri": "https://localhost:8080/",
          "height": 72
        },
        "outputId": "1076ded4-174a-413d-f200-ba06d46944b6"
      },
      "source": [
        "net = copy.deepcopy(best_model['model']) # this will bring the network to GPU if DEVICE is cuda\n",
        "net.train(False) # Set Network to evaluation mode\n",
        "#test on catoon\n",
        "running_corrects = 0\n",
        "for images, labels, domains in tqdm(test_dataloader):\n",
        "  images = images.to(DEVICE)\n",
        "  labels = labels.to(DEVICE)\n",
        "  domains = domains.to(DEVICE)\n",
        "\n",
        "  # Forward Pass\n",
        "  outputs = net(images)\n",
        "\n",
        "  # Get predictions\n",
        "  _, preds = torch.max(outputs.data, 1)\n",
        "\n",
        "  # Update Corrects\n",
        "  running_corrects += torch.sum(preds == labels.data).data.item()\n",
        "\n",
        "# Calculate Accuracy\n",
        "accuracy = running_corrects / float(len(test_dataset))\n",
        "print('\\naccuracy on art dataset {}'.format(accuracy))"
      ],
      "execution_count": 71,
      "outputs": [
        {
          "output_type": "stream",
          "text": [
            "100%|██████████| 16/16 [00:04<00:00,  7.31it/s]"
          ],
          "name": "stderr"
        },
        {
          "output_type": "stream",
          "text": [
            "\n",
            "accuracy on art dataset 0.408203125\n"
          ],
          "name": "stdout"
        },
        {
          "output_type": "stream",
          "text": [
            "\n"
          ],
          "name": "stderr"
        }
      ]
    },
    {
      "cell_type": "code",
      "metadata": {
        "id": "lh8QNq0osAPR",
        "colab_type": "code",
        "colab": {
          "base_uri": "https://localhost:8080/",
          "height": 90
        },
        "outputId": "0fca4224-2c73-4246-96b8-b3b973325f80"
      },
      "source": [
        "cartoon_dataset = Caltech(train_transform,sets = [1])\n",
        "sketch_dataset = Caltech(eval_transform,sets = [3])\n",
        "train_dataset = Caltech(train_transform,sets = [2])\n",
        "test_dataset = Caltech(eval_transform,sets = [0])\n",
        "\n",
        "cartoon_dataloader = DataLoader(cartoon_dataset, batch_size=BATCH_SIZE, shuffle=True, num_workers=4, drop_last=True)\n",
        "sketch_dataloader = DataLoader(sketch_dataset, batch_size=BATCH_SIZE, shuffle=True, num_workers=4, drop_last = True)\n",
        "train_dataloader = DataLoader(train_dataset, batch_size=BATCH_SIZE, shuffle=True, num_workers=4, drop_last=True)\n",
        "test_dataloader = DataLoader(test_dataset, batch_size=BATCH_SIZE, shuffle=True, num_workers=4, drop_last = True)"
      ],
      "execution_count": 76,
      "outputs": [
        {
          "output_type": "stream",
          "text": [
            "Homework3-PACS/PACS/cartoon\n",
            "Homework3-PACS/PACS/sketch\n",
            "Homework3-PACS/PACS/photo\n",
            "Homework3-PACS/PACS/art_painting\n"
          ],
          "name": "stdout"
        }
      ]
    },
    {
      "cell_type": "markdown",
      "metadata": {
        "id": "uA5yQLFvpN3h",
        "colab_type": "text"
      },
      "source": [
        "**4c - 4d**"
      ]
    },
    {
      "cell_type": "code",
      "metadata": {
        "id": "w_20lsvOqPk5",
        "colab_type": "code",
        "colab": {
          "base_uri": "https://localhost:8080/",
          "height": 1000
        },
        "outputId": "6669929f-e98a-4be6-e12c-1886801c2c54"
      },
      "source": [
        "#cross domain validation\n",
        "lrs =[0.001,0.01,0.05]\n",
        "STEPs = [6,10,15] \n",
        "Ns =[10, 15, 20]\n",
        "LAMBDAs =[0.05,0.1,0.2]\n",
        "\n",
        "net = alexnet(pretrained = True) # Loading AlexNet model\n",
        "#copia dei pesi\n",
        "net.classifier[6] = nn.Linear(4096, 7)\n",
        "weight1=deepcopy(net.classifier[1].weight.data)\n",
        "bias1=deepcopy(net.classifier[1].bias.data)\n",
        "weight4=deepcopy(net.classifier[4].weight.data)\n",
        "bias4=deepcopy(net.classifier[4].bias.data)\n",
        "net.domainclassifier[1].weight.data=weight1\n",
        "net.domainclassifier[1].bias.data=bias1\n",
        "net.domainclassifier[4].weight.data=weight4\n",
        "net.domainclassifier[4].bias.data=bias4\n",
        "# AlexNet has 1000 output neurons, corresponding to the 1000 ImageNet's classes\n",
        "# We need 101 outputs for Caltech-101\n",
        "net.classifier[6] = nn.Linear(4096, NUM_CLASSES) # nn.Linear in pytorch is a fully connected layer\n",
        "                                                 # The convolutional layer is nn.Conv2d\n",
        "\n",
        "# We just changed the last layer of AlexNet with a new fully connected layer with 101 outputs\n",
        "# It is mandatory to study torchvision.models.alexnet source code\n",
        "\n",
        "params_sk = DANN_train(net, train_dataloader,sketch_dataloader,lrs,STEPs,Ns,LAMBDAs) #train su dataset photo\n",
        "params_ca = DANN_train(net, train_dataloader,cartoon_dataloader,lrs,STEPs,Ns,LAMBDAs) #train su dataset photo\n",
        "\n",
        "\n",
        "print(params_sk)\n",
        "print(params_ca)"
      ],
      "execution_count": 77,
      "outputs": [
        {
          "output_type": "stream",
          "text": [
            "lr 0.001 step 6 epochs 10 lambda 0.05\n",
            "Starting epoch 1/10, LR = [0.001]\n",
            "Epoch 1,Medium Loss 1.1818243311001704, Domain Loss (?) 0.06307813267295177, Test domain loss 4.431466634456928 \n",
            "Starting epoch 2/10, LR = [0.001]\n",
            "Epoch 2,Medium Loss 0.5315428444972405, Domain Loss (?) 7.728566057406939e-05, Test domain loss 8.427798968095045 \n",
            "Starting epoch 3/10, LR = [0.001]\n",
            "Epoch 3,Medium Loss 0.40695006801531863, Domain Loss (?) 2.86884605884552e-05, Test domain loss 9.195576300987831 \n",
            "Starting epoch 4/10, LR = [0.001]\n",
            "Epoch 4,Medium Loss 0.29951990911593807, Domain Loss (?) 3.2956783588115985e-05, Test domain loss 9.539020244891827 \n",
            "Starting epoch 5/10, LR = [0.001]\n",
            "Epoch 5,Medium Loss 0.2544961915566371, Domain Loss (?) 1.4914772831476652e-05, Test domain loss 9.85604506272536 \n",
            "Starting epoch 6/10, LR = [0.001]\n",
            "Epoch 6,Medium Loss 0.21891258771602923, Domain Loss (?) 1.5002173873094413e-05, Test domain loss 10.103889905489408 \n",
            "Starting epoch 7/10, LR = [0.0001]\n",
            "Epoch 7,Medium Loss 0.17941573548775452, Domain Loss (?) 3.367834366284884e-05, Test domain loss 10.306158726031963 \n",
            "Starting epoch 8/10, LR = [0.0001]\n",
            "Epoch 8,Medium Loss 0.17767659288186294, Domain Loss (?) 9.779030313858619e-06, Test domain loss 10.386662850013145 \n",
            "Starting epoch 9/10, LR = [0.0001]\n",
            "Epoch 9,Medium Loss 0.17032140092207834, Domain Loss (?) 1.2665557173582223e-05, Test domain loss 10.344784369835487 \n",
            "Starting epoch 10/10, LR = [0.0001]\n",
            "Epoch 10,Medium Loss 0.1605366858152243, Domain Loss (?) 1.9400595472409175e-05, Test domain loss 10.489499238821177 \n",
            "lr 0.01 step 10 epochs 15 lambda 0.1\n",
            "Starting epoch 1/15, LR = [0.01]\n",
            "Epoch 1,Medium Loss 0.37029658487209904, Domain Loss (?) 0.0005426793001019037, Test domain loss 8.671195653768686 \n",
            "Starting epoch 2/15, LR = [0.01]\n",
            "Epoch 2,Medium Loss 0.2989502033362022, Domain Loss (?) 0.0007719067641748831, Test domain loss 9.176567811232347 \n",
            "Starting epoch 3/15, LR = [0.01]\n",
            "Epoch 3,Medium Loss 0.2429075653736408, Domain Loss (?) 0.0006349402694747999, Test domain loss 8.6257675244258 \n",
            "Starting epoch 4/15, LR = [0.01]\n",
            "Epoch 4,Medium Loss 0.18741287405674273, Domain Loss (?) 0.0002888805734423491, Test domain loss 9.868835889376127 \n",
            "Starting epoch 5/15, LR = [0.01]\n",
            "Epoch 5,Medium Loss 0.129053400686154, Domain Loss (?) 0.0004930700390384748, Test domain loss 9.168311559236967 \n",
            "Starting epoch 6/15, LR = [0.01]\n",
            "Epoch 6,Medium Loss 0.06996775676424687, Domain Loss (?) 0.00019541368461572207, Test domain loss 9.16923478933481 \n",
            "Starting epoch 7/15, LR = [0.01]\n",
            "Epoch 7,Medium Loss 0.022744727679170094, Domain Loss (?) 5.489444503417382e-05, Test domain loss 10.576065063476562 \n",
            "Starting epoch 8/15, LR = [0.01]\n"
          ],
          "name": "stdout"
        },
        {
          "output_type": "error",
          "ename": "KeyboardInterrupt",
          "evalue": "ignored",
          "traceback": [
            "\u001b[0;31m---------------------------------------------------------------------------\u001b[0m",
            "\u001b[0;31mKeyboardInterrupt\u001b[0m                         Traceback (most recent call last)",
            "\u001b[0;32m<ipython-input-77-1955d0d6f793>\u001b[0m in \u001b[0;36m<module>\u001b[0;34m()\u001b[0m\n\u001b[1;32m     23\u001b[0m \u001b[0;31m# It is mandatory to study torchvision.models.alexnet source code\u001b[0m\u001b[0;34m\u001b[0m\u001b[0;34m\u001b[0m\u001b[0;34m\u001b[0m\u001b[0m\n\u001b[1;32m     24\u001b[0m \u001b[0;34m\u001b[0m\u001b[0m\n\u001b[0;32m---> 25\u001b[0;31m \u001b[0mparams_sk\u001b[0m \u001b[0;34m=\u001b[0m \u001b[0mDANN_train\u001b[0m\u001b[0;34m(\u001b[0m\u001b[0mnet\u001b[0m\u001b[0;34m,\u001b[0m \u001b[0mtrain_dataloader\u001b[0m\u001b[0;34m,\u001b[0m\u001b[0msketch_dataloader\u001b[0m\u001b[0;34m,\u001b[0m\u001b[0mlrs\u001b[0m\u001b[0;34m,\u001b[0m\u001b[0mSTEPs\u001b[0m\u001b[0;34m,\u001b[0m\u001b[0mNs\u001b[0m\u001b[0;34m,\u001b[0m\u001b[0mLAMBDAs\u001b[0m\u001b[0;34m)\u001b[0m \u001b[0;31m#train su dataset photo\u001b[0m\u001b[0;34m\u001b[0m\u001b[0;34m\u001b[0m\u001b[0m\n\u001b[0m\u001b[1;32m     26\u001b[0m \u001b[0mparams_ca\u001b[0m \u001b[0;34m=\u001b[0m \u001b[0mDANN_train\u001b[0m\u001b[0;34m(\u001b[0m\u001b[0mnet\u001b[0m\u001b[0;34m,\u001b[0m \u001b[0mtrain_dataloader\u001b[0m\u001b[0;34m,\u001b[0m\u001b[0mcartoon_dataloader\u001b[0m\u001b[0;34m,\u001b[0m\u001b[0mlrs\u001b[0m\u001b[0;34m,\u001b[0m\u001b[0mSTEPs\u001b[0m\u001b[0;34m,\u001b[0m\u001b[0mNs\u001b[0m\u001b[0;34m,\u001b[0m\u001b[0mLAMBDAs\u001b[0m\u001b[0;34m)\u001b[0m \u001b[0;31m#train su dataset photo\u001b[0m\u001b[0;34m\u001b[0m\u001b[0;34m\u001b[0m\u001b[0m\n\u001b[1;32m     27\u001b[0m \u001b[0;34m\u001b[0m\u001b[0m\n",
            "\u001b[0;32m<ipython-input-36-650a68345aa8>\u001b[0m in \u001b[0;36mDANN_train\u001b[0;34m(model, train_dataloader, test_dataloader, lrs, STEPs, Ns, LAMBDAs)\u001b[0m\n\u001b[1;32m     71\u001b[0m \u001b[0;34m\u001b[0m\u001b[0m\n\u001b[1;32m     72\u001b[0m         \u001b[0;31m#load batch from test dataloader. For every train batch I have to take a test batch\u001b[0m\u001b[0;34m\u001b[0m\u001b[0;34m\u001b[0m\u001b[0;34m\u001b[0m\u001b[0m\n\u001b[0;32m---> 73\u001b[0;31m         \u001b[0mimages_test\u001b[0m\u001b[0;34m,\u001b[0m\u001b[0mlabel_test\u001b[0m \u001b[0;34m=\u001b[0m \u001b[0mbatch_it\u001b[0m\u001b[0;34m(\u001b[0m\u001b[0mdataloader_iterator\u001b[0m\u001b[0;34m,\u001b[0m\u001b[0mtest_dataloader\u001b[0m\u001b[0;34m)\u001b[0m\u001b[0;34m\u001b[0m\u001b[0;34m\u001b[0m\u001b[0m\n\u001b[0m\u001b[1;32m     74\u001b[0m         \u001b[0mimages_test\u001b[0m \u001b[0;34m=\u001b[0m \u001b[0mimages_test\u001b[0m\u001b[0;34m.\u001b[0m\u001b[0mto\u001b[0m\u001b[0;34m(\u001b[0m\u001b[0mDEVICE\u001b[0m\u001b[0;34m)\u001b[0m\u001b[0;34m\u001b[0m\u001b[0;34m\u001b[0m\u001b[0m\n\u001b[1;32m     75\u001b[0m         \u001b[0mlabel_test\u001b[0m \u001b[0;34m=\u001b[0m \u001b[0mlabel_test\u001b[0m\u001b[0;34m.\u001b[0m\u001b[0mto\u001b[0m\u001b[0;34m(\u001b[0m\u001b[0mDEVICE\u001b[0m\u001b[0;34m)\u001b[0m\u001b[0;34m\u001b[0m\u001b[0;34m\u001b[0m\u001b[0m\n",
            "\u001b[0;32m<ipython-input-35-00c835f0e4e9>\u001b[0m in \u001b[0;36mbatch_it\u001b[0;34m(dataloader_iterator, taget_dataloader)\u001b[0m\n\u001b[1;32m      2\u001b[0m   \u001b[0;32mfor\u001b[0m \u001b[0mi\u001b[0m \u001b[0;32min\u001b[0m \u001b[0mrange\u001b[0m\u001b[0;34m(\u001b[0m\u001b[0mlen\u001b[0m\u001b[0;34m(\u001b[0m\u001b[0mtaget_dataloader\u001b[0m\u001b[0;34m)\u001b[0m\u001b[0;34m)\u001b[0m\u001b[0;34m:\u001b[0m\u001b[0;34m\u001b[0m\u001b[0;34m\u001b[0m\u001b[0m\n\u001b[1;32m      3\u001b[0m     \u001b[0;32mtry\u001b[0m\u001b[0;34m:\u001b[0m\u001b[0;34m\u001b[0m\u001b[0;34m\u001b[0m\u001b[0m\n\u001b[0;32m----> 4\u001b[0;31m       \u001b[0mdata\u001b[0m \u001b[0;34m=\u001b[0m \u001b[0mnext\u001b[0m\u001b[0;34m(\u001b[0m\u001b[0mdataloader_iterator\u001b[0m\u001b[0;34m)\u001b[0m\u001b[0;34m\u001b[0m\u001b[0;34m\u001b[0m\u001b[0m\n\u001b[0m\u001b[1;32m      5\u001b[0m     \u001b[0;32mexcept\u001b[0m \u001b[0mStopIteration\u001b[0m\u001b[0;34m:\u001b[0m\u001b[0;34m\u001b[0m\u001b[0;34m\u001b[0m\u001b[0m\n\u001b[1;32m      6\u001b[0m       \u001b[0mdataloader_iterator\u001b[0m \u001b[0;34m=\u001b[0m \u001b[0miter\u001b[0m\u001b[0;34m(\u001b[0m\u001b[0mtaget_dataloader\u001b[0m\u001b[0;34m)\u001b[0m\u001b[0;34m\u001b[0m\u001b[0;34m\u001b[0m\u001b[0m\n",
            "\u001b[0;32m/usr/local/lib/python3.6/dist-packages/torch/utils/data/dataloader.py\u001b[0m in \u001b[0;36m__next__\u001b[0;34m(self)\u001b[0m\n\u001b[1;32m    802\u001b[0m \u001b[0;34m\u001b[0m\u001b[0m\n\u001b[1;32m    803\u001b[0m             \u001b[0;32massert\u001b[0m \u001b[0;32mnot\u001b[0m \u001b[0mself\u001b[0m\u001b[0;34m.\u001b[0m\u001b[0m_shutdown\u001b[0m \u001b[0;32mand\u001b[0m \u001b[0mself\u001b[0m\u001b[0;34m.\u001b[0m\u001b[0m_tasks_outstanding\u001b[0m \u001b[0;34m>\u001b[0m \u001b[0;36m0\u001b[0m\u001b[0;34m\u001b[0m\u001b[0;34m\u001b[0m\u001b[0m\n\u001b[0;32m--> 804\u001b[0;31m             \u001b[0midx\u001b[0m\u001b[0;34m,\u001b[0m \u001b[0mdata\u001b[0m \u001b[0;34m=\u001b[0m \u001b[0mself\u001b[0m\u001b[0;34m.\u001b[0m\u001b[0m_get_data\u001b[0m\u001b[0;34m(\u001b[0m\u001b[0;34m)\u001b[0m\u001b[0;34m\u001b[0m\u001b[0;34m\u001b[0m\u001b[0m\n\u001b[0m\u001b[1;32m    805\u001b[0m             \u001b[0mself\u001b[0m\u001b[0;34m.\u001b[0m\u001b[0m_tasks_outstanding\u001b[0m \u001b[0;34m-=\u001b[0m \u001b[0;36m1\u001b[0m\u001b[0;34m\u001b[0m\u001b[0;34m\u001b[0m\u001b[0m\n\u001b[1;32m    806\u001b[0m \u001b[0;34m\u001b[0m\u001b[0m\n",
            "\u001b[0;32m/usr/local/lib/python3.6/dist-packages/torch/utils/data/dataloader.py\u001b[0m in \u001b[0;36m_get_data\u001b[0;34m(self)\u001b[0m\n\u001b[1;32m    769\u001b[0m         \u001b[0;32melse\u001b[0m\u001b[0;34m:\u001b[0m\u001b[0;34m\u001b[0m\u001b[0;34m\u001b[0m\u001b[0m\n\u001b[1;32m    770\u001b[0m             \u001b[0;32mwhile\u001b[0m \u001b[0;32mTrue\u001b[0m\u001b[0;34m:\u001b[0m\u001b[0;34m\u001b[0m\u001b[0;34m\u001b[0m\u001b[0m\n\u001b[0;32m--> 771\u001b[0;31m                 \u001b[0msuccess\u001b[0m\u001b[0;34m,\u001b[0m \u001b[0mdata\u001b[0m \u001b[0;34m=\u001b[0m \u001b[0mself\u001b[0m\u001b[0;34m.\u001b[0m\u001b[0m_try_get_data\u001b[0m\u001b[0;34m(\u001b[0m\u001b[0;34m)\u001b[0m\u001b[0;34m\u001b[0m\u001b[0;34m\u001b[0m\u001b[0m\n\u001b[0m\u001b[1;32m    772\u001b[0m                 \u001b[0;32mif\u001b[0m \u001b[0msuccess\u001b[0m\u001b[0;34m:\u001b[0m\u001b[0;34m\u001b[0m\u001b[0;34m\u001b[0m\u001b[0m\n\u001b[1;32m    773\u001b[0m                     \u001b[0;32mreturn\u001b[0m \u001b[0mdata\u001b[0m\u001b[0;34m\u001b[0m\u001b[0;34m\u001b[0m\u001b[0m\n",
            "\u001b[0;32m/usr/local/lib/python3.6/dist-packages/torch/utils/data/dataloader.py\u001b[0m in \u001b[0;36m_try_get_data\u001b[0;34m(self, timeout)\u001b[0m\n\u001b[1;32m    722\u001b[0m         \u001b[0;31m#   (bool: whether successfully get data, any: data if successful else None)\u001b[0m\u001b[0;34m\u001b[0m\u001b[0;34m\u001b[0m\u001b[0;34m\u001b[0m\u001b[0m\n\u001b[1;32m    723\u001b[0m         \u001b[0;32mtry\u001b[0m\u001b[0;34m:\u001b[0m\u001b[0;34m\u001b[0m\u001b[0;34m\u001b[0m\u001b[0m\n\u001b[0;32m--> 724\u001b[0;31m             \u001b[0mdata\u001b[0m \u001b[0;34m=\u001b[0m \u001b[0mself\u001b[0m\u001b[0;34m.\u001b[0m\u001b[0m_data_queue\u001b[0m\u001b[0;34m.\u001b[0m\u001b[0mget\u001b[0m\u001b[0;34m(\u001b[0m\u001b[0mtimeout\u001b[0m\u001b[0;34m=\u001b[0m\u001b[0mtimeout\u001b[0m\u001b[0;34m)\u001b[0m\u001b[0;34m\u001b[0m\u001b[0;34m\u001b[0m\u001b[0m\n\u001b[0m\u001b[1;32m    725\u001b[0m             \u001b[0;32mreturn\u001b[0m \u001b[0;34m(\u001b[0m\u001b[0;32mTrue\u001b[0m\u001b[0;34m,\u001b[0m \u001b[0mdata\u001b[0m\u001b[0;34m)\u001b[0m\u001b[0;34m\u001b[0m\u001b[0;34m\u001b[0m\u001b[0m\n\u001b[1;32m    726\u001b[0m         \u001b[0;32mexcept\u001b[0m \u001b[0mException\u001b[0m \u001b[0;32mas\u001b[0m \u001b[0me\u001b[0m\u001b[0;34m:\u001b[0m\u001b[0;34m\u001b[0m\u001b[0;34m\u001b[0m\u001b[0m\n",
            "\u001b[0;32m/usr/lib/python3.6/multiprocessing/queues.py\u001b[0m in \u001b[0;36mget\u001b[0;34m(self, block, timeout)\u001b[0m\n\u001b[1;32m    102\u001b[0m                 \u001b[0;32mif\u001b[0m \u001b[0mblock\u001b[0m\u001b[0;34m:\u001b[0m\u001b[0;34m\u001b[0m\u001b[0;34m\u001b[0m\u001b[0m\n\u001b[1;32m    103\u001b[0m                     \u001b[0mtimeout\u001b[0m \u001b[0;34m=\u001b[0m \u001b[0mdeadline\u001b[0m \u001b[0;34m-\u001b[0m \u001b[0mtime\u001b[0m\u001b[0;34m.\u001b[0m\u001b[0mmonotonic\u001b[0m\u001b[0;34m(\u001b[0m\u001b[0;34m)\u001b[0m\u001b[0;34m\u001b[0m\u001b[0;34m\u001b[0m\u001b[0m\n\u001b[0;32m--> 104\u001b[0;31m                     \u001b[0;32mif\u001b[0m \u001b[0;32mnot\u001b[0m \u001b[0mself\u001b[0m\u001b[0;34m.\u001b[0m\u001b[0m_poll\u001b[0m\u001b[0;34m(\u001b[0m\u001b[0mtimeout\u001b[0m\u001b[0;34m)\u001b[0m\u001b[0;34m:\u001b[0m\u001b[0;34m\u001b[0m\u001b[0;34m\u001b[0m\u001b[0m\n\u001b[0m\u001b[1;32m    105\u001b[0m                         \u001b[0;32mraise\u001b[0m \u001b[0mEmpty\u001b[0m\u001b[0;34m\u001b[0m\u001b[0;34m\u001b[0m\u001b[0m\n\u001b[1;32m    106\u001b[0m                 \u001b[0;32melif\u001b[0m \u001b[0;32mnot\u001b[0m \u001b[0mself\u001b[0m\u001b[0;34m.\u001b[0m\u001b[0m_poll\u001b[0m\u001b[0;34m(\u001b[0m\u001b[0;34m)\u001b[0m\u001b[0;34m:\u001b[0m\u001b[0;34m\u001b[0m\u001b[0;34m\u001b[0m\u001b[0m\n",
            "\u001b[0;32m/usr/lib/python3.6/multiprocessing/connection.py\u001b[0m in \u001b[0;36mpoll\u001b[0;34m(self, timeout)\u001b[0m\n\u001b[1;32m    255\u001b[0m         \u001b[0mself\u001b[0m\u001b[0;34m.\u001b[0m\u001b[0m_check_closed\u001b[0m\u001b[0;34m(\u001b[0m\u001b[0;34m)\u001b[0m\u001b[0;34m\u001b[0m\u001b[0;34m\u001b[0m\u001b[0m\n\u001b[1;32m    256\u001b[0m         \u001b[0mself\u001b[0m\u001b[0;34m.\u001b[0m\u001b[0m_check_readable\u001b[0m\u001b[0;34m(\u001b[0m\u001b[0;34m)\u001b[0m\u001b[0;34m\u001b[0m\u001b[0;34m\u001b[0m\u001b[0m\n\u001b[0;32m--> 257\u001b[0;31m         \u001b[0;32mreturn\u001b[0m \u001b[0mself\u001b[0m\u001b[0;34m.\u001b[0m\u001b[0m_poll\u001b[0m\u001b[0;34m(\u001b[0m\u001b[0mtimeout\u001b[0m\u001b[0;34m)\u001b[0m\u001b[0;34m\u001b[0m\u001b[0;34m\u001b[0m\u001b[0m\n\u001b[0m\u001b[1;32m    258\u001b[0m \u001b[0;34m\u001b[0m\u001b[0m\n\u001b[1;32m    259\u001b[0m     \u001b[0;32mdef\u001b[0m \u001b[0m__enter__\u001b[0m\u001b[0;34m(\u001b[0m\u001b[0mself\u001b[0m\u001b[0;34m)\u001b[0m\u001b[0;34m:\u001b[0m\u001b[0;34m\u001b[0m\u001b[0;34m\u001b[0m\u001b[0m\n",
            "\u001b[0;32m/usr/lib/python3.6/multiprocessing/connection.py\u001b[0m in \u001b[0;36m_poll\u001b[0;34m(self, timeout)\u001b[0m\n\u001b[1;32m    412\u001b[0m \u001b[0;34m\u001b[0m\u001b[0m\n\u001b[1;32m    413\u001b[0m     \u001b[0;32mdef\u001b[0m \u001b[0m_poll\u001b[0m\u001b[0;34m(\u001b[0m\u001b[0mself\u001b[0m\u001b[0;34m,\u001b[0m \u001b[0mtimeout\u001b[0m\u001b[0;34m)\u001b[0m\u001b[0;34m:\u001b[0m\u001b[0;34m\u001b[0m\u001b[0;34m\u001b[0m\u001b[0m\n\u001b[0;32m--> 414\u001b[0;31m         \u001b[0mr\u001b[0m \u001b[0;34m=\u001b[0m \u001b[0mwait\u001b[0m\u001b[0;34m(\u001b[0m\u001b[0;34m[\u001b[0m\u001b[0mself\u001b[0m\u001b[0;34m]\u001b[0m\u001b[0;34m,\u001b[0m \u001b[0mtimeout\u001b[0m\u001b[0;34m)\u001b[0m\u001b[0;34m\u001b[0m\u001b[0;34m\u001b[0m\u001b[0m\n\u001b[0m\u001b[1;32m    415\u001b[0m         \u001b[0;32mreturn\u001b[0m \u001b[0mbool\u001b[0m\u001b[0;34m(\u001b[0m\u001b[0mr\u001b[0m\u001b[0;34m)\u001b[0m\u001b[0;34m\u001b[0m\u001b[0;34m\u001b[0m\u001b[0m\n\u001b[1;32m    416\u001b[0m \u001b[0;34m\u001b[0m\u001b[0m\n",
            "\u001b[0;32m/usr/lib/python3.6/multiprocessing/connection.py\u001b[0m in \u001b[0;36mwait\u001b[0;34m(object_list, timeout)\u001b[0m\n\u001b[1;32m    909\u001b[0m \u001b[0;34m\u001b[0m\u001b[0m\n\u001b[1;32m    910\u001b[0m             \u001b[0;32mwhile\u001b[0m \u001b[0;32mTrue\u001b[0m\u001b[0;34m:\u001b[0m\u001b[0;34m\u001b[0m\u001b[0;34m\u001b[0m\u001b[0m\n\u001b[0;32m--> 911\u001b[0;31m                 \u001b[0mready\u001b[0m \u001b[0;34m=\u001b[0m \u001b[0mselector\u001b[0m\u001b[0;34m.\u001b[0m\u001b[0mselect\u001b[0m\u001b[0;34m(\u001b[0m\u001b[0mtimeout\u001b[0m\u001b[0;34m)\u001b[0m\u001b[0;34m\u001b[0m\u001b[0;34m\u001b[0m\u001b[0m\n\u001b[0m\u001b[1;32m    912\u001b[0m                 \u001b[0;32mif\u001b[0m \u001b[0mready\u001b[0m\u001b[0;34m:\u001b[0m\u001b[0;34m\u001b[0m\u001b[0;34m\u001b[0m\u001b[0m\n\u001b[1;32m    913\u001b[0m                     \u001b[0;32mreturn\u001b[0m \u001b[0;34m[\u001b[0m\u001b[0mkey\u001b[0m\u001b[0;34m.\u001b[0m\u001b[0mfileobj\u001b[0m \u001b[0;32mfor\u001b[0m \u001b[0;34m(\u001b[0m\u001b[0mkey\u001b[0m\u001b[0;34m,\u001b[0m \u001b[0mevents\u001b[0m\u001b[0;34m)\u001b[0m \u001b[0;32min\u001b[0m \u001b[0mready\u001b[0m\u001b[0;34m]\u001b[0m\u001b[0;34m\u001b[0m\u001b[0;34m\u001b[0m\u001b[0m\n",
            "\u001b[0;32m/usr/lib/python3.6/selectors.py\u001b[0m in \u001b[0;36mselect\u001b[0;34m(self, timeout)\u001b[0m\n\u001b[1;32m    374\u001b[0m             \u001b[0mready\u001b[0m \u001b[0;34m=\u001b[0m \u001b[0;34m[\u001b[0m\u001b[0;34m]\u001b[0m\u001b[0;34m\u001b[0m\u001b[0;34m\u001b[0m\u001b[0m\n\u001b[1;32m    375\u001b[0m             \u001b[0;32mtry\u001b[0m\u001b[0;34m:\u001b[0m\u001b[0;34m\u001b[0m\u001b[0;34m\u001b[0m\u001b[0m\n\u001b[0;32m--> 376\u001b[0;31m                 \u001b[0mfd_event_list\u001b[0m \u001b[0;34m=\u001b[0m \u001b[0mself\u001b[0m\u001b[0;34m.\u001b[0m\u001b[0m_poll\u001b[0m\u001b[0;34m.\u001b[0m\u001b[0mpoll\u001b[0m\u001b[0;34m(\u001b[0m\u001b[0mtimeout\u001b[0m\u001b[0;34m)\u001b[0m\u001b[0;34m\u001b[0m\u001b[0;34m\u001b[0m\u001b[0m\n\u001b[0m\u001b[1;32m    377\u001b[0m             \u001b[0;32mexcept\u001b[0m \u001b[0mInterruptedError\u001b[0m\u001b[0;34m:\u001b[0m\u001b[0;34m\u001b[0m\u001b[0;34m\u001b[0m\u001b[0m\n\u001b[1;32m    378\u001b[0m                 \u001b[0;32mreturn\u001b[0m \u001b[0mready\u001b[0m\u001b[0;34m\u001b[0m\u001b[0;34m\u001b[0m\u001b[0m\n",
            "\u001b[0;31mKeyboardInterrupt\u001b[0m: "
          ]
        }
      ]
    },
    {
      "cell_type": "code",
      "metadata": {
        "id": "H31aZmnUrenS",
        "colab_type": "code",
        "colab": {}
      },
      "source": [
        "for net in params['model']:\n",
        "  net = net.to(DEVICE) # this will bring the network to GPU if DEVICE is cuda\n",
        "  net.train(False) # Set Network to evaluation mode\n",
        "  #test on catoon\n",
        "  running_corrects = 0\n",
        "  for images, labels, domains in tqdm(cartoon_dataloader):\n",
        "    images = images.to(DEVICE)\n",
        "    labels = labels.to(DEVICE)\n",
        "    domains = domains.to(DEVICE)\n",
        "\n",
        "    # Forward Pass\n",
        "    outputs = net(images)\n",
        "\n",
        "    # Get predictions\n",
        "    _, preds = torch.max(outputs.data, 1)\n",
        "\n",
        "    # Update Corrects\n",
        "    running_corrects += torch.sum(preds == labels.data).data.item()\n",
        "\n",
        "  # Calculate Accuracy\n",
        "  params['accuracy_cartoon'].append(running_corrects / float(len(cartoon_dataset)))\n",
        "  #test on sketch\n",
        "  running_corrects = 0\n",
        "  for images, labels, domains in tqdm(sketch_dataloader):\n",
        "    images = images.to(DEVICE)\n",
        "    labels = labels.to(DEVICE)\n",
        "    domains = domains.to(DEVICE)\n",
        "\n",
        "    # Forward Pass\n",
        "    outputs = net(images)\n",
        "\n",
        "    # Get predictions\n",
        "    _, preds = torch.max(outputs.data, 1)\n",
        "\n",
        "    # Update Corrects\n",
        "    running_corrects += torch.sum(preds == labels.data).data.item()\n",
        "\n",
        "  # Calculate Accuracy\n",
        "  params['accuracy_sketch'].append(running_corrects / float(len(sketch_dataset)))"
      ],
      "execution_count": 0,
      "outputs": []
    },
    {
      "cell_type": "code",
      "metadata": {
        "id": "dNHSk7X8wC3V",
        "colab_type": "code",
        "colab": {}
      },
      "source": [
        "max = 0\n",
        "best_model = {'accuracy':0}\n",
        "for lr,step,epoch,acc_cart,acc_sk,model,loss,dloss,tdloss in zip(params['LR'],params['STEP_SIZE'],params['NUMBER_EPOCHS'],params['accuracy_cartoon'], params['accuracy_sketch'],params['model'],params['loss'], params['domain_loss'], params['test_domain_loss']):\n",
        "  medium_accuracy = (acc_cart + acc_sk) / 2\n",
        "  if(medium_accuracy > max):\n",
        "    best_DANN_model['model'] = copy.deepcopy(model)\n",
        "    best_DANN_model['LR'] = lr\n",
        "    best_DANN_model['STEP_SIZE'] = step\n",
        "    best_DANN_model['NUMBER_EPOCHS'] = epoch\n",
        "    best_DANN_model['accuracy'] = medium_accuracy\n",
        "    best_DANN_model['loss'] = loss\n",
        "    best_DANN_model['DomainLoss'] = dloss\n",
        "    best_DANN_model['TestDomainLoss'] = tdloss\n",
        "    max = medium_accuracy\n",
        "    print('lr {} step {} epochs {} accuracy_cartoon {} accuracy_sketch {} -> medium accuracy {}'.format(lr,step,epoch,acc_cart,acc_sk, max))\n",
        "    print('loss {} domain loss {} test domain loss {}'.format(loss,dloss,tdloss))"
      ],
      "execution_count": 0,
      "outputs": []
    }
  ]
}